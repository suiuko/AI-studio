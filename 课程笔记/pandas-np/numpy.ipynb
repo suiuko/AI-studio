{
 "cells": [
  {
   "cell_type": "markdown",
   "id": "c66fba5b",
   "metadata": {
    "toc": true
   },
   "source": [
    "<h1>Table of Contents<span class=\"tocSkip\"></span></h1>\n",
    "<div class=\"toc\"><ul class=\"toc-item\"><li><span><a href=\"#创建和生成\" data-toc-modified-id=\"创建和生成-1\">创建和生成</a></span><ul class=\"toc-item\"><li><span><a href=\"#从-python-列表或元组创建\" data-toc-modified-id=\"从-python-列表或元组创建-1.1\">从 python 列表或元组创建</a></span></li><li><span><a href=\"#使用-arange-生成\" data-toc-modified-id=\"使用-arange-生成-1.2\">使用 arange 生成</a></span></li><li><span><a href=\"#使用-linspace/logspace-生成\" data-toc-modified-id=\"使用-linspace/logspace-生成-1.3\">使用 linspace/logspace 生成</a></span><ul class=\"toc-item\"><li><span><a href=\"#np.linspace\" data-toc-modified-id=\"np.linspace-1.3.1\"><code>np.linspace</code></a></span></li></ul></li><li><span><a href=\"#使用-ones/zeros-创建\" data-toc-modified-id=\"使用-ones/zeros-创建-1.4\">使用 ones/zeros 创建</a></span></li><li><span><a href=\"#使用-random-生成\" data-toc-modified-id=\"使用-random-生成-1.5\">使用 random 生成</a></span></li><li><span><a href=\"#从文件读取\" data-toc-modified-id=\"从文件读取-1.6\">从文件读取</a></span></li></ul></li><li><span><a href=\"#统计和属性\" data-toc-modified-id=\"统计和属性-2\">统计和属性</a></span><ul class=\"toc-item\"><li><span><a href=\"#尺寸相关\" data-toc-modified-id=\"尺寸相关-2.1\">尺寸相关</a></span><ul class=\"toc-item\"><li><span><a href=\"#np.shape\" data-toc-modified-id=\"np.shape-2.1.1\"><code>np.shape</code></a></span></li></ul></li><li><span><a href=\"#最值分位\" data-toc-modified-id=\"最值分位-2.2\">最值分位</a></span><ul class=\"toc-item\"><li><span><a href=\"#np.max/min\" data-toc-modified-id=\"np.max/min-2.2.1\"><code>np.max/min</code></a></span></li></ul></li><li><span><a href=\"#平均求和标准差\" data-toc-modified-id=\"平均求和标准差-2.3\">平均求和标准差</a></span><ul class=\"toc-item\"><li><span><a href=\"#np.average\" data-toc-modified-id=\"np.average-2.3.1\"><code>np.average</code></a></span></li><li><span><a href=\"#np.sum\" data-toc-modified-id=\"np.sum-2.3.2\"><code>np.sum</code></a></span></li></ul></li></ul></li><li><span><a href=\"#形状和转换\" data-toc-modified-id=\"形状和转换-3\">形状和转换</a></span><ul class=\"toc-item\"><li><span><a href=\"#改变形状\" data-toc-modified-id=\"改变形状-3.1\">改变形状</a></span><ul class=\"toc-item\"><li><span><a href=\"#np.expand_dims\" data-toc-modified-id=\"np.expand_dims-3.1.1\"><code>np.expand_dims</code></a></span></li><li><span><a href=\"#np.squeeze\" data-toc-modified-id=\"np.squeeze-3.1.2\"><code>np.squeeze</code></a></span></li><li><span><a href=\"#np.reshape/arr.reshape\" data-toc-modified-id=\"np.reshape/arr.reshape-3.1.3\"><code>np.reshape/arr.reshape</code></a></span></li></ul></li><li><span><a href=\"#反序\" data-toc-modified-id=\"反序-3.2\">反序</a></span></li><li><span><a href=\"#转置\" data-toc-modified-id=\"转置-3.3\">转置</a></span><ul class=\"toc-item\"><li><span><a href=\"#arr.T\" data-toc-modified-id=\"arr.T-3.3.1\"><code>arr.T</code></a></span></li><li><span><a href=\"#np.transpose\" data-toc-modified-id=\"np.transpose-3.3.2\"><code>np.transpose</code></a></span></li></ul></li></ul></li><li><span><a href=\"#分解和组合\" data-toc-modified-id=\"分解和组合-4\">分解和组合</a></span><ul class=\"toc-item\"><li><span><a href=\"#切片和索引\" data-toc-modified-id=\"切片和索引-4.1\">切片和索引</a></span><ul class=\"toc-item\"><li><span><a href=\"#index/slice\" data-toc-modified-id=\"index/slice-4.1.1\"><code>index/slice</code></a></span></li></ul></li><li><span><a href=\"#拼接\" data-toc-modified-id=\"拼接-4.2\">拼接</a></span><ul class=\"toc-item\"><li><span><a href=\"#np.concatenate\" data-toc-modified-id=\"np.concatenate-4.2.1\"><code>np.concatenate</code></a></span></li><li><span><a href=\"#np.stack\" data-toc-modified-id=\"np.stack-4.2.2\"><code>np.stack</code></a></span></li></ul></li><li><span><a href=\"#重复\" data-toc-modified-id=\"重复-4.3\">重复</a></span></li><li><span><a href=\"#分拆\" data-toc-modified-id=\"分拆-4.4\">分拆</a></span><ul class=\"toc-item\"><li><span><a href=\"#np.split\" data-toc-modified-id=\"np.split-4.4.1\"><code>np.split</code></a></span></li></ul></li></ul></li><li><span><a href=\"#筛选和过滤\" data-toc-modified-id=\"筛选和过滤-5\">筛选和过滤</a></span><ul class=\"toc-item\"><li><span><a href=\"#条件筛选\" data-toc-modified-id=\"条件筛选-5.1\">条件筛选</a></span></li><li><span><a href=\"#提取\" data-toc-modified-id=\"提取-5.2\">提取</a></span></li><li><span><a href=\"#抽样\" data-toc-modified-id=\"抽样-5.3\">抽样</a></span></li><li><span><a href=\"#最值-Index\" data-toc-modified-id=\"最值-Index-5.4\">最值 Index</a></span><ul class=\"toc-item\"><li><span><a href=\"#np.argmax/argmin\" data-toc-modified-id=\"np.argmax/argmin-5.4.1\"><code>np.argmax/argmin</code></a></span></li><li><span><a href=\"#np.argsort\" data-toc-modified-id=\"np.argsort-5.4.2\"><code>np.argsort</code></a></span></li></ul></li></ul></li><li><span><a href=\"#矩阵和运算\" data-toc-modified-id=\"矩阵和运算-6\">矩阵和运算</a></span><ul class=\"toc-item\"><li><span><a href=\"#算术\" data-toc-modified-id=\"算术-6.1\">算术</a></span></li><li><span><a href=\"#矩阵\" data-toc-modified-id=\"矩阵-6.2\">矩阵</a></span><ul class=\"toc-item\"><li><span><a href=\"#arr.dot\" data-toc-modified-id=\"arr.dot-6.2.1\"><code>arr.dot</code></a></span></li><li><span><a href=\"#np.matmul\" data-toc-modified-id=\"np.matmul-6.2.2\"><code>np.matmul</code></a></span></li></ul></li></ul></li><li><span><a href=\"#小结和心得\" data-toc-modified-id=\"小结和心得-7\">小结和心得</a></span><ul class=\"toc-item\"><li><span><a href=\"#内容小结\" data-toc-modified-id=\"内容小结-7.1\">内容小结</a></span></li><li><span><a href=\"#心得技巧\" data-toc-modified-id=\"心得技巧-7.2\">心得技巧</a></span></li></ul></li><li><span><a href=\"#巩固和练习\" data-toc-modified-id=\"巩固和练习-8\">巩固和练习</a></span><ul class=\"toc-item\"><li><span><a href=\"#基础题目1\" data-toc-modified-id=\"基础题目1-8.1\">基础题目1</a></span></li><li><span><a href=\"#基础题目2\" data-toc-modified-id=\"基础题目2-8.2\">基础题目2</a></span></li><li><span><a href=\"#进阶题目\" data-toc-modified-id=\"进阶题目-8.3\">进阶题目</a></span></li></ul></li><li><span><a href=\"#解答和参考\" data-toc-modified-id=\"解答和参考-9\">解答和参考</a></span><ul class=\"toc-item\"><li><span><a href=\"#基础题目1\" data-toc-modified-id=\"基础题目1-9.1\">基础题目1</a></span></li><li><span><a href=\"#基础题目2\" data-toc-modified-id=\"基础题目2-9.2\">基础题目2</a></span></li><li><span><a href=\"#进阶题目\" data-toc-modified-id=\"进阶题目-9.3\">进阶题目</a></span></li></ul></li><li><span><a href=\"#文献和资料\" data-toc-modified-id=\"文献和资料-10\">文献和资料</a></span></li></ul></div>"
   ]
  },
  {
   "cell_type": "markdown",
   "id": "6e17e634",
   "metadata": {},
   "source": [
    "本教程内容旨在帮助没有基础的同学快速掌握 `numpy` 的常用功能，保证日常绝大多数场景的使用。可作为机器学习或深度学习的先修课程，也可作为快速备查手册。\n",
    "\n",
    "值得一提的是，深度学习的各大框架很多 API 和 `numpy` 也是一脉相承的哦，可以说 `numpy` 玩儿熟了，几个深度学习框架的不少 API 也同时学会了。\n",
    "\n",
    "\n",
    "教程原则如下：\n",
    "\n",
    "- 偏实用高频 API\n",
    "- 展示实际用法\n",
    "- 简单直接\n",
    "\n",
    "使用说明如下：\n",
    "\n",
    "- 每一小节都有⭐（1-5个）表示重要程度，越多越重要\n",
    "- 每一小节下重要的会单独列成一个更小的小节，可以通过目录直接访问。其中分割线下面的可以补充了解\n",
    "- ⚠️ 表示需要特别注意的\n",
    "\n",
    "\n",
    "**特别需要提醒的是**，您在使用的过程中无须过多关注 API 各种参数细节，教程提供的用法足以应付绝大部分场景，更深入的使用方式可以自行根据需要探索或学习后续的《基础教程》。"
   ]
  },
  {
   "cell_type": "code",
   "execution_count": 116,
   "id": "04aa4452",
   "metadata": {},
   "outputs": [],
   "source": [
    "# 导入 library\n",
    "import numpy as np\n",
    "# 画图工具\n",
    "import matplotlib.pyplot as plt"
   ]
  },
  {
   "cell_type": "markdown",
   "id": "9c84b592",
   "metadata": {},
   "source": [
    "## 创建和生成\n",
    "\n",
    "本节主要介绍 array 的创建和生成。为什么会把这个放在最前面呢？主要有以下两个方面原因：\n",
    "\n",
    "- 在实际工作过程中，我们时不时需要验证或查看 array 相关的 API 或互操作。\n",
    "- 有时候在使用 sklearn，matplotlib，PyTorch，Tensorflow 等工具时也需要一些简单的数据进行实验。\n",
    "\n",
    "所以，先学会如何快速拿到一个 array 是有很多益处的。本节我们主要介绍以下几种常用的创建方式：\n",
    "\n",
    "- 使用列表或元组\n",
    "- 使用 arange\n",
    "- 使用 linspace/logspace\n",
    "- 使用 ones/zeros\n",
    "- 使用 random\n",
    "- 从文件读取\n",
    "\n",
    "其中，最常用的一般是 linspace/logspace 和 random，前者常常用在画坐标轴上，后者则用于生成「模拟数据」。举例来说，当我们需要画一个函数的图像时，X 往往使用 linspace 生成，然后使用函数公式求得 Y，再 plot；当我们需要构造一些输入（比如 X）或中间输入（比如 Embedding、hidden state）时，random 会异常方便。"
   ]
  },
  {
   "cell_type": "markdown",
   "id": "b185e482",
   "metadata": {},
   "source": [
    "### 从 python 列表或元组创建\n",
    "\n",
    "⭐⭐ 重点掌握传入 list 创建一个 array 即可：`np.array(list)`\n",
    "\n",
    "\n",
    "⚠️ 需要注意的是：「数据类型」。如果您足够仔细的话，可以发现下面第二组代码第 2 个数字是「小数」（注：Python 中 1. == 1.0），而 array 是要保证每个元素类型相同的，所以会帮您把 array 转为一个 float 的类型。"
   ]
  },
  {
   "cell_type": "code",
   "execution_count": 2,
   "id": "58e07828",
   "metadata": {
    "scrolled": true
   },
   "outputs": [
    {
     "data": {
      "text/plain": [
       "array([1, 2, 3])"
      ]
     },
     "execution_count": 2,
     "metadata": {},
     "output_type": "execute_result"
    }
   ],
   "source": [
    "# 一个 list\n",
    "np.array([1,2,3])"
   ]
  },
  {
   "cell_type": "code",
   "execution_count": 3,
   "id": "45d3b3c2",
   "metadata": {
    "scrolled": true
   },
   "outputs": [
    {
     "data": {
      "text/plain": [
       "array([[1., 2., 3.],\n",
       "       [4., 5., 6.]])"
      ]
     },
     "execution_count": 3,
     "metadata": {},
     "output_type": "execute_result"
    }
   ],
   "source": [
    "# 二维（多维类似）\n",
    "# 注意，有一个小数哦\n",
    "np.array([[1, 2., 3], [4, 5, 6]])"
   ]
  },
  {
   "cell_type": "code",
   "execution_count": 322,
   "id": "e1ecc4e8",
   "metadata": {},
   "outputs": [
    {
     "data": {
      "text/plain": [
       "array([1., 2., 3.], dtype=float16)"
      ]
     },
     "execution_count": 322,
     "metadata": {},
     "output_type": "execute_result"
    }
   ],
   "source": [
    "# 您也可以指定数据类型\n",
    "np.array([1, 2, 3], dtype=np.float16)"
   ]
  },
  {
   "cell_type": "code",
   "execution_count": 117,
   "id": "98412f28",
   "metadata": {
    "scrolled": true
   },
   "outputs": [
    {
     "data": {
      "text/plain": [
       "array([[1, 2, 3],\n",
       "       [4, 5, 6]], dtype=int32)"
      ]
     },
     "execution_count": 117,
     "metadata": {},
     "output_type": "execute_result"
    }
   ],
   "source": [
    "# 如果指定了 dtype，输入的值都会被转为对应的类型，而且不会四舍五入\n",
    "lst = [\n",
    "    [1, 2, 3],\n",
    "    [4, 5, 6.8]\n",
    "]\n",
    "np.array(lst, dtype=np.int32)"
   ]
  },
  {
   "cell_type": "markdown",
   "id": "370ce7ef",
   "metadata": {},
   "source": [
    "---"
   ]
  },
  {
   "cell_type": "code",
   "execution_count": 3,
   "id": "7cfa2d40",
   "metadata": {},
   "outputs": [
    {
     "data": {
      "text/plain": [
       "array([1.1, 2.2])"
      ]
     },
     "execution_count": 3,
     "metadata": {},
     "output_type": "execute_result"
    }
   ],
   "source": [
    "# 一个 tuple\n",
    "np.array((1.1, 2.2))"
   ]
  },
  {
   "cell_type": "code",
   "execution_count": 5,
   "id": "4160904b",
   "metadata": {
    "scrolled": true
   },
   "outputs": [
    {
     "data": {
      "text/plain": [
       "array([[1.1, 2.2, 3.3],\n",
       "       [4.4, 5.5, 6.6]])"
      ]
     },
     "execution_count": 5,
     "metadata": {},
     "output_type": "execute_result"
    }
   ],
   "source": [
    "# tuple，一般用 list 就好，不需要使用 tuple\n",
    "np.array([(1.1, 2.2, 3.3), (4.4, 5.5, 6.6)])"
   ]
  },
  {
   "cell_type": "code",
   "execution_count": 7,
   "id": "061ab690",
   "metadata": {},
   "outputs": [
    {
     "data": {
      "text/plain": [
       "array([1, 2, 3])"
      ]
     },
     "execution_count": 7,
     "metadata": {},
     "output_type": "execute_result"
    }
   ],
   "source": [
    "# 转换而不是上面的创建，其实是类似的，无须过于纠结\n",
    "np.asarray((1,2,3))"
   ]
  },
  {
   "cell_type": "code",
   "execution_count": 7,
   "id": "435b123d",
   "metadata": {
    "scrolled": true
   },
   "outputs": [
    {
     "data": {
      "text/plain": [
       "array([[1., 2., 3.],\n",
       "       [4., 5., 6.]])"
      ]
     },
     "execution_count": 7,
     "metadata": {},
     "output_type": "execute_result"
    }
   ],
   "source": [
    "np.asarray(([1., 2., 3.], (4., 5., 6.)))"
   ]
  },
  {
   "cell_type": "markdown",
   "id": "5f40557b",
   "metadata": {},
   "source": [
    "### 使用 arange 生成\n",
    "\n",
    "⭐⭐\n",
    "\n",
    "range 是 Python 内置的整数序列生成器，arange 是 numpy 的，效果类似，会生成一维的向量。我们偶尔会需要使用这种方式来构造 array，比如：\n",
    "\n",
    "- 需要创建一个连续一维向量作为输入（比如编码位置时可以使用）\n",
    "- 需要观察筛选、抽样的结果时，有序的 array 一般更加容易观察\n",
    "\n",
    "⚠️ 需要注意的是：在 `reshape` 时，目标的 shape 需要的元素数量一定要和原始的元素数量相等。"
   ]
  },
  {
   "cell_type": "code",
   "execution_count": 8,
   "id": "e609435f",
   "metadata": {
    "scrolled": true
   },
   "outputs": [
    {
     "data": {
      "text/plain": [
       "array([[ 0,  1,  2,  3],\n",
       "       [ 4,  5,  6,  7],\n",
       "       [ 8,  9, 10, 11]])"
      ]
     },
     "execution_count": 8,
     "metadata": {},
     "output_type": "execute_result"
    }
   ],
   "source": [
    "np.arange(12).reshape(3, 4)"
   ]
  },
  {
   "cell_type": "code",
   "execution_count": 9,
   "id": "de57497a",
   "metadata": {},
   "outputs": [
    {
     "data": {
      "text/plain": [
       "array([[ 0.,  1.,  2.],\n",
       "       [ 3.,  4.,  5.],\n",
       "       [ 6.,  7.,  8.],\n",
       "       [ 9., 10., 11.]])"
      ]
     },
     "execution_count": 9,
     "metadata": {},
     "output_type": "execute_result"
    }
   ],
   "source": [
    "# 注意，是小数哦\n",
    "np.arange(12.0).reshape(4, 3)"
   ]
  },
  {
   "cell_type": "code",
   "execution_count": 19,
   "id": "360f3d0b",
   "metadata": {},
   "outputs": [
    {
     "data": {
      "text/plain": [
       "array([[[100, 102],\n",
       "        [104, 106]],\n",
       "\n",
       "       [[108, 110],\n",
       "        [112, 114]],\n",
       "\n",
       "       [[116, 118],\n",
       "        [120, 122]]])"
      ]
     },
     "execution_count": 19,
     "metadata": {},
     "output_type": "execute_result"
    }
   ],
   "source": [
    "np.arange(100, 124, 2).reshape(3, 2, 2)"
   ]
  },
  {
   "cell_type": "code",
   "execution_count": 20,
   "id": "8b07537d",
   "metadata": {},
   "outputs": [
    {
     "ename": "ValueError",
     "evalue": "cannot reshape array of size 12 into shape (2,3,4)",
     "output_type": "error",
     "traceback": [
      "\u001b[0;31m---------------------------------------------------------------------------\u001b[0m",
      "\u001b[0;31mValueError\u001b[0m                                Traceback (most recent call last)",
      "\u001b[0;32m<ipython-input-20-fc850bf3c646>\u001b[0m in \u001b[0;36m<module>\u001b[0;34m\u001b[0m\n\u001b[0;32m----> 1\u001b[0;31m \u001b[0mnp\u001b[0m\u001b[0;34m.\u001b[0m\u001b[0marange\u001b[0m\u001b[0;34m(\u001b[0m\u001b[0;36m100.\u001b[0m\u001b[0;34m,\u001b[0m \u001b[0;36m124.\u001b[0m\u001b[0;34m,\u001b[0m \u001b[0;36m2\u001b[0m\u001b[0;34m)\u001b[0m\u001b[0;34m.\u001b[0m\u001b[0mreshape\u001b[0m\u001b[0;34m(\u001b[0m\u001b[0;36m2\u001b[0m\u001b[0;34m,\u001b[0m\u001b[0;36m3\u001b[0m\u001b[0;34m,\u001b[0m\u001b[0;36m4\u001b[0m\u001b[0;34m)\u001b[0m\u001b[0;34m\u001b[0m\u001b[0;34m\u001b[0m\u001b[0m\n\u001b[0m",
      "\u001b[0;31mValueError\u001b[0m: cannot reshape array of size 12 into shape (2,3,4)"
     ]
    }
   ],
   "source": [
    "# shape size 相乘要和生成的元素数量一致\n",
    "np.arange(100., 124., 2).reshape(2,3,4)"
   ]
  },
  {
   "cell_type": "markdown",
   "id": "7d40c228",
   "metadata": {},
   "source": [
    "### 使用 linspace/logspace 生成\n",
    "\n",
    "⭐⭐⭐\n",
    "\n",
    "OK，这是我们遇到的第一个比较重要的 API，前者需要传入 3 个参数：开头，结尾，数量；后者需要额外传入一个 base，它默认是 10。\n",
    "\n",
    "⚠️ 需要注意的是：第三个参数并**不是**步长。"
   ]
  },
  {
   "cell_type": "markdown",
   "id": "b59eb49d",
   "metadata": {},
   "source": [
    "#### `np.linspace`"
   ]
  },
  {
   "cell_type": "code",
   "execution_count": 12,
   "id": "41cc2425",
   "metadata": {},
   "outputs": [
    {
     "data": {
      "text/plain": [
       "array([[0., 1., 2., 3., 4.],\n",
       "       [5., 6., 7., 8., 9.]])"
      ]
     },
     "execution_count": 12,
     "metadata": {},
     "output_type": "execute_result"
    }
   ],
   "source": [
    "# 线性\n",
    "np.linspace(0, 9, 10).reshape(2, 5)"
   ]
  },
  {
   "cell_type": "code",
   "execution_count": 13,
   "id": "52e28f09",
   "metadata": {},
   "outputs": [
    {
     "data": {
      "text/plain": [
       "array([[0. , 1.8, 3.6],\n",
       "       [5.4, 7.2, 9. ]])"
      ]
     },
     "execution_count": 13,
     "metadata": {},
     "output_type": "execute_result"
    }
   ],
   "source": [
    "np.linspace(0, 9, 6).reshape(2, 3)"
   ]
  },
  {
   "cell_type": "markdown",
   "id": "daf5d165",
   "metadata": {},
   "source": [
    "---"
   ]
  },
  {
   "cell_type": "code",
   "execution_count": 25,
   "id": "16b13ef2",
   "metadata": {
    "scrolled": true
   },
   "outputs": [
    {
     "data": {
      "text/plain": [
       "array([[1.00000000e+00, 6.04964746e+00, 3.65982344e+01],\n",
       "       [2.21406416e+02, 1.33943076e+03, 8.10308393e+03]])"
      ]
     },
     "execution_count": 25,
     "metadata": {},
     "output_type": "execute_result"
    }
   ],
   "source": [
    "# 指数 base 默认为 10\n",
    "np.logspace(0, 9, 6, base=np.e).reshape(2, 3)"
   ]
  },
  {
   "cell_type": "code",
   "execution_count": 15,
   "id": "6b463300",
   "metadata": {},
   "outputs": [
    {
     "data": {
      "text/plain": [
       "array([[0. , 1.8, 3.6],\n",
       "       [5.4, 7.2, 9. ]])"
      ]
     },
     "execution_count": 15,
     "metadata": {},
     "output_type": "execute_result"
    }
   ],
   "source": [
    "# _ 表示上（最近）一个输出\n",
    "# logspace 结果 log 后就是上面 linspace 的结果\n",
    "np.log(_)"
   ]
  },
  {
   "cell_type": "markdown",
   "id": "d1bf7176",
   "metadata": {},
   "source": [
    "下面我们更进一步看一下："
   ]
  },
  {
   "cell_type": "code",
   "execution_count": 169,
   "id": "49bf8d9e",
   "metadata": {
    "scrolled": true
   },
   "outputs": [
    {
     "data": {
      "image/png": "[encoded data removed]",
      "text/plain": [
       "<Figure size 432x288 with 1 Axes>"
      ]
     },
     "metadata": {
      "needs_background": "light"
     },
     "output_type": "display_data"
    }
   ],
   "source": [
    "N = 20\n",
    "x = np.arange(N)\n",
    "y1 = np.linspace(0, 10, N) * 100\n",
    "y2 = np.logspace(0, 10, N, base=2)\n",
    "\n",
    "plt.plot(x, y2, '*');\n",
    "plt.plot(x, y1, 'o');"
   ]
  },
  {
   "cell_type": "code",
   "execution_count": 164,
   "id": "96904bec",
   "metadata": {},
   "outputs": [
    {
     "data": {
      "text/plain": [
       "True"
      ]
     },
     "execution_count": 164,
     "metadata": {},
     "output_type": "execute_result"
    }
   ],
   "source": [
    "# 检查每个元素是否为 True\n",
    "# base 的 指数为 linspace 得到的就是 logspace\n",
    "np.alltrue(2 ** np.linspace(0, 10, N)  == y2)"
   ]
  },
  {
   "cell_type": "markdown",
   "id": "dad3ad93",
   "metadata": {},
   "source": [
    ">⚠️ 补充：关于 array 的条件判断"
   ]
  },
  {
   "cell_type": "code",
   "execution_count": 215,
   "id": "c781975b",
   "metadata": {},
   "outputs": [
    {
     "data": {
      "text/plain": [
       "array([False, False,  True])"
      ]
     },
     "execution_count": 215,
     "metadata": {},
     "output_type": "execute_result"
    }
   ],
   "source": [
    "# 不能直接用 if 判断 array 是否符合某个条件\n",
    "arr = np.array([1, 2, 3])\n",
    "cond1 = arr > 2\n",
    "cond1"
   ]
  },
  {
   "cell_type": "code",
   "execution_count": 184,
   "id": "5e9aa019",
   "metadata": {},
   "outputs": [
    {
     "ename": "ValueError",
     "evalue": "The truth value of an array with more than one element is ambiguous. Use a.any() or a.all()",
     "output_type": "error",
     "traceback": [
      "\u001b[0;31m---------------------------------------------------------------------------\u001b[0m",
      "\u001b[0;31mValueError\u001b[0m                                Traceback (most recent call last)",
      "\u001b[0;32m<ipython-input-184-6bd8dc445309>\u001b[0m in \u001b[0;36m<module>\u001b[0;34m\u001b[0m\n\u001b[0;32m----> 1\u001b[0;31m \u001b[0;32mif\u001b[0m \u001b[0mcond1\u001b[0m\u001b[0;34m:\u001b[0m\u001b[0;34m\u001b[0m\u001b[0;34m\u001b[0m\u001b[0m\n\u001b[0m\u001b[1;32m      2\u001b[0m     \u001b[0mprint\u001b[0m\u001b[0;34m(\u001b[0m\u001b[0;34m\"这不行\"\u001b[0m\u001b[0;34m)\u001b[0m\u001b[0;34m\u001b[0m\u001b[0;34m\u001b[0m\u001b[0m\n",
      "\u001b[0;31mValueError\u001b[0m: The truth value of an array with more than one element is ambiguous. Use a.any() or a.all()"
     ]
    }
   ],
   "source": [
    "if cond1:\n",
    "    print(\"这不行\")"
   ]
  },
  {
   "cell_type": "code",
   "execution_count": 185,
   "id": "e206de5e",
   "metadata": {},
   "outputs": [
    {
     "data": {
      "text/plain": [
       "array([ True,  True,  True])"
      ]
     },
     "execution_count": 185,
     "metadata": {},
     "output_type": "execute_result"
    }
   ],
   "source": [
    "# 即便你全是 True 它也不行\n",
    "arr = np.array([1, 2, 3])\n",
    "cond2 = arr > 0\n",
    "cond2"
   ]
  },
  {
   "cell_type": "code",
   "execution_count": 187,
   "id": "7a466aae",
   "metadata": {},
   "outputs": [
    {
     "ename": "ValueError",
     "evalue": "The truth value of an array with more than one element is ambiguous. Use a.any() or a.all()",
     "output_type": "error",
     "traceback": [
      "\u001b[0;31m---------------------------------------------------------------------------\u001b[0m",
      "\u001b[0;31mValueError\u001b[0m                                Traceback (most recent call last)",
      "\u001b[0;32m<ipython-input-187-7fedc8ba71a0>\u001b[0m in \u001b[0;36m<module>\u001b[0;34m\u001b[0m\n\u001b[0;32m----> 1\u001b[0;31m \u001b[0;32mif\u001b[0m \u001b[0mcond2\u001b[0m\u001b[0;34m:\u001b[0m\u001b[0;34m\u001b[0m\u001b[0;34m\u001b[0m\u001b[0m\n\u001b[0m\u001b[1;32m      2\u001b[0m     \u001b[0mprint\u001b[0m\u001b[0;34m(\u001b[0m\u001b[0;34m\"这还不行\"\u001b[0m\u001b[0;34m)\u001b[0m\u001b[0;34m\u001b[0m\u001b[0;34m\u001b[0m\u001b[0m\n",
      "\u001b[0;31mValueError\u001b[0m: The truth value of an array with more than one element is ambiguous. Use a.any() or a.all()"
     ]
    }
   ],
   "source": [
    "if cond2:\n",
    "    print(\"这还不行\")"
   ]
  },
  {
   "cell_type": "code",
   "execution_count": 188,
   "id": "a1b625b1",
   "metadata": {},
   "outputs": [
    {
     "name": "stdout",
     "output_type": "stream",
     "text": [
      "只要有一个为True就可以，所以——我可以\n"
     ]
    }
   ],
   "source": [
    "# 咱们只能用 any 或 all，这个很容易犯错，请务必注意。\n",
    "if cond1.any():\n",
    "    print(\"只要有一个为True就可以，所以——我可以\")"
   ]
  },
  {
   "cell_type": "code",
   "execution_count": 189,
   "id": "4720f26f",
   "metadata": {},
   "outputs": [
    {
     "name": "stdout",
     "output_type": "stream",
     "text": [
      "所有值为True才可以，我正好这样\n"
     ]
    }
   ],
   "source": [
    "if cond2.all():\n",
    "    print(\"所有值为True才可以，我正好这样\")"
   ]
  },
  {
   "cell_type": "markdown",
   "id": "ecb6e4be",
   "metadata": {},
   "source": [
    "### 使用 ones/zeros 创建\n",
    "\n",
    "⭐\n",
    "\n",
    "创建全 1/0 array 的快捷方式。需要注意的是 `np.zeros_like` 或 `np.ones_like`，二者可以快速生成给定 array 一样 shape 的 0 或 1 向量，这在需要 Mask 某些位置时可能会用到。\n",
    "\n",
    "⚠️ 需要注意的是：创建出来的 array 默认是 float 类型。"
   ]
  },
  {
   "cell_type": "code",
   "execution_count": 25,
   "id": "b9dbb374",
   "metadata": {
    "scrolled": true
   },
   "outputs": [
    {
     "data": {
      "text/plain": [
       "array([1., 1., 1.])"
      ]
     },
     "execution_count": 25,
     "metadata": {},
     "output_type": "execute_result"
    }
   ],
   "source": [
    "np.ones(3)"
   ]
  },
  {
   "cell_type": "code",
   "execution_count": 17,
   "id": "d8f2ebe6",
   "metadata": {},
   "outputs": [
    {
     "data": {
      "text/plain": [
       "array([[1., 1., 1.],\n",
       "       [1., 1., 1.]])"
      ]
     },
     "execution_count": 17,
     "metadata": {},
     "output_type": "execute_result"
    }
   ],
   "source": [
    "np.ones((2, 3))"
   ]
  },
  {
   "cell_type": "code",
   "execution_count": 18,
   "id": "4a3e63c3",
   "metadata": {
    "scrolled": true
   },
   "outputs": [
    {
     "data": {
      "text/plain": [
       "array([[[0., 0., 0., 0.],\n",
       "        [0., 0., 0., 0.],\n",
       "        [0., 0., 0., 0.]],\n",
       "\n",
       "       [[0., 0., 0., 0.],\n",
       "        [0., 0., 0., 0.],\n",
       "        [0., 0., 0., 0.]]])"
      ]
     },
     "execution_count": 18,
     "metadata": {},
     "output_type": "execute_result"
    }
   ],
   "source": [
    "np.zeros((2,3,4))"
   ]
  },
  {
   "cell_type": "code",
   "execution_count": 31,
   "id": "88b06ea1",
   "metadata": {},
   "outputs": [
    {
     "data": {
      "text/plain": [
       "array([[[0., 0., 0.],\n",
       "        [0., 0., 0.],\n",
       "        [0., 0., 0.]],\n",
       "\n",
       "       [[0., 0., 0.],\n",
       "        [0., 0., 0.],\n",
       "        [0., 0., 0.]]])"
      ]
     },
     "execution_count": 31,
     "metadata": {},
     "output_type": "execute_result"
    }
   ],
   "source": [
    "# 像给定向量那样的 0 向量（ones_like 是 1 向量）\n",
    "np.zeros_like(np.ones((2,3,3)))"
   ]
  },
  {
   "cell_type": "markdown",
   "id": "a73b3cd8",
   "metadata": {},
   "source": [
    "### 使用 random 生成\n",
    "\n",
    "⭐⭐⭐⭐⭐\n",
    "\n",
    "如果要在这一节选一个最重要的 API，那一定是 `random` 无疑了，这里我们只介绍几个比较常用的「生产」数据相关的 API。它们经常用于随机生成训练或测试数据，神经网路初始化等。\n",
    "\n",
    "⚠️ 需要注意的是：这里我们统一推荐使用新的 API 方式创建，即通过 `np.random.default_rng()` 先生成 `Generator`，然后再在此基础上生成各种分布的数据（记忆更加简便清晰）。不过我们依然会介绍旧的 API 用法，因为很多代码中使用的还是旧的，您可以混个眼熟。"
   ]
  },
  {
   "cell_type": "code",
   "execution_count": 39,
   "id": "5111fba1",
   "metadata": {},
   "outputs": [
    {
     "data": {
      "text/plain": [
       "array([[0.42508994, 0.5842191 , 0.09248675],\n",
       "       [0.656858  , 0.88171822, 0.81744539]])"
      ]
     },
     "execution_count": 39,
     "metadata": {},
     "output_type": "execute_result"
    }
   ],
   "source": [
    "# 0-1 连续均匀分布\n",
    "np.random.rand(2, 3)"
   ]
  },
  {
   "cell_type": "code",
   "execution_count": 37,
   "id": "6519f679",
   "metadata": {
    "scrolled": true
   },
   "outputs": [
    {
     "data": {
      "text/plain": [
       "0.29322641374172986"
      ]
     },
     "execution_count": 37,
     "metadata": {},
     "output_type": "execute_result"
    }
   ],
   "source": [
    "# 单个数\n",
    "np.random.rand()"
   ]
  },
  {
   "cell_type": "code",
   "execution_count": 42,
   "id": "0c7ac5ac",
   "metadata": {
    "scrolled": true
   },
   "outputs": [
    {
     "data": {
      "text/plain": [
       "array([[0.17586271, 0.5061715 ],\n",
       "       [0.14594537, 0.34365713],\n",
       "       [0.28714656, 0.40508807]])"
      ]
     },
     "execution_count": 42,
     "metadata": {},
     "output_type": "execute_result"
    }
   ],
   "source": [
    "# 0-1 连续均匀分布\n",
    "np.random.random((3, 2))"
   ]
  },
  {
   "cell_type": "code",
   "execution_count": 97,
   "id": "b17b7c7b",
   "metadata": {},
   "outputs": [
    {
     "data": {
      "text/plain": [
       "array([[ 0.66638982, -0.65327069, -0.21787878],\n",
       "       [-0.63552782,  0.51072282, -0.14968825]])"
      ]
     },
     "execution_count": 97,
     "metadata": {},
     "output_type": "execute_result"
    }
   ],
   "source": [
    "# 指定上下界的连续均匀分布\n",
    "np.random.uniform(-1, 1, (2, 3))"
   ]
  },
  {
   "cell_type": "code",
   "execution_count": 26,
   "id": "1c5e8458",
   "metadata": {},
   "outputs": [
    {
     "data": {
      "text/plain": [
       "Generator(PCG64) at 0x111B5C5E0"
      ]
     },
     "execution_count": 26,
     "metadata": {},
     "output_type": "execute_result"
    }
   ],
   "source": [
    "# 上面两个的区别是 shape 的输入方式不同，无伤大雅了\n",
    "# 不过从 1.17 版本后推荐这样使用（以后大家可以用新的方法）\n",
    "# rng 是个 Generator，可用于生成各种分布\n",
    "rng = np.random.default_rng(42)\n",
    "rng"
   ]
  },
  {
   "cell_type": "code",
   "execution_count": 133,
   "id": "d8fa5f19",
   "metadata": {
    "scrolled": true
   },
   "outputs": [
    {
     "data": {
      "text/plain": [
       "array([[0.77395605, 0.43887844, 0.85859792],\n",
       "       [0.69736803, 0.09417735, 0.97562235]])"
      ]
     },
     "execution_count": 133,
     "metadata": {},
     "output_type": "execute_result"
    }
   ],
   "source": [
    "# 推荐的连续均匀分布用法\n",
    "rng.random((2, 3))"
   ]
  },
  {
   "cell_type": "code",
   "execution_count": 53,
   "id": "e38855d2",
   "metadata": {},
   "outputs": [
    {
     "data": {
      "text/plain": [
       "array([[0.47673156, 0.59702442, 0.63523558],\n",
       "       [0.68631534, 0.77560864, 0.05803685]])"
      ]
     },
     "execution_count": 53,
     "metadata": {},
     "output_type": "execute_result"
    }
   ],
   "source": [
    "# 可以指定上下界，所以更加推荐这种用法\n",
    "rng.uniform(0, 1, (2, 3))"
   ]
  },
  {
   "cell_type": "code",
   "execution_count": 63,
   "id": "7828f30a",
   "metadata": {},
   "outputs": [
    {
     "data": {
      "text/plain": [
       "array([6, 3])"
      ]
     },
     "execution_count": 63,
     "metadata": {},
     "output_type": "execute_result"
    }
   ],
   "source": [
    "# 随机整数（离散均匀分布），不超过给定的值（10）\n",
    "np.random.randint(10, size=2)"
   ]
  },
  {
   "cell_type": "code",
   "execution_count": 65,
   "id": "870b1866",
   "metadata": {
    "scrolled": true
   },
   "outputs": [
    {
     "data": {
      "text/plain": [
       "array([[8, 6, 1],\n",
       "       [3, 8, 1]])"
      ]
     },
     "execution_count": 65,
     "metadata": {},
     "output_type": "execute_result"
    }
   ],
   "source": [
    "# 随机整数（离散均匀分布），指定上下界和 shape\n",
    "np.random.randint(0, 10, (2, 3))"
   ]
  },
  {
   "cell_type": "code",
   "execution_count": 80,
   "id": "9f66c906",
   "metadata": {
    "scrolled": true
   },
   "outputs": [
    {
     "data": {
      "text/plain": [
       "array([9, 7])"
      ]
     },
     "execution_count": 80,
     "metadata": {},
     "output_type": "execute_result"
    }
   ],
   "source": [
    "# 上面推荐的方法，指定大小和上界\n",
    "rng.integers(10, size=2)"
   ]
  },
  {
   "cell_type": "code",
   "execution_count": 75,
   "id": "8e483e47",
   "metadata": {},
   "outputs": [
    {
     "data": {
      "text/plain": [
       "array([[5, 9, 1],\n",
       "       [8, 5, 7]])"
      ]
     },
     "execution_count": 75,
     "metadata": {},
     "output_type": "execute_result"
    }
   ],
   "source": [
    "# 上面推荐的方法，指定上下界\n",
    "rng.integers(0, 10, (2, 3))"
   ]
  },
  {
   "cell_type": "code",
   "execution_count": 23,
   "id": "2824039b",
   "metadata": {
    "scrolled": true
   },
   "outputs": [
    {
     "data": {
      "text/plain": [
       "array([[-0.61241167, -0.55218849, -0.50470617, -1.35613877],\n",
       "       [-1.34665975, -0.74064846, -2.5181665 ,  0.66866357]])"
      ]
     },
     "execution_count": 23,
     "metadata": {},
     "output_type": "execute_result"
    }
   ],
   "source": [
    "# 标准正态分布\n",
    "np.random.randn(2, 4)"
   ]
  },
  {
   "cell_type": "code",
   "execution_count": 87,
   "id": "efe65783",
   "metadata": {
    "scrolled": true
   },
   "outputs": [
    {
     "data": {
      "text/plain": [
       "array([[ 0.09130331,  1.06124845, -0.79376776, -0.7004211 ],\n",
       "       [ 0.71545457,  1.24926923, -1.22117522,  1.23336317]])"
      ]
     },
     "execution_count": 87,
     "metadata": {},
     "output_type": "execute_result"
    }
   ],
   "source": [
    "# 上面推荐的标准正态分布用法\n",
    "rng.standard_normal((2, 4))"
   ]
  },
  {
   "cell_type": "code",
   "execution_count": 24,
   "id": "f68e0355",
   "metadata": {},
   "outputs": [
    {
     "data": {
      "text/plain": [
       "array([[ 0.30037773, -0.17462372,  0.23898533,  1.23235421,  0.90514996],\n",
       "       [ 0.90269753, -0.5679421 ,  0.8769029 ,  0.81726869, -0.59442623],\n",
       "       [ 0.31453468, -0.18190156, -2.95932929, -0.07164822, -0.23622439]])"
      ]
     },
     "execution_count": 24,
     "metadata": {},
     "output_type": "execute_result"
    }
   ],
   "source": [
    "# 高斯分布\n",
    "np.random.normal(0, 1, (3, 5))"
   ]
  },
  {
   "cell_type": "code",
   "execution_count": 90,
   "id": "64509225",
   "metadata": {
    "scrolled": true
   },
   "outputs": [
    {
     "data": {
      "text/plain": [
       "array([[ 2.20602146, -2.17590933,  0.80605092, -1.75363919,  0.08712213],\n",
       "       [ 0.33164095,  0.33921626,  0.45251278, -0.03281331, -0.74066207],\n",
       "       [-0.61835785, -0.56459129,  0.37724436, -0.81295739,  0.12044035]])"
      ]
     },
     "execution_count": 90,
     "metadata": {},
     "output_type": "execute_result"
    }
   ],
   "source": [
    "# 上面推荐的高斯分布用法\n",
    "rng.normal(0, 1, (3, 5))"
   ]
  },
  {
   "cell_type": "markdown",
   "id": "db7ae739",
   "metadata": {},
   "source": [
    "总之，一般会用的就是2个分布：均匀分布和正态（高斯）分布。另外，`size` 可以指定 shape。"
   ]
  },
  {
   "cell_type": "code",
   "execution_count": 211,
   "id": "73ee0a47",
   "metadata": {},
   "outputs": [],
   "source": [
    "rng = np.random.default_rng(42)"
   ]
  },
  {
   "cell_type": "code",
   "execution_count": 212,
   "id": "a6402170",
   "metadata": {},
   "outputs": [
    {
     "data": {
      "text/plain": [
       "array([0, 7, 6, 4, 4])"
      ]
     },
     "execution_count": 212,
     "metadata": {},
     "output_type": "execute_result"
    }
   ],
   "source": [
    "# 离散均匀分布\n",
    "rng.integers(low=0, high=10, size=5)"
   ]
  },
  {
   "cell_type": "code",
   "execution_count": 213,
   "id": "74cc1da1",
   "metadata": {},
   "outputs": [
    {
     "data": {
      "text/plain": [
       "array([6.97368029, 0.94177348, 9.75622352, 7.61139702, 7.86064305])"
      ]
     },
     "execution_count": 213,
     "metadata": {},
     "output_type": "execute_result"
    }
   ],
   "source": [
    "# 连续均匀分布\n",
    "rng.uniform(low=0, high=10, size=5)"
   ]
  },
  {
   "cell_type": "code",
   "execution_count": 214,
   "id": "4fafba91",
   "metadata": {},
   "outputs": [
    {
     "data": {
      "text/plain": [
       "array([[-0.01680116, -0.85304393,  0.87939797],\n",
       "       [ 0.77779194,  0.0660307 ,  1.12724121]])"
      ]
     },
     "execution_count": 214,
     "metadata": {},
     "output_type": "execute_result"
    }
   ],
   "source": [
    "# 正态（高斯）分布\n",
    "rng.normal(loc=0.0, scale=1.0, size=(2, 3))"
   ]
  },
  {
   "cell_type": "markdown",
   "id": "aa6aa46c",
   "metadata": {},
   "source": [
    "### 从文件读取\n",
    "\n",
    "⭐\n",
    "\n",
    "这小节主要用于加载实现存储好的权重参数或预处理好的数据集，有时候会比较方便，比如训练好的模型参数加载到内存里用来提供推理服务，或者耗时很久的预处理数据直接存起来，多次实验时不需要重新处理。\n",
    "\n",
    "⚠️ 需要注意的是：存储时不需要写文件名后缀，会自动添加。"
   ]
  },
  {
   "cell_type": "code",
   "execution_count": 26,
   "id": "d0262b3d",
   "metadata": {},
   "outputs": [],
   "source": [
    "# 直接将给定矩阵存为 a.npy\n",
    "np.save('./data/a', np.array([[1, 2, 3], [4, 5, 6]]))"
   ]
  },
  {
   "cell_type": "code",
   "execution_count": 27,
   "id": "50f9798f",
   "metadata": {},
   "outputs": [],
   "source": [
    "# 可以将多个矩阵存在一起，名为 `b.npz`\n",
    "np.savez(\"./data/b\", a=np.arange(12).reshape(3, 4), b=np.arange(12.).reshape(4, 3))"
   ]
  },
  {
   "cell_type": "code",
   "execution_count": 102,
   "id": "b5c9af9b",
   "metadata": {},
   "outputs": [],
   "source": [
    "# 和上一个一样，只是压缩了\n",
    "np.savez_compressed(\"./data/c\", a=np.arange(12).reshape(3, 4), b=np.arange(12.).reshape(4, 3))"
   ]
  },
  {
   "cell_type": "code",
   "execution_count": 104,
   "id": "13b4acad",
   "metadata": {
    "scrolled": true
   },
   "outputs": [
    {
     "data": {
      "text/plain": [
       "array([[1, 2, 3],\n",
       "       [4, 5, 6]])"
      ]
     },
     "execution_count": 104,
     "metadata": {},
     "output_type": "execute_result"
    }
   ],
   "source": [
    "# 加载单个 array\n",
    "np.load(\"data/a.npy\")"
   ]
  },
  {
   "cell_type": "code",
   "execution_count": 105,
   "id": "a8ab8ab1",
   "metadata": {},
   "outputs": [],
   "source": [
    "# 加载多个，可以像字典那样取出对应的 array\n",
    "arr = np.load(\"data/b.npz\")"
   ]
  },
  {
   "cell_type": "code",
   "execution_count": 106,
   "id": "2f4476cd",
   "metadata": {},
   "outputs": [
    {
     "data": {
      "text/plain": [
       "array([[ 0,  1,  2,  3],\n",
       "       [ 4,  5,  6,  7],\n",
       "       [ 8,  9, 10, 11]])"
      ]
     },
     "execution_count": 106,
     "metadata": {},
     "output_type": "execute_result"
    }
   ],
   "source": [
    "arr[\"a\"]"
   ]
  },
  {
   "cell_type": "code",
   "execution_count": 107,
   "id": "8ce76fa6",
   "metadata": {},
   "outputs": [
    {
     "data": {
      "text/plain": [
       "array([[ 0.,  1.,  2.],\n",
       "       [ 3.,  4.,  5.],\n",
       "       [ 6.,  7.,  8.],\n",
       "       [ 9., 10., 11.]])"
      ]
     },
     "execution_count": 107,
     "metadata": {},
     "output_type": "execute_result"
    }
   ],
   "source": [
    "arr[\"b\"]"
   ]
  },
  {
   "cell_type": "code",
   "execution_count": 108,
   "id": "b89f10cc",
   "metadata": {},
   "outputs": [],
   "source": [
    "# 后缀都一样，你干脆当它和上面的没区别即可\n",
    "arr = np.load(\"data/c.npz\")"
   ]
  },
  {
   "cell_type": "code",
   "execution_count": 109,
   "id": "ebdc5dff",
   "metadata": {},
   "outputs": [
    {
     "data": {
      "text/plain": [
       "array([[ 0.,  1.,  2.],\n",
       "       [ 3.,  4.,  5.],\n",
       "       [ 6.,  7.,  8.],\n",
       "       [ 9., 10., 11.]])"
      ]
     },
     "execution_count": 109,
     "metadata": {},
     "output_type": "execute_result"
    }
   ],
   "source": [
    "arr[\"b\"]"
   ]
  },
  {
   "cell_type": "markdown",
   "id": "1d3f584d",
   "metadata": {},
   "source": [
    "## 统计和属性\n",
    "\n",
    "本节我们从 array 的基本统计属性入手，对刚刚创建的 array 进一步的了解。主要包括以下几个方面：\n",
    "\n",
    "- 尺寸相关\n",
    "- 最大、最小、中位、分位值\n",
    "- 平均、求和、标准差等\n",
    "\n",
    "都是描述性统计相关的指标，对于我们从整体了解一个 array 很有帮助。其中，用到最多的是尺寸相关的「`shape`」，最大、最小值，平均值、求和等。\n",
    "\n",
    "本节的内容非常简单，您只需要特别关注（记住）两个重要的特性：\n",
    "\n",
    "- 按维度（指定 axis）求结果。一般0表示列1表示行，可以用「**沿着行/列操作**」这样理解，不确定时可以拿个例子试一下。\n",
    "- 计算后保持维度（`keepdims=True`）\n",
    "\n",
    "\n",
    "另外，为了便于操作，我们使用一个随机生成的 array 作为操作对象；同时，我们指定了 seed，这样每次运行，每个人看到的结果都是一样的。一般我们在训练模型时，往往需要指定 seed，这样才能在「同等条件」下进行调参。"
   ]
  },
  {
   "cell_type": "code",
   "execution_count": 413,
   "id": "1f1bb6f6",
   "metadata": {},
   "outputs": [
    {
     "data": {
      "text/plain": [
       "array([[0.77395605, 0.43887844, 0.85859792, 0.69736803],\n",
       "       [0.09417735, 0.97562235, 0.7611397 , 0.78606431],\n",
       "       [0.12811363, 0.45038594, 0.37079802, 0.92676499]])"
      ]
     },
     "execution_count": 413,
     "metadata": {},
     "output_type": "execute_result"
    }
   ],
   "source": [
    "#  先创建一个 Generator\n",
    "rng = np.random.default_rng(seed=42)\n",
    "#  再生成一个均匀分布\n",
    "arr = rng.uniform(0, 1, (3, 4))\n",
    "arr"
   ]
  },
  {
   "cell_type": "markdown",
   "id": "c51525b2",
   "metadata": {},
   "source": [
    "### 尺寸相关\n",
    "\n",
    "⭐⭐\n",
    "\n",
    "这一小节主要包括：维度、形状和数据量，其中形状 `shape` 我们用到的最多。\n",
    "\n",
    "⚠️ 需要注意的是：size 不是 shape，ndim 表示有几个维度。"
   ]
  },
  {
   "cell_type": "code",
   "execution_count": 414,
   "id": "513c2780",
   "metadata": {},
   "outputs": [
    {
     "data": {
      "text/plain": [
       "2"
      ]
     },
     "execution_count": 414,
     "metadata": {},
     "output_type": "execute_result"
    }
   ],
   "source": [
    "# 维度，array 是二维的（两个维度）\n",
    "arr.ndim"
   ]
  },
  {
   "cell_type": "markdown",
   "id": "6179b70e",
   "metadata": {},
   "source": [
    "#### `np.shape`"
   ]
  },
  {
   "cell_type": "code",
   "execution_count": 415,
   "id": "57751676",
   "metadata": {
    "scrolled": false
   },
   "outputs": [
    {
     "data": {
      "text/plain": [
       "(3, 4)"
      ]
     },
     "execution_count": 415,
     "metadata": {},
     "output_type": "execute_result"
    }
   ],
   "source": [
    "# 形状，返回一个 Tuple\n",
    "arr.shape"
   ]
  },
  {
   "cell_type": "code",
   "execution_count": 416,
   "id": "e42a999a",
   "metadata": {},
   "outputs": [
    {
     "data": {
      "text/plain": [
       "12"
      ]
     },
     "execution_count": 416,
     "metadata": {},
     "output_type": "execute_result"
    }
   ],
   "source": [
    "# 数据量\n",
    "arr.size"
   ]
  },
  {
   "cell_type": "markdown",
   "id": "ab1f38e7",
   "metadata": {},
   "source": [
    "### 最值分位\n",
    "\n",
    "⭐⭐⭐\n",
    "\n",
    "这一小节主要包括：最大值、最小值、中位数、其他分位数，其中『**最大值和最小值**』我们平时用到的最多。\n",
    "\n",
    "⚠️ 需要注意的是：分位数可以是 0-1 的任意小数（表示对应分位），而且分位数并不一定在原始的 array 中。"
   ]
  },
  {
   "cell_type": "code",
   "execution_count": 417,
   "id": "2f460268",
   "metadata": {},
   "outputs": [
    {
     "data": {
      "text/plain": [
       "array([[0.77395605, 0.43887844, 0.85859792, 0.69736803],\n",
       "       [0.09417735, 0.97562235, 0.7611397 , 0.78606431],\n",
       "       [0.12811363, 0.45038594, 0.37079802, 0.92676499]])"
      ]
     },
     "execution_count": 417,
     "metadata": {},
     "output_type": "execute_result"
    }
   ],
   "source": [
    "arr"
   ]
  },
  {
   "cell_type": "code",
   "execution_count": 418,
   "id": "3489401f",
   "metadata": {
    "scrolled": false
   },
   "outputs": [
    {
     "data": {
      "text/plain": [
       "0.9756223516367559"
      ]
     },
     "execution_count": 418,
     "metadata": {},
     "output_type": "execute_result"
    }
   ],
   "source": [
    "# 所有元素中最大的\n",
    "arr.max()"
   ]
  },
  {
   "cell_type": "markdown",
   "id": "25750646",
   "metadata": {},
   "source": [
    "#### `np.max/min`"
   ]
  },
  {
   "cell_type": "code",
   "execution_count": 419,
   "id": "10b91d0b",
   "metadata": {},
   "outputs": [
    {
     "data": {
      "text/plain": [
       "array([0.77395605, 0.97562235, 0.85859792, 0.92676499])"
      ]
     },
     "execution_count": 419,
     "metadata": {},
     "output_type": "execute_result"
    }
   ],
   "source": [
    "# 按维度（列）最大值\n",
    "arr.max(axis=0)"
   ]
  },
  {
   "cell_type": "code",
   "execution_count": 420,
   "id": "7b7ac052",
   "metadata": {},
   "outputs": [
    {
     "data": {
      "text/plain": [
       "array([0.85859792, 0.97562235, 0.92676499])"
      ]
     },
     "execution_count": 420,
     "metadata": {},
     "output_type": "execute_result"
    }
   ],
   "source": [
    "# 同理，按行\n",
    "arr.max(axis=1)"
   ]
  },
  {
   "cell_type": "code",
   "execution_count": 226,
   "id": "07063506",
   "metadata": {
    "scrolled": true
   },
   "outputs": [
    {
     "data": {
      "text/plain": [
       "array([[0.43887844],\n",
       "       [0.09417735],\n",
       "       [0.12811363]])"
      ]
     },
     "execution_count": 226,
     "metadata": {},
     "output_type": "execute_result"
    }
   ],
   "source": [
    "# 是否保持原来的维度\n",
    "# 这个需要特别注意下，很多深度学习模型中都需要保持原有的维度进行后续计算\n",
    "# shape 是 (3,1)，array 的 shape 是 (3,4)，按行，同时保持了行的维度\n",
    "arr.min(axis=1, keepdims=True)"
   ]
  },
  {
   "cell_type": "code",
   "execution_count": 230,
   "id": "54f1cf9a",
   "metadata": {},
   "outputs": [
    {
     "data": {
      "text/plain": [
       "array([[0.09417735, 0.43887844, 0.37079802, 0.69736803]])"
      ]
     },
     "execution_count": 230,
     "metadata": {},
     "output_type": "execute_result"
    }
   ],
   "source": [
    "# 保持维度：（1，4），原始array是（3，4）\n",
    "arr.min(axis=0, keepdims=True)"
   ]
  },
  {
   "cell_type": "code",
   "execution_count": 228,
   "id": "cf02e221",
   "metadata": {},
   "outputs": [
    {
     "data": {
      "text/plain": [
       "array([0.09417735, 0.43887844, 0.37079802, 0.69736803])"
      ]
     },
     "execution_count": 228,
     "metadata": {},
     "output_type": "execute_result"
    }
   ],
   "source": [
    "# 一维了\n",
    "arr.min(axis=0, keepdims=False)"
   ]
  },
  {
   "cell_type": "markdown",
   "id": "3996c733",
   "metadata": {},
   "source": [
    "---"
   ]
  },
  {
   "cell_type": "code",
   "execution_count": 164,
   "id": "622a1d30",
   "metadata": {},
   "outputs": [
    {
     "data": {
      "text/plain": [
       "array([0.77395605, 0.97562235, 0.85859792, 0.92676499])"
      ]
     },
     "execution_count": 164,
     "metadata": {},
     "output_type": "execute_result"
    }
   ],
   "source": [
    "# 另一种用法，不过我们一般习惯使用上面的用法，其实两者一回事\n",
    "np.amax(arr, axis=0)"
   ]
  },
  {
   "cell_type": "code",
   "execution_count": 170,
   "id": "6040d42e",
   "metadata": {
    "scrolled": true
   },
   "outputs": [
    {
     "data": {
      "text/plain": [
       "array([0.43887844, 0.09417735, 0.12811363])"
      ]
     },
     "execution_count": 170,
     "metadata": {},
     "output_type": "execute_result"
    }
   ],
   "source": [
    "# 同 amax\n",
    "np.amin(arr, axis=1)"
   ]
  },
  {
   "cell_type": "code",
   "execution_count": 171,
   "id": "599d677f",
   "metadata": {},
   "outputs": [
    {
     "data": {
      "text/plain": [
       "0.7292538655248584"
      ]
     },
     "execution_count": 171,
     "metadata": {},
     "output_type": "execute_result"
    }
   ],
   "source": [
    "# 中位数\n",
    "# 其他用法和 max，min 是一样的\n",
    "np.median(arr)"
   ]
  },
  {
   "cell_type": "code",
   "execution_count": 173,
   "id": "41caf838",
   "metadata": {},
   "outputs": [
    {
     "data": {
      "text/plain": [
       "array([0.11114549, 0.44463219, 0.56596886, 0.74171617])"
      ]
     },
     "execution_count": 173,
     "metadata": {},
     "output_type": "execute_result"
    }
   ],
   "source": [
    "# 分位数，按列取1/4数\n",
    "np.quantile(arr, q=0.25, axis=0)"
   ]
  },
  {
   "cell_type": "code",
   "execution_count": 175,
   "id": "c6fd8753",
   "metadata": {},
   "outputs": [
    {
     "data": {
      "text/plain": [
       "array([[0.79511652],\n",
       "       [0.83345382],\n",
       "       [0.5694807 ]])"
      ]
     },
     "execution_count": 175,
     "metadata": {},
     "output_type": "execute_result"
    }
   ],
   "source": [
    "# 分位数，按行取 3/4，同时保持维度\n",
    "np.quantile(arr, q=0.75, axis=1, keepdims=True)"
   ]
  },
  {
   "cell_type": "code",
   "execution_count": 188,
   "id": "62071b72",
   "metadata": {},
   "outputs": [
    {
     "data": {
      "text/plain": [
       "array([0.73566204, 0.773602  , 0.41059198])"
      ]
     },
     "execution_count": 188,
     "metadata": {},
     "output_type": "execute_result"
    }
   ],
   "source": [
    "# 分位数，注意，分位数可以是 0-1 之间的任何数字（分位）\n",
    "# 如果是 1/2 分位，那正好是中位数\n",
    "np.quantile(arr, q=1/2, axis=1)"
   ]
  },
  {
   "cell_type": "markdown",
   "id": "2daa860e",
   "metadata": {},
   "source": [
    "### 平均求和标准差\n",
    "\n",
    "⭐⭐⭐\n",
    "\n",
    "这一小节主要包括：平均值、累计求和、方差、标准差等进一步的统计指标。其中使用最多的是「平均值」。"
   ]
  },
  {
   "cell_type": "code",
   "execution_count": 189,
   "id": "fd091957",
   "metadata": {},
   "outputs": [
    {
     "data": {
      "text/plain": [
       "array([[0.77395605, 0.43887844, 0.85859792, 0.69736803],\n",
       "       [0.09417735, 0.97562235, 0.7611397 , 0.78606431],\n",
       "       [0.12811363, 0.45038594, 0.37079802, 0.92676499]])"
      ]
     },
     "execution_count": 189,
     "metadata": {},
     "output_type": "execute_result"
    }
   ],
   "source": [
    "arr"
   ]
  },
  {
   "cell_type": "markdown",
   "id": "61ab35f0",
   "metadata": {},
   "source": [
    "#### `np.average`"
   ]
  },
  {
   "cell_type": "code",
   "execution_count": 401,
   "id": "52918639",
   "metadata": {
    "scrolled": false
   },
   "outputs": [
    {
     "data": {
      "text/plain": [
       "0.6051555606435642"
      ]
     },
     "execution_count": 401,
     "metadata": {},
     "output_type": "execute_result"
    }
   ],
   "source": [
    "# 平均值\n",
    "np.average(arr)"
   ]
  },
  {
   "cell_type": "code",
   "execution_count": 402,
   "id": "89a58254",
   "metadata": {
    "scrolled": true
   },
   "outputs": [
    {
     "data": {
      "text/plain": [
       "array([0.33208234, 0.62162891, 0.66351188, 0.80339911])"
      ]
     },
     "execution_count": 402,
     "metadata": {},
     "output_type": "execute_result"
    }
   ],
   "source": [
    "# 按维度平均（列）\n",
    "np.average(arr, axis=0)"
   ]
  },
  {
   "cell_type": "markdown",
   "id": "7aa6616e",
   "metadata": {},
   "source": [
    "---"
   ]
  },
  {
   "cell_type": "code",
   "execution_count": 197,
   "id": "37778dc9",
   "metadata": {},
   "outputs": [
    {
     "data": {
      "text/plain": [
       "array([0.33208234, 0.62162891, 0.66351188, 0.80339911])"
      ]
     },
     "execution_count": 197,
     "metadata": {},
     "output_type": "execute_result"
    }
   ],
   "source": [
    "# 另一个计算平均值的 API\n",
    "# 它与 average 的主要区别是，np.average 可以指定权重，即可以用于计算加权平均\n",
    "# 一般建议使用 average，忘掉 mean 吧！\n",
    "np.mean(arr, axis=0)"
   ]
  },
  {
   "cell_type": "markdown",
   "id": "e93c2f0e",
   "metadata": {},
   "source": [
    "#### `np.sum`"
   ]
  },
  {
   "cell_type": "code",
   "execution_count": 399,
   "id": "09239ee5",
   "metadata": {
    "scrolled": true
   },
   "outputs": [
    {
     "data": {
      "text/plain": [
       "array([2.76880044, 2.61700371, 1.87606258])"
      ]
     },
     "execution_count": 399,
     "metadata": {},
     "output_type": "execute_result"
    }
   ],
   "source": [
    "# 求和，不多说了，类似\n",
    "np.sum(arr, axis=1)"
   ]
  },
  {
   "cell_type": "code",
   "execution_count": 400,
   "id": "676fb6fd",
   "metadata": {},
   "outputs": [
    {
     "data": {
      "text/plain": [
       "array([[2.76880044],\n",
       "       [2.61700371],\n",
       "       [1.87606258]])"
      ]
     },
     "execution_count": 400,
     "metadata": {},
     "output_type": "execute_result"
    }
   ],
   "source": [
    "np.sum(arr, axis=1, keepdims=True)"
   ]
  },
  {
   "cell_type": "markdown",
   "id": "333c16ed",
   "metadata": {},
   "source": [
    "---"
   ]
  },
  {
   "cell_type": "code",
   "execution_count": 200,
   "id": "a3c6d831",
   "metadata": {
    "scrolled": true
   },
   "outputs": [
    {
     "data": {
      "text/plain": [
       "array([[0.77395605, 0.43887844, 0.85859792, 0.69736803],\n",
       "       [0.8681334 , 1.41450079, 1.61973762, 1.48343233],\n",
       "       [0.99624703, 1.86488673, 1.99053565, 2.41019732]])"
      ]
     },
     "execution_count": 200,
     "metadata": {},
     "output_type": "execute_result"
    }
   ],
   "source": [
    "# 按列累计求和\n",
    "np.cumsum(arr, axis=0)"
   ]
  },
  {
   "cell_type": "code",
   "execution_count": 201,
   "id": "e0e34fd1",
   "metadata": {
    "scrolled": true
   },
   "outputs": [
    {
     "data": {
      "text/plain": [
       "array([[0.77395605, 1.21283449, 2.07143241, 2.76880044],\n",
       "       [0.09417735, 1.0697997 , 1.8309394 , 2.61700371],\n",
       "       [0.12811363, 0.57849957, 0.94929759, 1.87606258]])"
      ]
     },
     "execution_count": 201,
     "metadata": {},
     "output_type": "execute_result"
    }
   ],
   "source": [
    "# 按行累计求和\n",
    "np.cumsum(arr, axis=1)"
   ]
  },
  {
   "cell_type": "code",
   "execution_count": 202,
   "id": "1913673f",
   "metadata": {
    "scrolled": true
   },
   "outputs": [
    {
     "data": {
      "text/plain": [
       "0.28783096517727075"
      ]
     },
     "execution_count": 202,
     "metadata": {},
     "output_type": "execute_result"
    }
   ],
   "source": [
    "# 标准差，用法类似\n",
    "np.std(arr)"
   ]
  },
  {
   "cell_type": "code",
   "execution_count": 205,
   "id": "f37c4180",
   "metadata": {},
   "outputs": [
    {
     "data": {
      "text/plain": [
       "array([0.3127589 , 0.25035525, 0.21076935, 0.09444968])"
      ]
     },
     "execution_count": 205,
     "metadata": {},
     "output_type": "execute_result"
    }
   ],
   "source": [
    "# 按列求标准差\n",
    "np.std(arr, axis=0)"
   ]
  },
  {
   "cell_type": "code",
   "execution_count": 207,
   "id": "5dedd68a",
   "metadata": {},
   "outputs": [
    {
     "data": {
      "text/plain": [
       "array([0.02464271, 0.1114405 , 0.0839356 ])"
      ]
     },
     "execution_count": 207,
     "metadata": {},
     "output_type": "execute_result"
    }
   ],
   "source": [
    "# 方差\n",
    "np.var(arr, axis=1)"
   ]
  },
  {
   "cell_type": "markdown",
   "id": "7be9d6f9",
   "metadata": {},
   "source": [
    "## 形状和转换\n",
    "\n",
    "array 大多数情况下都是以多维的形式出现的，一般对超过二维的多维 array 称为「张量」，二维矩阵，一维向量。因为多维度，所以自然而然地涉及到形状的改变和转换，可以算是张量最基础的「操作」了。\n",
    "\n",
    "本节我们主要涉及以下三个方面：\n",
    "\n",
    "- 改变形状\n",
    "- 反序\n",
    "- 转置\n",
    "\n",
    "其中，改变形状和转置都非常常用，我们建议您熟练掌握。"
   ]
  },
  {
   "cell_type": "markdown",
   "id": "9435e2b5",
   "metadata": {},
   "source": [
    "### 改变形状\n",
    "\n",
    "⭐⭐⭐⭐⭐\n",
    "\n",
    "这小节里面的 API 使用非常高频，尤其是扩展 1 维度的 `expand_dims` 和去除 1 维度的 `squeeze`，您未来会在很多神经网络架构中看到这俩货的身影。\n",
    "\n",
    "⚠️ 需要注意的是：无论是扩展还是缩减，多或少的 shape 都是 1，`squeeze` 时如果指定维度，则该维度 shape 必须是 1。"
   ]
  },
  {
   "cell_type": "code",
   "execution_count": 405,
   "id": "a88c870a",
   "metadata": {
    "scrolled": true
   },
   "outputs": [
    {
     "data": {
      "text/plain": [
       "array([[ 9, 77, 65, 44],\n",
       "       [43, 86,  9, 70],\n",
       "       [20, 10, 53, 97]])"
      ]
     },
     "execution_count": 405,
     "metadata": {},
     "output_type": "execute_result"
    }
   ],
   "source": [
    "# 换个整数的随机 array\n",
    "rng = np.random.default_rng(seed=42)\n",
    "arr = rng.integers(1, 100, (3, 4))\n",
    "arr"
   ]
  },
  {
   "cell_type": "code",
   "execution_count": 340,
   "id": "8efe3ad8",
   "metadata": {},
   "outputs": [
    {
     "data": {
      "text/plain": [
       "array([ 9, 77, 65, 44, 43, 86,  9, 70, 20, 10, 53, 97])"
      ]
     },
     "execution_count": 340,
     "metadata": {},
     "output_type": "execute_result"
    }
   ],
   "source": [
    "# 有时候您可能需要将多维 array 打平\n",
    "arr.ravel()"
   ]
  },
  {
   "cell_type": "code",
   "execution_count": 341,
   "id": "bd6afc41",
   "metadata": {
    "scrolled": true
   },
   "outputs": [
    {
     "data": {
      "text/plain": [
       "(3, 4)"
      ]
     },
     "execution_count": 341,
     "metadata": {},
     "output_type": "execute_result"
    }
   ],
   "source": [
    "arr.shape"
   ]
  },
  {
   "cell_type": "markdown",
   "id": "72edfab9",
   "metadata": {},
   "source": [
    "#### `np.expand_dims`"
   ]
  },
  {
   "cell_type": "code",
   "execution_count": 342,
   "id": "22c64806",
   "metadata": {},
   "outputs": [
    {
     "data": {
      "text/plain": [
       "(3, 1, 4)"
      ]
     },
     "execution_count": 342,
     "metadata": {},
     "output_type": "execute_result"
    }
   ],
   "source": [
    "#### 扩展 1 个维度，需要（必须）指定维度\n",
    "# 其实就是多嵌套了一下\n",
    "np.expand_dims(arr, 1).shape"
   ]
  },
  {
   "cell_type": "code",
   "execution_count": 343,
   "id": "fcfcdb6e",
   "metadata": {},
   "outputs": [
    {
     "data": {
      "text/plain": [
       "(3, 1, 4, 1, 1)"
      ]
     },
     "execution_count": 343,
     "metadata": {},
     "output_type": "execute_result"
    }
   ],
   "source": [
    "# 扩充维度\n",
    "expanded = np.expand_dims(arr, axis=(1, 3, 4))\n",
    "expanded.shape"
   ]
  },
  {
   "cell_type": "code",
   "execution_count": 344,
   "id": "90b9b76a",
   "metadata": {},
   "outputs": [
    {
     "ename": "AxisError",
     "evalue": "axis 8 is out of bounds for array of dimension 5",
     "output_type": "error",
     "traceback": [
      "\u001b[0;31m---------------------------------------------------------------------------\u001b[0m",
      "\u001b[0;31mAxisError\u001b[0m                                 Traceback (most recent call last)",
      "\u001b[0;32m<ipython-input-344-2c2510eb807f>\u001b[0m in \u001b[0;36m<module>\u001b[0;34m\u001b[0m\n\u001b[1;32m      1\u001b[0m \u001b[0;31m# 扩充维度不能跳跃\u001b[0m\u001b[0;34m\u001b[0m\u001b[0;34m\u001b[0m\u001b[0;34m\u001b[0m\u001b[0m\n\u001b[0;32m----> 2\u001b[0;31m \u001b[0mexpanded\u001b[0m \u001b[0;34m=\u001b[0m \u001b[0mnp\u001b[0m\u001b[0;34m.\u001b[0m\u001b[0mexpand_dims\u001b[0m\u001b[0;34m(\u001b[0m\u001b[0marr\u001b[0m\u001b[0;34m,\u001b[0m \u001b[0maxis\u001b[0m\u001b[0;34m=\u001b[0m\u001b[0;34m(\u001b[0m\u001b[0;36m1\u001b[0m\u001b[0;34m,\u001b[0m \u001b[0;36m3\u001b[0m\u001b[0;34m,\u001b[0m \u001b[0;36m8\u001b[0m\u001b[0;34m)\u001b[0m\u001b[0;34m)\u001b[0m\u001b[0;34m\u001b[0m\u001b[0;34m\u001b[0m\u001b[0m\n\u001b[0m",
      "\u001b[0;32m<__array_function__ internals>\u001b[0m in \u001b[0;36mexpand_dims\u001b[0;34m(*args, **kwargs)\u001b[0m\n",
      "\u001b[0;32m/usr/local/lib/python3.8/site-packages/numpy/lib/shape_base.py\u001b[0m in \u001b[0;36mexpand_dims\u001b[0;34m(a, axis)\u001b[0m\n\u001b[1;32m    595\u001b[0m \u001b[0;34m\u001b[0m\u001b[0m\n\u001b[1;32m    596\u001b[0m     \u001b[0mout_ndim\u001b[0m \u001b[0;34m=\u001b[0m \u001b[0mlen\u001b[0m\u001b[0;34m(\u001b[0m\u001b[0maxis\u001b[0m\u001b[0;34m)\u001b[0m \u001b[0;34m+\u001b[0m \u001b[0ma\u001b[0m\u001b[0;34m.\u001b[0m\u001b[0mndim\u001b[0m\u001b[0;34m\u001b[0m\u001b[0;34m\u001b[0m\u001b[0m\n\u001b[0;32m--> 597\u001b[0;31m     \u001b[0maxis\u001b[0m \u001b[0;34m=\u001b[0m \u001b[0mnormalize_axis_tuple\u001b[0m\u001b[0;34m(\u001b[0m\u001b[0maxis\u001b[0m\u001b[0;34m,\u001b[0m \u001b[0mout_ndim\u001b[0m\u001b[0;34m)\u001b[0m\u001b[0;34m\u001b[0m\u001b[0;34m\u001b[0m\u001b[0m\n\u001b[0m\u001b[1;32m    598\u001b[0m \u001b[0;34m\u001b[0m\u001b[0m\n\u001b[1;32m    599\u001b[0m     \u001b[0mshape_it\u001b[0m \u001b[0;34m=\u001b[0m \u001b[0miter\u001b[0m\u001b[0;34m(\u001b[0m\u001b[0ma\u001b[0m\u001b[0;34m.\u001b[0m\u001b[0mshape\u001b[0m\u001b[0;34m)\u001b[0m\u001b[0;34m\u001b[0m\u001b[0;34m\u001b[0m\u001b[0m\n",
      "\u001b[0;32m/usr/local/lib/python3.8/site-packages/numpy/core/numeric.py\u001b[0m in \u001b[0;36mnormalize_axis_tuple\u001b[0;34m(axis, ndim, argname, allow_duplicate)\u001b[0m\n\u001b[1;32m   1356\u001b[0m             \u001b[0;32mpass\u001b[0m\u001b[0;34m\u001b[0m\u001b[0;34m\u001b[0m\u001b[0m\n\u001b[1;32m   1357\u001b[0m     \u001b[0;31m# Going via an iterator directly is slower than via list comprehension.\u001b[0m\u001b[0;34m\u001b[0m\u001b[0;34m\u001b[0m\u001b[0;34m\u001b[0m\u001b[0m\n\u001b[0;32m-> 1358\u001b[0;31m     \u001b[0maxis\u001b[0m \u001b[0;34m=\u001b[0m \u001b[0mtuple\u001b[0m\u001b[0;34m(\u001b[0m\u001b[0;34m[\u001b[0m\u001b[0mnormalize_axis_index\u001b[0m\u001b[0;34m(\u001b[0m\u001b[0max\u001b[0m\u001b[0;34m,\u001b[0m \u001b[0mndim\u001b[0m\u001b[0;34m,\u001b[0m \u001b[0margname\u001b[0m\u001b[0;34m)\u001b[0m \u001b[0;32mfor\u001b[0m \u001b[0max\u001b[0m \u001b[0;32min\u001b[0m \u001b[0maxis\u001b[0m\u001b[0;34m]\u001b[0m\u001b[0;34m)\u001b[0m\u001b[0;34m\u001b[0m\u001b[0;34m\u001b[0m\u001b[0m\n\u001b[0m\u001b[1;32m   1359\u001b[0m     \u001b[0;32mif\u001b[0m \u001b[0;32mnot\u001b[0m \u001b[0mallow_duplicate\u001b[0m \u001b[0;32mand\u001b[0m \u001b[0mlen\u001b[0m\u001b[0;34m(\u001b[0m\u001b[0mset\u001b[0m\u001b[0;34m(\u001b[0m\u001b[0maxis\u001b[0m\u001b[0;34m)\u001b[0m\u001b[0;34m)\u001b[0m \u001b[0;34m!=\u001b[0m \u001b[0mlen\u001b[0m\u001b[0;34m(\u001b[0m\u001b[0maxis\u001b[0m\u001b[0;34m)\u001b[0m\u001b[0;34m:\u001b[0m\u001b[0;34m\u001b[0m\u001b[0;34m\u001b[0m\u001b[0m\n\u001b[1;32m   1360\u001b[0m         \u001b[0;32mif\u001b[0m \u001b[0margname\u001b[0m\u001b[0;34m:\u001b[0m\u001b[0;34m\u001b[0m\u001b[0;34m\u001b[0m\u001b[0m\n",
      "\u001b[0;32m/usr/local/lib/python3.8/site-packages/numpy/core/numeric.py\u001b[0m in \u001b[0;36m<listcomp>\u001b[0;34m(.0)\u001b[0m\n\u001b[1;32m   1356\u001b[0m             \u001b[0;32mpass\u001b[0m\u001b[0;34m\u001b[0m\u001b[0;34m\u001b[0m\u001b[0m\n\u001b[1;32m   1357\u001b[0m     \u001b[0;31m# Going via an iterator directly is slower than via list comprehension.\u001b[0m\u001b[0;34m\u001b[0m\u001b[0;34m\u001b[0m\u001b[0;34m\u001b[0m\u001b[0m\n\u001b[0;32m-> 1358\u001b[0;31m     \u001b[0maxis\u001b[0m \u001b[0;34m=\u001b[0m \u001b[0mtuple\u001b[0m\u001b[0;34m(\u001b[0m\u001b[0;34m[\u001b[0m\u001b[0mnormalize_axis_index\u001b[0m\u001b[0;34m(\u001b[0m\u001b[0max\u001b[0m\u001b[0;34m,\u001b[0m \u001b[0mndim\u001b[0m\u001b[0;34m,\u001b[0m \u001b[0margname\u001b[0m\u001b[0;34m)\u001b[0m \u001b[0;32mfor\u001b[0m \u001b[0max\u001b[0m \u001b[0;32min\u001b[0m \u001b[0maxis\u001b[0m\u001b[0;34m]\u001b[0m\u001b[0;34m)\u001b[0m\u001b[0;34m\u001b[0m\u001b[0;34m\u001b[0m\u001b[0m\n\u001b[0m\u001b[1;32m   1359\u001b[0m     \u001b[0;32mif\u001b[0m \u001b[0;32mnot\u001b[0m \u001b[0mallow_duplicate\u001b[0m \u001b[0;32mand\u001b[0m \u001b[0mlen\u001b[0m\u001b[0;34m(\u001b[0m\u001b[0mset\u001b[0m\u001b[0;34m(\u001b[0m\u001b[0maxis\u001b[0m\u001b[0;34m)\u001b[0m\u001b[0;34m)\u001b[0m \u001b[0;34m!=\u001b[0m \u001b[0mlen\u001b[0m\u001b[0;34m(\u001b[0m\u001b[0maxis\u001b[0m\u001b[0;34m)\u001b[0m\u001b[0;34m:\u001b[0m\u001b[0;34m\u001b[0m\u001b[0;34m\u001b[0m\u001b[0m\n\u001b[1;32m   1360\u001b[0m         \u001b[0;32mif\u001b[0m \u001b[0margname\u001b[0m\u001b[0;34m:\u001b[0m\u001b[0;34m\u001b[0m\u001b[0;34m\u001b[0m\u001b[0m\n",
      "\u001b[0;31mAxisError\u001b[0m: axis 8 is out of bounds for array of dimension 5"
     ]
    }
   ],
   "source": [
    "# 扩充维度不能跳跃\n",
    "expanded = np.expand_dims(arr, axis=(1, 3, 8))"
   ]
  },
  {
   "cell_type": "markdown",
   "id": "9e2a912f",
   "metadata": {},
   "source": [
    "#### `np.squeeze`"
   ]
  },
  {
   "cell_type": "code",
   "execution_count": 345,
   "id": "23abe4c3",
   "metadata": {
    "scrolled": true
   },
   "outputs": [
    {
     "ename": "ValueError",
     "evalue": "cannot select an axis to squeeze out which has size not equal to one",
     "output_type": "error",
     "traceback": [
      "\u001b[0;31m---------------------------------------------------------------------------\u001b[0m",
      "\u001b[0;31mValueError\u001b[0m                                Traceback (most recent call last)",
      "\u001b[0;32m<ipython-input-345-8a712eef1189>\u001b[0m in \u001b[0;36m<module>\u001b[0;34m\u001b[0m\n\u001b[1;32m      1\u001b[0m \u001b[0;31m# squeeze 指定 axis 的shape必须为1\u001b[0m\u001b[0;34m\u001b[0m\u001b[0;34m\u001b[0m\u001b[0;34m\u001b[0m\u001b[0m\n\u001b[0;32m----> 2\u001b[0;31m \u001b[0mnp\u001b[0m\u001b[0;34m.\u001b[0m\u001b[0msqueeze\u001b[0m\u001b[0;34m(\u001b[0m\u001b[0mexpanded\u001b[0m\u001b[0;34m,\u001b[0m \u001b[0maxis\u001b[0m\u001b[0;34m=\u001b[0m\u001b[0;36m0\u001b[0m\u001b[0;34m)\u001b[0m\u001b[0;34m\u001b[0m\u001b[0;34m\u001b[0m\u001b[0m\n\u001b[0m",
      "\u001b[0;32m<__array_function__ internals>\u001b[0m in \u001b[0;36msqueeze\u001b[0;34m(*args, **kwargs)\u001b[0m\n",
      "\u001b[0;32m/usr/local/lib/python3.8/site-packages/numpy/core/fromnumeric.py\u001b[0m in \u001b[0;36msqueeze\u001b[0;34m(a, axis)\u001b[0m\n\u001b[1;32m   1493\u001b[0m         \u001b[0;32mreturn\u001b[0m \u001b[0msqueeze\u001b[0m\u001b[0;34m(\u001b[0m\u001b[0;34m)\u001b[0m\u001b[0;34m\u001b[0m\u001b[0;34m\u001b[0m\u001b[0m\n\u001b[1;32m   1494\u001b[0m     \u001b[0;32melse\u001b[0m\u001b[0;34m:\u001b[0m\u001b[0;34m\u001b[0m\u001b[0;34m\u001b[0m\u001b[0m\n\u001b[0;32m-> 1495\u001b[0;31m         \u001b[0;32mreturn\u001b[0m \u001b[0msqueeze\u001b[0m\u001b[0;34m(\u001b[0m\u001b[0maxis\u001b[0m\u001b[0;34m=\u001b[0m\u001b[0maxis\u001b[0m\u001b[0;34m)\u001b[0m\u001b[0;34m\u001b[0m\u001b[0;34m\u001b[0m\u001b[0m\n\u001b[0m\u001b[1;32m   1496\u001b[0m \u001b[0;34m\u001b[0m\u001b[0m\n\u001b[1;32m   1497\u001b[0m \u001b[0;34m\u001b[0m\u001b[0m\n",
      "\u001b[0;31mValueError\u001b[0m: cannot select an axis to squeeze out which has size not equal to one"
     ]
    }
   ],
   "source": [
    "# squeeze 指定 axis 的shape必须为1\n",
    "np.squeeze(expanded, axis=0)"
   ]
  },
  {
   "cell_type": "code",
   "execution_count": 335,
   "id": "4837b0c1",
   "metadata": {},
   "outputs": [
    {
     "data": {
      "text/plain": [
       "(3, 3, 1, 1)"
      ]
     },
     "execution_count": 335,
     "metadata": {},
     "output_type": "execute_result"
    }
   ],
   "source": [
    "# 如果指定了维度，那就只会去除该维度，指定的维度必须为 1\n",
    "np.squeeze(expanded, axis=1).shape"
   ]
  },
  {
   "cell_type": "code",
   "execution_count": 336,
   "id": "914496cd",
   "metadata": {},
   "outputs": [
    {
     "data": {
      "text/plain": [
       "(3, 3)"
      ]
     },
     "execution_count": 336,
     "metadata": {},
     "output_type": "execute_result"
    }
   ],
   "source": [
    "# 去除所有维度为 1 的\n",
    "np.squeeze(expanded).shape"
   ]
  },
  {
   "cell_type": "markdown",
   "id": "e251ed16",
   "metadata": {},
   "source": [
    "#### `np.reshape/arr.reshape`"
   ]
  },
  {
   "cell_type": "code",
   "execution_count": 346,
   "id": "0ce8d418",
   "metadata": {
    "scrolled": true
   },
   "outputs": [
    {
     "data": {
      "text/plain": [
       "array([[[ 9, 77, 65],\n",
       "        [44, 43, 86]],\n",
       "\n",
       "       [[ 9, 70, 20],\n",
       "        [10, 53, 97]]])"
      ]
     },
     "execution_count": 346,
     "metadata": {},
     "output_type": "execute_result"
    }
   ],
   "source": [
    "# reshape 成另一个形状\n",
    "# 也可以直接变为一维向量\n",
    "arr.reshape(2, 2, 3)"
   ]
  },
  {
   "cell_type": "code",
   "execution_count": 347,
   "id": "5af6feb2",
   "metadata": {
    "scrolled": true
   },
   "outputs": [
    {
     "data": {
      "text/plain": [
       "array([[ 9, 77, 65],\n",
       "       [44, 43, 86],\n",
       "       [ 9, 70, 20],\n",
       "       [10, 53, 97]])"
      ]
     },
     "execution_count": 347,
     "metadata": {},
     "output_type": "execute_result"
    }
   ],
   "source": [
    "# 可以偷懒，使用 -1 表示其他维度（此处 -1 为 3），注意，reshape 参数可以是 tuple 或连续整数\n",
    "arr1 = arr.reshape((4, -1))\n",
    "arr1"
   ]
  },
  {
   "cell_type": "code",
   "execution_count": 348,
   "id": "b268bad8",
   "metadata": {},
   "outputs": [
    {
     "ename": "ValueError",
     "evalue": "cannot reshape array of size 12 into shape (3,3)",
     "output_type": "error",
     "traceback": [
      "\u001b[0;31m---------------------------------------------------------------------------\u001b[0m",
      "\u001b[0;31mValueError\u001b[0m                                Traceback (most recent call last)",
      "\u001b[0;32m<ipython-input-348-67f1d69569ea>\u001b[0m in \u001b[0;36m<module>\u001b[0;34m\u001b[0m\n\u001b[1;32m      1\u001b[0m \u001b[0;31m# 元素数量必须与原array一致\u001b[0m\u001b[0;34m\u001b[0m\u001b[0;34m\u001b[0m\u001b[0;34m\u001b[0m\u001b[0m\n\u001b[0;32m----> 2\u001b[0;31m \u001b[0marr\u001b[0m\u001b[0;34m.\u001b[0m\u001b[0mreshape\u001b[0m\u001b[0;34m(\u001b[0m\u001b[0;36m3\u001b[0m\u001b[0;34m,\u001b[0m \u001b[0;36m3\u001b[0m\u001b[0;34m)\u001b[0m\u001b[0;34m\u001b[0m\u001b[0;34m\u001b[0m\u001b[0m\n\u001b[0m",
      "\u001b[0;31mValueError\u001b[0m: cannot reshape array of size 12 into shape (3,3)"
     ]
    }
   ],
   "source": [
    "# 元素数量必须与原array一致\n",
    "arr.reshape(3, 3)"
   ]
  },
  {
   "cell_type": "markdown",
   "id": "ea8d019d",
   "metadata": {},
   "source": [
    "---"
   ]
  },
  {
   "cell_type": "code",
   "execution_count": 349,
   "id": "428fcfee",
   "metadata": {},
   "outputs": [],
   "source": [
    "# 另一种变换形状的方式 —— 原地变换\n",
    "# 不过不能用-1\n",
    "# 另外 resize 不一定和原来的元素数量一样多\n",
    "arr2 = arr.resize((4, 3))\n",
    "# 注意：上面的 reshape 会生成一个新的 array，但 resize 不会，所以我们需要用原变量名将它显示出来\n",
    "# arr2 没有值\n",
    "arr2"
   ]
  },
  {
   "cell_type": "code",
   "execution_count": 350,
   "id": "8b5bce24",
   "metadata": {},
   "outputs": [
    {
     "data": {
      "text/plain": [
       "array([[ 9, 77, 65],\n",
       "       [44, 43, 86],\n",
       "       [ 9, 70, 20],\n",
       "       [10, 53, 97]])"
      ]
     },
     "execution_count": 350,
     "metadata": {},
     "output_type": "execute_result"
    }
   ],
   "source": [
    "arr"
   ]
  },
  {
   "cell_type": "code",
   "execution_count": 351,
   "id": "d96f2c74",
   "metadata": {},
   "outputs": [
    {
     "ename": "ValueError",
     "evalue": "cannot resize an array that references or is referenced\nby another array in this way.\nUse the np.resize function or refcheck=False",
     "output_type": "error",
     "traceback": [
      "\u001b[0;31m---------------------------------------------------------------------------\u001b[0m",
      "\u001b[0;31mValueError\u001b[0m                                Traceback (most recent call last)",
      "\u001b[0;32m<ipython-input-351-a23c63ab1d76>\u001b[0m in \u001b[0;36m<module>\u001b[0;34m\u001b[0m\n\u001b[1;32m      1\u001b[0m \u001b[0;31m# 直接 resize，如果元素数量多时会提示错误\u001b[0m\u001b[0;34m\u001b[0m\u001b[0;34m\u001b[0m\u001b[0;34m\u001b[0m\u001b[0m\n\u001b[0;32m----> 2\u001b[0;31m \u001b[0marr\u001b[0m\u001b[0;34m.\u001b[0m\u001b[0mresize\u001b[0m\u001b[0;34m(\u001b[0m\u001b[0;34m(\u001b[0m\u001b[0;36m2\u001b[0m\u001b[0;34m,\u001b[0m \u001b[0;36m3\u001b[0m\u001b[0;34m)\u001b[0m\u001b[0;34m)\u001b[0m\u001b[0;34m\u001b[0m\u001b[0;34m\u001b[0m\u001b[0m\n\u001b[0m",
      "\u001b[0;31mValueError\u001b[0m: cannot resize an array that references or is referenced\nby another array in this way.\nUse the np.resize function or refcheck=False"
     ]
    }
   ],
   "source": [
    "# 直接 resize，如果元素数量多时会提示错误\n",
    "arr.resize((2, 3))"
   ]
  },
  {
   "cell_type": "code",
   "execution_count": 352,
   "id": "f82ffaee",
   "metadata": {},
   "outputs": [
    {
     "data": {
      "text/plain": [
       "array([[ 9, 77, 65],\n",
       "       [44, 43, 86]])"
      ]
     },
     "execution_count": 352,
     "metadata": {},
     "output_type": "execute_result"
    }
   ],
   "source": [
    "# 可以copy一份\n",
    "arrcopy = np.copy(arr)\n",
    "arrcopy.resize((2, 3))\n",
    "arrcopy"
   ]
  },
  {
   "cell_type": "code",
   "execution_count": 353,
   "id": "e09f2eaa",
   "metadata": {},
   "outputs": [
    {
     "data": {
      "text/plain": [
       "array([[ 9, 77, 65],\n",
       "       [44, 43, 86],\n",
       "       [ 9, 70, 20],\n",
       "       [10, 53, 97]])"
      ]
     },
     "execution_count": 353,
     "metadata": {},
     "output_type": "execute_result"
    }
   ],
   "source": [
    "# arr 保持不变\n",
    "arr"
   ]
  },
  {
   "cell_type": "code",
   "execution_count": 354,
   "id": "a4e990d7",
   "metadata": {},
   "outputs": [
    {
     "data": {
      "text/plain": [
       "array([[ 9, 77, 65],\n",
       "       [44, 43, 86]])"
      ]
     },
     "execution_count": 354,
     "metadata": {},
     "output_type": "execute_result"
    }
   ],
   "source": [
    "# 也可以将 refcheck 设为 False\n",
    "# 此时 arr 会发生变化\n",
    "# 元素数量超出时，截断；元素数量不够时，0填充\n",
    "arr.resize((2,3), refcheck=False)\n",
    "arr"
   ]
  },
  {
   "cell_type": "code",
   "execution_count": 355,
   "id": "d49f7af1",
   "metadata": {},
   "outputs": [
    {
     "data": {
      "text/plain": [
       "array([[ 9, 77, 65],\n",
       "       [44, 43, 86],\n",
       "       [ 0,  0,  0]])"
      ]
     },
     "execution_count": 355,
     "metadata": {},
     "output_type": "execute_result"
    }
   ],
   "source": [
    "arr.resize((3, 3), refcheck=False)\n",
    "arr"
   ]
  },
  {
   "cell_type": "code",
   "execution_count": 356,
   "id": "1f12fc48",
   "metadata": {
    "scrolled": true
   },
   "outputs": [
    {
     "data": {
      "text/plain": [
       "array([[ 9, 77, 65],\n",
       "       [44, 43, 86],\n",
       "       [ 0,  0,  0]])"
      ]
     },
     "execution_count": 356,
     "metadata": {},
     "output_type": "execute_result"
    }
   ],
   "source": [
    "arr"
   ]
  },
  {
   "cell_type": "code",
   "execution_count": 357,
   "id": "3cae80c0",
   "metadata": {},
   "outputs": [
    {
     "data": {
      "text/plain": [
       "array([[ 9, 77, 65],\n",
       "       [44, 43, 86],\n",
       "       [ 0,  0,  0],\n",
       "       [ 9, 77, 65],\n",
       "       [44, 43, 86]])"
      ]
     },
     "execution_count": 357,
     "metadata": {},
     "output_type": "execute_result"
    }
   ],
   "source": [
    "# 如果用 np.resize 会略有不同\n",
    "# 元素数量不够时，会自动复制\n",
    "np.resize(arr, (5, 3))"
   ]
  },
  {
   "cell_type": "code",
   "execution_count": 358,
   "id": "3424f3d2",
   "metadata": {},
   "outputs": [
    {
     "data": {
      "text/plain": [
       "array([[ 9, 77],\n",
       "       [65, 44]])"
      ]
     },
     "execution_count": 358,
     "metadata": {},
     "output_type": "execute_result"
    }
   ],
   "source": [
    "# 元素数量多出来时，会自动截断\n",
    "np.resize(arr, (2, 2))"
   ]
  },
  {
   "cell_type": "markdown",
   "id": "2ee5e3b2",
   "metadata": {},
   "source": [
    "### 反序\n",
    "\n",
    "⭐\n",
    "\n",
    "也可以看作是一种对原数组的转换，用的不多，可以了解一下，为接下来的索引和切片做个热身。\n",
    "\n",
    "如果给一个字符串或数组让您反序，您可能会想到很多种方法，比如：`reversed`，或者写一个方法，或者用 Python list 的索引功能，而这也是 `numpy` 中 array 反序的方式。"
   ]
  },
  {
   "cell_type": "code",
   "execution_count": 281,
   "id": "16870a5f",
   "metadata": {},
   "outputs": [
    {
     "data": {
      "text/plain": [
       "'loveu'"
      ]
     },
     "execution_count": 281,
     "metadata": {},
     "output_type": "execute_result"
    }
   ],
   "source": [
    "# 字符串\n",
    "s = \"uevol\"\n",
    "s[::-1]"
   ]
  },
  {
   "cell_type": "code",
   "execution_count": 282,
   "id": "f91cb929",
   "metadata": {},
   "outputs": [
    {
     "data": {
      "text/plain": [
       "[5.2, '1', 1]"
      ]
     },
     "execution_count": 282,
     "metadata": {},
     "output_type": "execute_result"
    }
   ],
   "source": [
    "# 数组\n",
    "lst = [1, \"1\", 5.2]\n",
    "lst[::-1]"
   ]
  },
  {
   "cell_type": "code",
   "execution_count": 283,
   "id": "57ce7b07",
   "metadata": {
    "scrolled": true
   },
   "outputs": [
    {
     "data": {
      "text/plain": [
       "array([[ 9, 77, 65],\n",
       "       [44, 43, 86],\n",
       "       [ 9, 70, 20],\n",
       "       [10, 53, 97]])"
      ]
     },
     "execution_count": 283,
     "metadata": {},
     "output_type": "execute_result"
    }
   ],
   "source": [
    "arr"
   ]
  },
  {
   "cell_type": "code",
   "execution_count": 46,
   "id": "18f3c2ca",
   "metadata": {},
   "outputs": [
    {
     "data": {
      "text/plain": [
       "array([[ 9, 77, 65],\n",
       "       [44, 43, 86],\n",
       "       [ 9, 70, 20],\n",
       "       [10, 53, 97]])"
      ]
     },
     "execution_count": 46,
     "metadata": {},
     "output_type": "execute_result"
    }
   ],
   "source": [
    "arr"
   ]
  },
  {
   "cell_type": "code",
   "execution_count": 44,
   "id": "f9c69135",
   "metadata": {},
   "outputs": [
    {
     "data": {
      "text/plain": [
       "array([[10, 53, 97],\n",
       "       [ 9, 70, 20],\n",
       "       [44, 43, 86],\n",
       "       [ 9, 77, 65]])"
      ]
     },
     "execution_count": 44,
     "metadata": {},
     "output_type": "execute_result"
    }
   ],
   "source": [
    "# 我们按上面的套路：默认列反序\n",
    "arr[::-1]"
   ]
  },
  {
   "cell_type": "code",
   "execution_count": 287,
   "id": "5196bc11",
   "metadata": {
    "scrolled": false
   },
   "outputs": [
    {
     "data": {
      "text/plain": [
       "array([[10, 53, 97],\n",
       "       [ 9, 70, 20],\n",
       "       [44, 43, 86],\n",
       "       [ 9, 77, 65]])"
      ]
     },
     "execution_count": 287,
     "metadata": {},
     "output_type": "execute_result"
    }
   ],
   "source": [
    "# 列不变行反序\n",
    "arr[::-1, :]"
   ]
  },
  {
   "cell_type": "code",
   "execution_count": 288,
   "id": "a848897b",
   "metadata": {},
   "outputs": [
    {
     "data": {
      "text/plain": [
       "array([[65, 77,  9],\n",
       "       [86, 43, 44],\n",
       "       [20, 70,  9],\n",
       "       [97, 53, 10]])"
      ]
     },
     "execution_count": 288,
     "metadata": {},
     "output_type": "execute_result"
    }
   ],
   "source": [
    "# 在不同维度上操作：行不变列反序\n",
    "arr[:, ::-1]"
   ]
  },
  {
   "cell_type": "code",
   "execution_count": 291,
   "id": "52b69a8b",
   "metadata": {},
   "outputs": [
    {
     "data": {
      "text/plain": [
       "array([[97, 53, 10],\n",
       "       [20, 70,  9],\n",
       "       [86, 43, 44],\n",
       "       [65, 77,  9]])"
      ]
     },
     "execution_count": 291,
     "metadata": {},
     "output_type": "execute_result"
    }
   ],
   "source": [
    "# 行变列也变\n",
    "arr[::-1, ::-1]"
   ]
  },
  {
   "cell_type": "markdown",
   "id": "2cdc22f0",
   "metadata": {},
   "source": [
    "### 转置\n",
    "\n",
    "⭐⭐⭐\n",
    "\n",
    "转置是线性代数的基本操作，拿二维矩阵为例，通俗理解就是把它放倒，shape 反转，行变成列，列成为行。当然，对于多维也是类似的。我们建议您二维矩阵用 `arr.T`（会快很多），超过二维的张量可以用 `np.transpose`，会更加灵活些。\n",
    "\n",
    "⚠️ 需要注意的是：一维数组转置还是自己。"
   ]
  },
  {
   "cell_type": "code",
   "execution_count": 355,
   "id": "64699518",
   "metadata": {},
   "outputs": [
    {
     "data": {
      "text/plain": [
       "(2,)"
      ]
     },
     "execution_count": 355,
     "metadata": {},
     "output_type": "execute_result"
    }
   ],
   "source": [
    "# 一维\n",
    "np.array([1,2]).T.shape"
   ]
  },
  {
   "cell_type": "code",
   "execution_count": 49,
   "id": "197960cd",
   "metadata": {},
   "outputs": [
    {
     "data": {
      "text/plain": [
       "array([[ 9, 77, 65],\n",
       "       [44, 43, 86],\n",
       "       [ 9, 70, 20],\n",
       "       [10, 53, 97]])"
      ]
     },
     "execution_count": 49,
     "metadata": {},
     "output_type": "execute_result"
    }
   ],
   "source": [
    "arr"
   ]
  },
  {
   "cell_type": "markdown",
   "id": "acd75f46",
   "metadata": {},
   "source": [
    "#### `arr.T`"
   ]
  },
  {
   "cell_type": "code",
   "execution_count": 50,
   "id": "186a7ca0",
   "metadata": {
    "scrolled": true
   },
   "outputs": [
    {
     "data": {
      "text/plain": [
       "array([[ 9, 44,  9, 10],\n",
       "       [77, 43, 70, 53],\n",
       "       [65, 86, 20, 97]])"
      ]
     },
     "execution_count": 50,
     "metadata": {},
     "output_type": "execute_result"
    }
   ],
   "source": [
    "# 简便用法，把所有维度顺序都给倒过来\n",
    "arr.T"
   ]
  },
  {
   "cell_type": "code",
   "execution_count": 323,
   "id": "5dd1d294",
   "metadata": {
    "scrolled": true
   },
   "outputs": [
    {
     "data": {
      "text/plain": [
       "(4, 3, 1, 1)"
      ]
     },
     "execution_count": 323,
     "metadata": {},
     "output_type": "execute_result"
    }
   ],
   "source": [
    "# 将 shape=(1,1,3,4) 的转置后得到 shape=(4,3,1,1)\n",
    "arr.reshape(1, 1, 3, 4).T.shape"
   ]
  },
  {
   "cell_type": "code",
   "execution_count": 324,
   "id": "bdb25a26",
   "metadata": {},
   "outputs": [
    {
     "data": {
      "text/plain": [
       "(1, 3, 1, 2, 2, 1)"
      ]
     },
     "execution_count": 324,
     "metadata": {},
     "output_type": "execute_result"
    }
   ],
   "source": [
    "# 同上\n",
    "arr.reshape(1, 2, 2, 1, 3, 1).T.shape"
   ]
  },
  {
   "cell_type": "markdown",
   "id": "cc78d45d",
   "metadata": {},
   "source": [
    "#### `np.transpose`"
   ]
  },
  {
   "cell_type": "code",
   "execution_count": 341,
   "id": "034a7658",
   "metadata": {
    "scrolled": true
   },
   "outputs": [
    {
     "data": {
      "text/plain": [
       "array([[ 9, 44,  9, 10],\n",
       "       [77, 43, 70, 53],\n",
       "       [65, 86, 20, 97]])"
      ]
     },
     "execution_count": 341,
     "metadata": {},
     "output_type": "execute_result"
    }
   ],
   "source": [
    "# 这种转置方式可以指定 axes\n",
    "np.transpose(arr)"
   ]
  },
  {
   "cell_type": "code",
   "execution_count": 340,
   "id": "ea2ca5a1",
   "metadata": {},
   "outputs": [
    {
     "data": {
      "text/plain": [
       "(1, 3, 1, 2, 2, 1)"
      ]
     },
     "execution_count": 340,
     "metadata": {},
     "output_type": "execute_result"
    }
   ],
   "source": [
    "# 不指定 axes 时和 .T 是一样的\n",
    "np.transpose(arr.reshape(1, 2, 2, 1, 3, 1)).shape"
   ]
  },
  {
   "cell_type": "code",
   "execution_count": 347,
   "id": "324da7c0",
   "metadata": {},
   "outputs": [
    {
     "data": {
      "text/plain": [
       "(1, 3, 1, 4)"
      ]
     },
     "execution_count": 347,
     "metadata": {},
     "output_type": "execute_result"
    }
   ],
   "source": [
    "# 指定 axes，不过 axes 数量必须包含所有维度的序列\n",
    "# 比如两个维度就是 (0, 1)，四个就是 (0, 1, 2, 3)\n",
    "# 当然，顺序可以改变，比如下面就是只转置第 2 个和第 3 个维度\n",
    "# 注意，只有超过 2 维时，这样才有意义\n",
    "# 下面的结果中，中间2个维度被调换顺序了，顺序就在axes中指定的\n",
    "np.transpose(arr.reshape(1, 1, 3, 4), axes=(0, 2, 1, 3)).shape"
   ]
  },
  {
   "cell_type": "markdown",
   "id": "896c6f5d",
   "metadata": {},
   "source": [
    "## 分解和组合\n",
    "\n",
    "这节我们主要学习 array 的分解和组合，本节是所有章节中最重要的一节，通过本节内容，您可以充分了解 `numpy`（以及 Python 语言）的强大，这种操作上的优雅不能说后无来者，但至少前无古人了。\n",
    "\n",
    "内容大致包括以下小节：\n",
    "\n",
    "- 切片和索引\n",
    "- 拼接\n",
    "- 重复\n",
    "- 分拆\n",
    "\n",
    "其中，重中之重是「切片和索引」，它基础、它高频、它无处不在。我们强烈建议您熟练掌握，其他三个相对简单，只需要各记住一个 API 即可。"
   ]
  },
  {
   "cell_type": "markdown",
   "id": "0e4d4f17",
   "metadata": {},
   "source": [
    "### 切片和索引\n",
    "\n",
    "⭐⭐⭐⭐⭐\n",
    "\n",
    "划重点！切片和索引是通过对已有 array 进行操作而得到想要的「部分」元素的行为过程。其核心动作可以概括为：按维度根据 `start:stop:step` 操作 array。\n",
    "\n",
    "这部分内容的核心是把处理按维度分开，不处理的维度统一用 `:` 或 `...` 代替；在看操作时，也要首先关注「`,`」在哪里。要处理的维度和之前 `arange` `linspace` 等接口使用方法是一样的。\n",
    "\n",
    "⚠️ 需要注意的是：引支持负数，即从后往前索引。"
   ]
  },
  {
   "cell_type": "code",
   "execution_count": 33,
   "id": "17e4095c",
   "metadata": {
    "scrolled": true
   },
   "outputs": [
    {
     "data": {
      "text/plain": [
       "array([[ 1, 15, 13,  8],\n",
       "       [ 8, 17,  1, 13],\n",
       "       [ 4,  1, 10, 19],\n",
       "       [14, 15, 14, 15],\n",
       "       [10,  2, 16,  9]])"
      ]
     },
     "execution_count": 33,
     "metadata": {},
     "output_type": "execute_result"
    }
   ],
   "source": [
    "rng = np.random.default_rng(42)\n",
    "arr = rng.integers(0, 20, (5, 4))\n",
    "arr"
   ]
  },
  {
   "cell_type": "markdown",
   "id": "88ccb651",
   "metadata": {},
   "source": [
    "#### `index/slice`"
   ]
  },
  {
   "cell_type": "code",
   "execution_count": 23,
   "id": "b633412d",
   "metadata": {},
   "outputs": [
    {
     "data": {
      "text/plain": [
       "array([ 1, 15, 13,  8])"
      ]
     },
     "execution_count": 23,
     "metadata": {},
     "output_type": "execute_result"
    }
   ],
   "source": [
    "# 取第 0 行\n",
    "arr[0]"
   ]
  },
  {
   "cell_type": "code",
   "execution_count": 32,
   "id": "b63e8d82",
   "metadata": {
    "scrolled": true
   },
   "outputs": [
    {
     "data": {
      "text/plain": [
       "15"
      ]
     },
     "execution_count": 32,
     "metadata": {},
     "output_type": "execute_result"
    }
   ],
   "source": [
    "# 取第 0 行第 1 个元素\n",
    "arr[0, 1]"
   ]
  },
  {
   "cell_type": "code",
   "execution_count": 34,
   "id": "d4391614",
   "metadata": {
    "scrolled": true
   },
   "outputs": [
    {
     "data": {
      "text/plain": [
       "array([[ 1, 15, 13,  8],\n",
       "       [ 8, 17,  1, 13],\n",
       "       [ 4,  1, 10, 19]])"
      ]
     },
     "execution_count": 34,
     "metadata": {},
     "output_type": "execute_result"
    }
   ],
   "source": [
    "# 然后带点范围 第 1-2 行\n",
    "arr[0:3]"
   ]
  },
  {
   "cell_type": "code",
   "execution_count": 17,
   "id": "fc007639",
   "metadata": {
    "scrolled": true
   },
   "outputs": [
    {
     "data": {
      "text/plain": [
       "array([[ 1, 15, 13,  8],\n",
       "       [14, 15, 14, 15]])"
      ]
     },
     "execution_count": 17,
     "metadata": {},
     "output_type": "execute_result"
    }
   ],
   "source": [
    "# 离散也可以：第 1，3 行\n",
    "arr[[0, 3]]"
   ]
  },
  {
   "cell_type": "code",
   "execution_count": 379,
   "id": "e74bbf23",
   "metadata": {},
   "outputs": [
    {
     "data": {
      "text/plain": [
       "array([[ 1, 15, 13,  8],\n",
       "       [ 8, 17,  1, 13],\n",
       "       [ 4,  1, 10, 19],\n",
       "       [14, 15, 14, 15],\n",
       "       [10,  2, 16,  9]])"
      ]
     },
     "execution_count": 379,
     "metadata": {},
     "output_type": "execute_result"
    }
   ],
   "source": [
    "arr"
   ]
  },
  {
   "cell_type": "code",
   "execution_count": 380,
   "id": "2ab525b8",
   "metadata": {},
   "outputs": [
    {
     "data": {
      "text/plain": [
       "array([17,  1])"
      ]
     },
     "execution_count": 380,
     "metadata": {},
     "output_type": "execute_result"
    }
   ],
   "source": [
    "# 再来加上维度：第 1-2 行，第 1 列\n",
    "arr[1:3, 1]"
   ]
  },
  {
   "cell_type": "code",
   "execution_count": 38,
   "id": "3885701b",
   "metadata": {},
   "outputs": [
    {
     "data": {
      "text/plain": [
       "array([ 8, 14])"
      ]
     },
     "execution_count": 38,
     "metadata": {},
     "output_type": "execute_result"
    }
   ],
   "source": [
    "# 离散也是一样：第 1，3 行，第 0 列\n",
    "arr[[1,3], [0]]"
   ]
  },
  {
   "cell_type": "code",
   "execution_count": 39,
   "id": "07efa3c3",
   "metadata": {},
   "outputs": [
    {
     "data": {
      "text/plain": [
       "array([[14, 15, 14, 15],\n",
       "       [10,  2, 16,  9]])"
      ]
     },
     "execution_count": 39,
     "metadata": {},
     "output_type": "execute_result"
    }
   ],
   "source": [
    "# 还可以有简写：到最后或到开始。如第 3 行到最后一行\n",
    "arr[3:]"
   ]
  },
  {
   "cell_type": "code",
   "execution_count": 383,
   "id": "f3136e95",
   "metadata": {
    "scrolled": true
   },
   "outputs": [
    {
     "data": {
      "text/plain": [
       "array([[15, 13],\n",
       "       [17,  1],\n",
       "       [ 1, 10]])"
      ]
     },
     "execution_count": 383,
     "metadata": {},
     "output_type": "execute_result"
    }
   ],
   "source": [
    "# 开始到第 3 行，第 1-3 列\n",
    "arr[:3, 1:3]"
   ]
  },
  {
   "cell_type": "code",
   "execution_count": 384,
   "id": "d45c5e10",
   "metadata": {},
   "outputs": [
    {
     "data": {
      "text/plain": [
       "array([[ 8, 17,  1, 13],\n",
       "       [14, 15, 14, 15]])"
      ]
     },
     "execution_count": 384,
     "metadata": {},
     "output_type": "execute_result"
    }
   ],
   "source": [
    "# 还可以来点跳跃，步长：start:stop:step，第 1 行到第 4 行，间隔为 2，即第 1、3 行\n",
    "arr[1: 4: 2]"
   ]
  },
  {
   "cell_type": "code",
   "execution_count": 385,
   "id": "500e6080",
   "metadata": {},
   "outputs": [
    {
     "data": {
      "text/plain": [
       "array([[ 8,  1],\n",
       "       [14, 14]])"
      ]
     },
     "execution_count": 385,
     "metadata": {},
     "output_type": "execute_result"
    }
   ],
   "source": [
    "# 加上列也可以哦，第 1、3 行，第 0、2 列\n",
    "arr[1:4:2, 0:3:2]"
   ]
  },
  {
   "cell_type": "code",
   "execution_count": 386,
   "id": "9094b525",
   "metadata": {
    "scrolled": true
   },
   "outputs": [
    {
     "data": {
      "text/plain": [
       "array([[ 1, 15, 13,  8],\n",
       "       [ 8, 17,  1, 13],\n",
       "       [ 4,  1, 10, 19],\n",
       "       [14, 15, 14, 15],\n",
       "       [10,  2, 16,  9]])"
      ]
     },
     "execution_count": 386,
     "metadata": {},
     "output_type": "execute_result"
    }
   ],
   "source": [
    "arr"
   ]
  },
  {
   "cell_type": "code",
   "execution_count": 387,
   "id": "12e68771",
   "metadata": {},
   "outputs": [
    {
     "data": {
      "text/plain": [
       "array([15, 17,  1, 15,  2])"
      ]
     },
     "execution_count": 387,
     "metadata": {},
     "output_type": "execute_result"
    }
   ],
   "source": [
    "# 第一列的值，其实是所有其他维度第 1 维的值\n",
    "arr[...,1]"
   ]
  },
  {
   "cell_type": "code",
   "execution_count": 388,
   "id": "612ac2ca",
   "metadata": {},
   "outputs": [
    {
     "data": {
      "text/plain": [
       "array([15, 17,  1, 15,  2])"
      ]
     },
     "execution_count": 388,
     "metadata": {},
     "output_type": "execute_result"
    }
   ],
   "source": [
    "# 与上面类似，但用的更多\n",
    "arr[:,1]"
   ]
  },
  {
   "cell_type": "markdown",
   "id": "2aa340d5",
   "metadata": {},
   "source": [
    "### 拼接\n",
    "\n",
    "⭐⭐⭐⭐\n",
    "\n",
    "有时候我们需要对已有的几个 array 进行拼接以形成一个大的 array（常见的例子比如不同类型特征的拼接）。本小节严格来说只有两个 API：`np.concatenate` 和 `np.stack`，前者是拼接，后者是堆叠（会增加一个维度），都可以指定维度。记住，有它俩就够了。\n",
    "\n",
    "⚠️ 需要注意的是：`hstack` 和 `vstack` 和 `stack` 没关系，反而是 `concatenate`。"
   ]
  },
  {
   "cell_type": "code",
   "execution_count": 389,
   "id": "c6ae1552",
   "metadata": {},
   "outputs": [
    {
     "data": {
      "text/plain": [
       "(array([[0.77395605, 0.43887844, 0.85859792],\n",
       "        [0.69736803, 0.09417735, 0.97562235]]),\n",
       " array([[0.7611397 , 0.78606431, 0.12811363],\n",
       "        [0.45038594, 0.37079802, 0.92676499]]))"
      ]
     },
     "execution_count": 389,
     "metadata": {},
     "output_type": "execute_result"
    }
   ],
   "source": [
    "rng = np.random.default_rng(42)\n",
    "\n",
    "arr1 = rng.random((2, 3))\n",
    "arr2 = rng.random((2, 3))\n",
    "arr1, arr2"
   ]
  },
  {
   "cell_type": "markdown",
   "id": "6300ab70",
   "metadata": {},
   "source": [
    "#### `np.concatenate`"
   ]
  },
  {
   "cell_type": "code",
   "execution_count": 60,
   "id": "49bf169b",
   "metadata": {
    "scrolled": true
   },
   "outputs": [
    {
     "data": {
      "text/plain": [
       "array([[0.77395605, 0.43887844, 0.85859792],\n",
       "       [0.69736803, 0.09417735, 0.97562235],\n",
       "       [0.7611397 , 0.78606431, 0.12811363],\n",
       "       [0.45038594, 0.37079802, 0.92676499]])"
      ]
     },
     "execution_count": 60,
     "metadata": {},
     "output_type": "execute_result"
    }
   ],
   "source": [
    "# 默认沿axis=0（列）连接\n",
    "np.concatenate((arr1, arr2))"
   ]
  },
  {
   "cell_type": "code",
   "execution_count": 61,
   "id": "1be4f713",
   "metadata": {},
   "outputs": [
    {
     "data": {
      "text/plain": [
       "array([[0.77395605, 0.43887844, 0.85859792, 0.7611397 , 0.78606431,\n",
       "        0.12811363],\n",
       "       [0.69736803, 0.09417735, 0.97562235, 0.45038594, 0.37079802,\n",
       "        0.92676499]])"
      ]
     },
     "execution_count": 61,
     "metadata": {},
     "output_type": "execute_result"
    }
   ],
   "source": [
    "# 沿 axis=1（行）连接\n",
    "np.concatenate((arr1, arr2), axis=1)"
   ]
  },
  {
   "cell_type": "markdown",
   "id": "90e65081",
   "metadata": {},
   "source": [
    "---"
   ]
  },
  {
   "cell_type": "code",
   "execution_count": 78,
   "id": "27f419f2",
   "metadata": {},
   "outputs": [
    {
     "data": {
      "text/plain": [
       "array([[0.77395605, 0.43887844, 0.85859792],\n",
       "       [0.69736803, 0.09417735, 0.97562235],\n",
       "       [0.7611397 , 0.78606431, 0.12811363],\n",
       "       [0.45038594, 0.37079802, 0.92676499]])"
      ]
     },
     "execution_count": 78,
     "metadata": {},
     "output_type": "execute_result"
    }
   ],
   "source": [
    "# 竖直按行顺序拼接\n",
    "# 注意：vstack 虽然看起来是 stack，但其实它是 concatenate，建议您只使用 `np.concatenate`\n",
    "np.vstack((arr1, arr2))"
   ]
  },
  {
   "cell_type": "code",
   "execution_count": 83,
   "id": "48895e55",
   "metadata": {},
   "outputs": [
    {
     "data": {
      "text/plain": [
       "array([[0.77395605, 0.43887844, 0.85859792, 0.7611397 , 0.78606431,\n",
       "        0.12811363],\n",
       "       [0.69736803, 0.09417735, 0.97562235, 0.45038594, 0.37079802,\n",
       "        0.92676499]])"
      ]
     },
     "execution_count": 83,
     "metadata": {},
     "output_type": "execute_result"
    }
   ],
   "source": [
    "# 水平按列顺序拼接\n",
    "# 道理和 vstack 一样，建议使用 `np.concatenate` axis=1\n",
    "np.hstack((arr1, arr2))"
   ]
  },
  {
   "cell_type": "markdown",
   "id": "16e84656",
   "metadata": {},
   "source": [
    "#### `np.stack`"
   ]
  },
  {
   "cell_type": "code",
   "execution_count": 65,
   "id": "69864b61",
   "metadata": {},
   "outputs": [
    {
     "data": {
      "text/plain": [
       "array([[[0.77395605, 0.43887844, 0.85859792],\n",
       "        [0.69736803, 0.09417735, 0.97562235]],\n",
       "\n",
       "       [[0.7611397 , 0.78606431, 0.12811363],\n",
       "        [0.45038594, 0.37079802, 0.92676499]]])"
      ]
     },
     "execution_count": 65,
     "metadata": {},
     "output_type": "execute_result"
    }
   ],
   "source": [
    "# 堆叠，默认根据 axis=0 进行\n",
    "np.stack((arr1, arr2))"
   ]
  },
  {
   "cell_type": "code",
   "execution_count": 88,
   "id": "761ecc57",
   "metadata": {
    "scrolled": true
   },
   "outputs": [
    {
     "data": {
      "text/plain": [
       "(2, 2, 3)"
      ]
     },
     "execution_count": 88,
     "metadata": {},
     "output_type": "execute_result"
    }
   ],
   "source": [
    "_.shape"
   ]
  },
  {
   "cell_type": "code",
   "execution_count": 91,
   "id": "e60a92b1",
   "metadata": {},
   "outputs": [
    {
     "data": {
      "text/plain": [
       "array([[[0.77395605, 0.7611397 ],\n",
       "        [0.43887844, 0.78606431],\n",
       "        [0.85859792, 0.12811363]],\n",
       "\n",
       "       [[0.69736803, 0.45038594],\n",
       "        [0.09417735, 0.37079802],\n",
       "        [0.97562235, 0.92676499]]])"
      ]
     },
     "execution_count": 91,
     "metadata": {},
     "output_type": "execute_result"
    }
   ],
   "source": [
    "# 堆叠，根据 axis=2\n",
    "np.stack((arr1, arr2), axis=2)"
   ]
  },
  {
   "cell_type": "code",
   "execution_count": 92,
   "id": "c0fd8b7a",
   "metadata": {},
   "outputs": [
    {
     "data": {
      "text/plain": [
       "(2, 3, 2)"
      ]
     },
     "execution_count": 92,
     "metadata": {},
     "output_type": "execute_result"
    }
   ],
   "source": [
    "# _ 表示上一个 Cell 的输出结果\n",
    "_.shape"
   ]
  },
  {
   "cell_type": "markdown",
   "id": "af5d9d85",
   "metadata": {},
   "source": [
    "---"
   ]
  },
  {
   "cell_type": "code",
   "execution_count": 96,
   "id": "8002478b",
   "metadata": {},
   "outputs": [
    {
     "data": {
      "text/plain": [
       "array([[[0.77395605, 0.7611397 ],\n",
       "        [0.43887844, 0.78606431],\n",
       "        [0.85859792, 0.12811363]],\n",
       "\n",
       "       [[0.69736803, 0.45038594],\n",
       "        [0.09417735, 0.37079802],\n",
       "        [0.97562235, 0.92676499]]])"
      ]
     },
     "execution_count": 96,
     "metadata": {},
     "output_type": "execute_result"
    }
   ],
   "source": [
    "# 纵深按 axis=2 堆叠，不管它就行，我们认准 `stack`\n",
    "np.dstack((arr1, arr2))"
   ]
  },
  {
   "cell_type": "code",
   "execution_count": 94,
   "id": "ff6b1321",
   "metadata": {},
   "outputs": [
    {
     "data": {
      "text/plain": [
       "(2, 3, 2)"
      ]
     },
     "execution_count": 94,
     "metadata": {},
     "output_type": "execute_result"
    }
   ],
   "source": [
    "_.shape"
   ]
  },
  {
   "cell_type": "markdown",
   "id": "a565521b",
   "metadata": {},
   "source": [
    "### 重复\n",
    "\n",
    "⭐⭐⭐\n",
    "\n",
    "重复其实是另一种拼接方式，它也可以指定要重复的维度。在有些深度学习模型数据构建中非常有用（方便）。\n",
    "\n",
    "⚠️ 需要注意的是：是一个维度一个维度依次重复，而不是整个 array 重复。"
   ]
  },
  {
   "cell_type": "code",
   "execution_count": 66,
   "id": "48ce5534",
   "metadata": {},
   "outputs": [
    {
     "data": {
      "text/plain": [
       "array([[0, 7, 6, 4],\n",
       "       [4, 8, 0, 6],\n",
       "       [2, 0, 5, 9]])"
      ]
     },
     "execution_count": 66,
     "metadata": {},
     "output_type": "execute_result"
    }
   ],
   "source": [
    "rng = np.random.default_rng(42)\n",
    "arr = rng.integers(0, 10, (3, 4))\n",
    "arr"
   ]
  },
  {
   "cell_type": "code",
   "execution_count": 67,
   "id": "8d34b26d",
   "metadata": {},
   "outputs": [
    {
     "data": {
      "text/plain": [
       "array([[0, 7, 6, 4],\n",
       "       [0, 7, 6, 4],\n",
       "       [4, 8, 0, 6],\n",
       "       [4, 8, 0, 6],\n",
       "       [2, 0, 5, 9],\n",
       "       [2, 0, 5, 9]])"
      ]
     },
     "execution_count": 67,
     "metadata": {},
     "output_type": "execute_result"
    }
   ],
   "source": [
    "# 在 axis=0（沿着列）上重复 2 次\n",
    "np.repeat(arr, 2, axis=0)"
   ]
  },
  {
   "cell_type": "code",
   "execution_count": 68,
   "id": "1caaf27e",
   "metadata": {},
   "outputs": [
    {
     "data": {
      "text/plain": [
       "array([[0, 0, 0, 7, 7, 7, 6, 6, 6, 4, 4, 4],\n",
       "       [4, 4, 4, 8, 8, 8, 0, 0, 0, 6, 6, 6],\n",
       "       [2, 2, 2, 0, 0, 0, 5, 5, 5, 9, 9, 9]])"
      ]
     },
     "execution_count": 68,
     "metadata": {},
     "output_type": "execute_result"
    }
   ],
   "source": [
    "# 在 axis=1（沿着行）上重复 3 次\n",
    "np.repeat(arr, 3, axis=1)"
   ]
  },
  {
   "cell_type": "markdown",
   "id": "0aaf47d3",
   "metadata": {},
   "source": [
    "### 分拆\n",
    "\n",
    "⭐⭐⭐\n",
    "\n",
    "有拼接堆叠自然就有拆分，注意这不是切片和索引，就是将 array 拆成想要的几份。用的不是特别多，API 只要记住 `np.split` 就行了，其他的都是快捷方式。\n",
    "\n",
    "⚠️ 需要注意的是：分拆的 axis 是对该维度进行拆分。"
   ]
  },
  {
   "cell_type": "code",
   "execution_count": 69,
   "id": "0ddd89b6",
   "metadata": {},
   "outputs": [
    {
     "data": {
      "text/plain": [
       "array([[ 9, 77, 65, 44],\n",
       "       [43, 86,  9, 70],\n",
       "       [20, 10, 53, 97],\n",
       "       [73, 76, 72, 78],\n",
       "       [51, 13, 84, 45],\n",
       "       [50, 37, 19, 92]])"
      ]
     },
     "execution_count": 69,
     "metadata": {},
     "output_type": "execute_result"
    }
   ],
   "source": [
    "rng = np.random.default_rng(42)\n",
    "arr = rng.integers(1, 100, (6, 4))\n",
    "arr"
   ]
  },
  {
   "cell_type": "markdown",
   "id": "6707e00c",
   "metadata": {},
   "source": [
    "#### `np.split`"
   ]
  },
  {
   "cell_type": "code",
   "execution_count": 70,
   "id": "66d61488",
   "metadata": {},
   "outputs": [
    {
     "data": {
      "text/plain": [
       "[array([[ 9, 77, 65, 44],\n",
       "        [43, 86,  9, 70]]),\n",
       " array([[20, 10, 53, 97],\n",
       "        [73, 76, 72, 78]]),\n",
       " array([[51, 13, 84, 45],\n",
       "        [50, 37, 19, 92]])]"
      ]
     },
     "execution_count": 70,
     "metadata": {},
     "output_type": "execute_result"
    }
   ],
   "source": [
    "# 默认切分列（axis=0），切成 3 份\n",
    "np.split(arr, 3)"
   ]
  },
  {
   "cell_type": "code",
   "execution_count": 129,
   "id": "b51ca3be",
   "metadata": {},
   "outputs": [
    {
     "data": {
      "text/plain": [
       "[array([[ 9, 77],\n",
       "        [43, 86],\n",
       "        [20, 10],\n",
       "        [73, 76],\n",
       "        [51, 13],\n",
       "        [50, 37]]),\n",
       " array([[65, 44],\n",
       "        [ 9, 70],\n",
       "        [53, 97],\n",
       "        [72, 78],\n",
       "        [84, 45],\n",
       "        [19, 92]])]"
      ]
     },
     "execution_count": 129,
     "metadata": {},
     "output_type": "execute_result"
    }
   ],
   "source": [
    "# （axis=1）切分行\n",
    "np.split(arr, 2, axis=1)"
   ]
  },
  {
   "cell_type": "markdown",
   "id": "46872f9b",
   "metadata": {},
   "source": [
    "---"
   ]
  },
  {
   "cell_type": "code",
   "execution_count": 123,
   "id": "a260df87",
   "metadata": {
    "scrolled": false
   },
   "outputs": [
    {
     "data": {
      "text/plain": [
       "[array([[ 9, 77, 65, 44],\n",
       "        [43, 86,  9, 70]]),\n",
       " array([[20, 10, 53, 97],\n",
       "        [73, 76, 72, 78]]),\n",
       " array([[51, 13, 84, 45],\n",
       "        [50, 37, 19, 92]])]"
      ]
     },
     "execution_count": 123,
     "metadata": {},
     "output_type": "execute_result"
    }
   ],
   "source": [
    "# 和上面的一个效果\n",
    "np.vsplit(arr, 3)"
   ]
  },
  {
   "cell_type": "code",
   "execution_count": 130,
   "id": "9e0df0c8",
   "metadata": {
    "scrolled": true
   },
   "outputs": [
    {
     "data": {
      "text/plain": [
       "[array([[ 9, 77],\n",
       "        [43, 86],\n",
       "        [20, 10],\n",
       "        [73, 76],\n",
       "        [51, 13],\n",
       "        [50, 37]]),\n",
       " array([[65, 44],\n",
       "        [ 9, 70],\n",
       "        [53, 97],\n",
       "        [72, 78],\n",
       "        [84, 45],\n",
       "        [19, 92]])]"
      ]
     },
     "execution_count": 130,
     "metadata": {},
     "output_type": "execute_result"
    }
   ],
   "source": [
    "# 等价的用法\n",
    "np.hsplit(arr, 2)"
   ]
  },
  {
   "cell_type": "markdown",
   "id": "cb0f38c7",
   "metadata": {},
   "source": [
    "## 筛选和过滤\n",
    "\n",
    "这小节与索引和切片有点类似，但倾向于从「整体」中统一筛选出「符合条件」的内容，而索引和切片更多的是依照「某种方法」切出一块内容。本小节内容同样非常重要，可以算第二个最重要的小节。主要包括以下内容：\n",
    "\n",
    "- 条件筛选\n",
    "- 提取（按条件）\n",
    "- 抽样（按分布）\n",
    "- 最大最小 index（特殊值）\n",
    "\n",
    "这几个内容都很重要，使用的也非常高频。条件筛选经常用于 Mask 或异常值处理，提取则常用于结果过滤，抽样常用在数据生成（比如负样本抽样），最大最小 index 则常见于机器学习模型预测结果判定中（根据最大概率所在的 index 决定结果属于哪一类）。"
   ]
  },
  {
   "cell_type": "code",
   "execution_count": 71,
   "id": "6f1ba5ca",
   "metadata": {},
   "outputs": [
    {
     "data": {
      "text/plain": [
       "array([[ 9, 77, 65, 44],\n",
       "       [43, 86,  9, 70],\n",
       "       [20, 10, 53, 97]])"
      ]
     },
     "execution_count": 71,
     "metadata": {},
     "output_type": "execute_result"
    }
   ],
   "source": [
    "rng = np.random.default_rng(42)\n",
    "arr = rng.integers(1, 100, (3, 4))\n",
    "arr"
   ]
  },
  {
   "cell_type": "markdown",
   "id": "c89ec78e",
   "metadata": {},
   "source": [
    "### 条件筛选\n",
    "\n",
    "⭐⭐⭐\n",
    "\n",
    "顾名思义，根据一定的条件对 array 进行筛选（标记）并后续处理。核心 API 是 `np.where`。\n",
    "\n",
    "⚠️ 需要注意的是：where 分别返回各维度的 index，赋值的是「不满足」条件的。"
   ]
  },
  {
   "cell_type": "code",
   "execution_count": 72,
   "id": "393d3dd1",
   "metadata": {},
   "outputs": [
    {
     "data": {
      "text/plain": [
       "array([[False,  True,  True, False],\n",
       "       [False,  True, False,  True],\n",
       "       [False, False,  True,  True]])"
      ]
     },
     "execution_count": 72,
     "metadata": {},
     "output_type": "execute_result"
    }
   ],
   "source": [
    "# 条件筛选，可以直接在整个 array 上使用条件\n",
    "arr > 50"
   ]
  },
  {
   "cell_type": "code",
   "execution_count": 138,
   "id": "29700817",
   "metadata": {},
   "outputs": [
    {
     "data": {
      "text/plain": [
       "(array([0, 0, 1, 1, 2, 2]), array([1, 2, 1, 3, 2, 3]))"
      ]
     },
     "execution_count": 138,
     "metadata": {},
     "output_type": "execute_result"
    }
   ],
   "source": [
    "# 返回满足条件的索引，因为是两个维度，所以会返回两组结果\n",
    "np.where(arr > 50)"
   ]
  },
  {
   "cell_type": "code",
   "execution_count": 145,
   "id": "a2a3c4a9",
   "metadata": {},
   "outputs": [
    {
     "data": {
      "text/plain": [
       "array([[-1, 77, 65, -1],\n",
       "       [-1, 86, -1, 70],\n",
       "       [-1, -1, 53, 97]])"
      ]
     },
     "execution_count": 145,
     "metadata": {},
     "output_type": "execute_result"
    }
   ],
   "source": [
    "# 不满足条件的赋值，将 <=50 的替换为 -1\n",
    "np.where(arr > 50, arr, -1)"
   ]
  },
  {
   "cell_type": "markdown",
   "id": "2759da8d",
   "metadata": {},
   "source": [
    "### 提取\n",
    "\n",
    "⭐\n",
    "\n",
    "在 array 中提取指定条件的值。\n",
    "\n",
    "⚠️ 需要注意的是：提取和唯一值返回的都是一维向量。"
   ]
  },
  {
   "cell_type": "code",
   "execution_count": 146,
   "id": "ea457eae",
   "metadata": {},
   "outputs": [
    {
     "data": {
      "text/plain": [
       "array([77, 65, 86, 70, 53, 97])"
      ]
     },
     "execution_count": 146,
     "metadata": {},
     "output_type": "execute_result"
    }
   ],
   "source": [
    "# 提取指定条件的值\n",
    "np.extract(arr > 50, arr)"
   ]
  },
  {
   "cell_type": "code",
   "execution_count": 148,
   "id": "6273f436",
   "metadata": {},
   "outputs": [
    {
     "data": {
      "text/plain": [
       "array([ 9, 10, 20, 43, 44, 53, 65, 70, 77, 86, 97])"
      ]
     },
     "execution_count": 148,
     "metadata": {},
     "output_type": "execute_result"
    }
   ],
   "source": [
    "# 唯一值，是另一种形式的提取\n",
    "np.unique(arr)"
   ]
  },
  {
   "cell_type": "markdown",
   "id": "6cbbb8c3",
   "metadata": {},
   "source": [
    "### 抽样\n",
    "\n",
    "⭐⭐⭐⭐⭐\n",
    "\n",
    "我们在跑模型时常常需要使用部分数据对整个过程快速验证，您当然可以使用 `np.random` 生成模拟数据。但有真实数据时，从真实数据中随机抽样会比较好。"
   ]
  },
  {
   "cell_type": "code",
   "execution_count": 73,
   "id": "f1317330",
   "metadata": {},
   "outputs": [
    {
     "data": {
      "text/plain": [
       "array([3, 2])"
      ]
     },
     "execution_count": 73,
     "metadata": {},
     "output_type": "execute_result"
    }
   ],
   "source": [
    "rng = np.random.default_rng(42)\n",
    "# 第一个参数是要抽样的集合，如果是一个整数，则表示从 0 到该值\n",
    "# 第二个参数是样本大小\n",
    "# 第三个参数表示结果是否可以重复\n",
    "# 第四个参数表示出现的概率，长度和第一个参数一样\n",
    "\n",
    "# 由于（0 1 2 3）中 2 和 3 的概率比较高，自然就选择了 2 和 3\n",
    "rng.choice(4, 2, replace=False, p=[0.1, 0.2, 0.3, 0.4])"
   ]
  },
  {
   "cell_type": "code",
   "execution_count": 179,
   "id": "53aa6e15",
   "metadata": {},
   "outputs": [
    {
     "data": {
      "text/plain": [
       "array([6339, 4894, 1531, 7814,  224, 9538, 9619, 3801, 3359, 3617, 2795,\n",
       "       6627, 8501, 1681, 4212, 5085, 2439,  744, 9123, 6733, 5688, 5480,\n",
       "       6983, 7058,  310, 1838, 5072,  746, 5873, 9372, 5953, 4944, 1780,\n",
       "        464, 1247,  845, 1807, 7354, 4925,  547, 2996, 3909, 7344, 9617,\n",
       "       8642,  661, 2453, 5475,  228, 2427])"
      ]
     },
     "execution_count": 179,
     "metadata": {},
     "output_type": "execute_result"
    }
   ],
   "source": [
    "# 旧的 API\n",
    "# 如果是抽样语料的 index，更多的方法是这样：\n",
    "data_size = 10000\n",
    "np.random.choice(data_size, 50, replace=False)"
   ]
  },
  {
   "cell_type": "markdown",
   "id": "afdd308a",
   "metadata": {},
   "source": [
    "### 最值 Index\n",
    "\n",
    "⭐⭐⭐⭐⭐\n",
    "\n",
    "这小节主要是两个 API：`np.argmax(min)` 和 `np.argsort`，当然最常用的还是第一个，不用说，自然是可以（需要）指定 axis 的。"
   ]
  },
  {
   "cell_type": "code",
   "execution_count": 78,
   "id": "efcad81f",
   "metadata": {},
   "outputs": [
    {
     "data": {
      "text/plain": [
       "array([[77.62164881, 44.44896554, 86.00119407, 70.03943488],\n",
       "       [10.32355744, 97.58661281, 76.3528305 , 78.82036622],\n",
       "       [13.68324963, 45.58820785, 37.7090044 , 92.7497339 ]])"
      ]
     },
     "execution_count": 78,
     "metadata": {},
     "output_type": "execute_result"
    }
   ],
   "source": [
    "rng = np.random.default_rng(42)\n",
    "arr = rng.uniform(1, 100, (3, 4))\n",
    "arr"
   ]
  },
  {
   "cell_type": "markdown",
   "id": "58e074d5",
   "metadata": {},
   "source": [
    "#### `np.argmax/argmin`"
   ]
  },
  {
   "cell_type": "code",
   "execution_count": 201,
   "id": "b11532fb",
   "metadata": {
    "scrolled": true
   },
   "outputs": [
    {
     "data": {
      "text/plain": [
       "5"
      ]
     },
     "execution_count": 201,
     "metadata": {},
     "output_type": "execute_result"
    }
   ],
   "source": [
    "# 所有值中最大值的 Index，基本不这么用\n",
    "np.argmax(arr)"
   ]
  },
  {
   "cell_type": "code",
   "execution_count": 202,
   "id": "26f0ca66",
   "metadata": {},
   "outputs": [
    {
     "data": {
      "text/plain": [
       "array([0, 1, 0, 2])"
      ]
     },
     "execution_count": 202,
     "metadata": {},
     "output_type": "execute_result"
    }
   ],
   "source": [
    "# 按列（axis=0）最大值的 Index\n",
    "np.argmax(arr, axis=0)"
   ]
  },
  {
   "cell_type": "code",
   "execution_count": 203,
   "id": "bbbe8df6",
   "metadata": {},
   "outputs": [
    {
     "data": {
      "text/plain": [
       "array([1, 0, 0])"
      ]
     },
     "execution_count": 203,
     "metadata": {},
     "output_type": "execute_result"
    }
   ],
   "source": [
    "# 按行（axis=1）最小值的 Index\n",
    "np.argmin(arr, axis=1)"
   ]
  },
  {
   "cell_type": "markdown",
   "id": "282ff42a",
   "metadata": {},
   "source": [
    "#### `np.argsort`"
   ]
  },
  {
   "cell_type": "code",
   "execution_count": 79,
   "id": "e055f8c4",
   "metadata": {
    "scrolled": true
   },
   "outputs": [
    {
     "data": {
      "text/plain": [
       "array([[77.62164881, 44.44896554, 86.00119407, 70.03943488],\n",
       "       [10.32355744, 97.58661281, 76.3528305 , 78.82036622],\n",
       "       [13.68324963, 45.58820785, 37.7090044 , 92.7497339 ]])"
      ]
     },
     "execution_count": 79,
     "metadata": {},
     "output_type": "execute_result"
    }
   ],
   "source": [
    "arr"
   ]
  },
  {
   "cell_type": "code",
   "execution_count": 80,
   "id": "edae9497",
   "metadata": {
    "scrolled": true
   },
   "outputs": [
    {
     "data": {
      "text/plain": [
       "array([[1, 3, 0, 2],\n",
       "       [0, 2, 3, 1],\n",
       "       [0, 2, 1, 3]])"
      ]
     },
     "execution_count": 80,
     "metadata": {},
     "output_type": "execute_result"
    }
   ],
   "source": [
    "# 默认按行（axis=1）排序的索引\n",
    "np.argsort(arr)"
   ]
  },
  {
   "cell_type": "code",
   "execution_count": 205,
   "id": "07629422",
   "metadata": {
    "scrolled": true
   },
   "outputs": [
    {
     "data": {
      "text/plain": [
       "array([[1, 3, 0, 2],\n",
       "       [0, 2, 3, 1],\n",
       "       [0, 2, 1, 3]])"
      ]
     },
     "execution_count": 205,
     "metadata": {},
     "output_type": "execute_result"
    }
   ],
   "source": [
    "# 数据按行（axis=1）排序的索引，同上\n",
    "np.argsort(arr, axis=1)"
   ]
  },
  {
   "cell_type": "code",
   "execution_count": 206,
   "id": "f2db69cb",
   "metadata": {},
   "outputs": [
    {
     "data": {
      "text/plain": [
       "array([[1, 0, 2, 0],\n",
       "       [2, 2, 1, 1],\n",
       "       [0, 1, 0, 2]])"
      ]
     },
     "execution_count": 206,
     "metadata": {},
     "output_type": "execute_result"
    }
   ],
   "source": [
    "# 数据按列（axis=0）排序索引\n",
    "np.argsort(arr, axis=0)"
   ]
  },
  {
   "cell_type": "markdown",
   "id": "77920662",
   "metadata": {},
   "source": [
    "## 矩阵和运算\n",
    "\n",
    "这一节我们将聚焦矩阵和相关的运算，主要包括：\n",
    "\n",
    "- 算术（四则运算及其他基础算术）\n",
    "- 广播\n",
    "- 矩阵相关\n",
    "\n",
    "这些内容其实使用非常普遍，普遍到我们甚至都不会察觉到自己在使用，而且也非常简单。当然，高纬度的计算我们这里并不涉及，但逻辑是一致的，只是更加复杂。"
   ]
  },
  {
   "cell_type": "markdown",
   "id": "0d387c01",
   "metadata": {},
   "source": [
    "### 算术\n",
    "\n",
    "⭐⭐⭐⭐\n",
    "\n",
    "所有的算术函数均可直接运用于 array。\n",
    "\n",
    "⚠️ 需要注意的是：`mod` 运算可以指定多个被除数。"
   ]
  },
  {
   "cell_type": "code",
   "execution_count": 425,
   "id": "4c45a9c7",
   "metadata": {},
   "outputs": [
    {
     "data": {
      "text/plain": [
       "array([[ 2, 15, 13,  9],\n",
       "       [ 9, 17,  2, 14],\n",
       "       [ 4,  2, 11, 19]])"
      ]
     },
     "execution_count": 425,
     "metadata": {},
     "output_type": "execute_result"
    }
   ],
   "source": [
    "rng = np.random.default_rng(42)\n",
    "arr = rng.integers(1, 20, (3, 4))\n",
    "arr"
   ]
  },
  {
   "cell_type": "code",
   "execution_count": 409,
   "id": "58dc28d8",
   "metadata": {},
   "outputs": [
    {
     "data": {
      "text/plain": [
       "array([[ 4, 30, 26, 18],\n",
       "       [18, 34,  4, 28],\n",
       "       [ 8,  4, 22, 38]])"
      ]
     },
     "execution_count": 409,
     "metadata": {},
     "output_type": "execute_result"
    }
   ],
   "source": [
    "# +-*/ 四则运算，就跟两个数字计算一样\n",
    "arr * 2"
   ]
  },
  {
   "cell_type": "code",
   "execution_count": 410,
   "id": "a6c7d7df",
   "metadata": {
    "scrolled": true
   },
   "outputs": [
    {
     "data": {
      "text/plain": [
       "array([[  4, 225, 169,  81],\n",
       "       [ 81, 289,   4, 196],\n",
       "       [ 16,   4, 121, 361]])"
      ]
     },
     "execution_count": 410,
     "metadata": {},
     "output_type": "execute_result"
    }
   ],
   "source": [
    "# 平方也可以\n",
    "arr ** 2"
   ]
  },
  {
   "cell_type": "code",
   "execution_count": 411,
   "id": "06d17ddd",
   "metadata": {
    "scrolled": true
   },
   "outputs": [
    {
     "data": {
      "text/plain": [
       "array([[1.41421356, 3.87298335, 3.60555128, 3.        ],\n",
       "       [3.        , 4.12310563, 1.41421356, 3.74165739],\n",
       "       [2.        , 1.41421356, 3.31662479, 4.35889894]])"
      ]
     },
     "execution_count": 411,
     "metadata": {},
     "output_type": "execute_result"
    }
   ],
   "source": [
    "# 开方\n",
    "np.sqrt(arr)"
   ]
  },
  {
   "cell_type": "code",
   "execution_count": 412,
   "id": "44b969b8",
   "metadata": {
    "scrolled": true
   },
   "outputs": [
    {
     "data": {
      "text/plain": [
       "array([[0.69314718, 2.7080502 , 2.56494936, 2.19722458],\n",
       "       [2.19722458, 2.83321334, 0.69314718, 2.63905733],\n",
       "       [1.38629436, 0.69314718, 2.39789527, 2.94443898]])"
      ]
     },
     "execution_count": 412,
     "metadata": {},
     "output_type": "execute_result"
    }
   ],
   "source": [
    "# log\n",
    "np.log(arr)"
   ]
  },
  {
   "cell_type": "code",
   "execution_count": 427,
   "id": "baea8c89",
   "metadata": {},
   "outputs": [
    {
     "data": {
      "text/plain": [
       "array([[2, 5, 5, 5],\n",
       "       [5, 5, 2, 5],\n",
       "       [4, 2, 5, 5]])"
      ]
     },
     "execution_count": 427,
     "metadata": {},
     "output_type": "execute_result"
    }
   ],
   "source": [
    "# 超过5的都换成5\n",
    "np.minimum(arr, 5)"
   ]
  },
  {
   "cell_type": "code",
   "execution_count": 429,
   "id": "0bfab00d",
   "metadata": {},
   "outputs": [
    {
     "data": {
      "text/plain": [
       "array([[ 5, 15, 13,  9],\n",
       "       [ 9, 17,  5, 14],\n",
       "       [ 5,  5, 11, 19]])"
      ]
     },
     "execution_count": 429,
     "metadata": {},
     "output_type": "execute_result"
    }
   ],
   "source": [
    "# 低于5的都换成5\n",
    "np.maximum(arr, 5)"
   ]
  },
  {
   "cell_type": "code",
   "execution_count": 82,
   "id": "8276452a",
   "metadata": {
    "scrolled": true
   },
   "outputs": [
    {
     "data": {
      "text/plain": [
       "array([[1.41, 3.87, 3.61, 3.  ],\n",
       "       [3.  , 4.12, 1.41, 3.74],\n",
       "       [2.  , 1.41, 3.32, 4.36]])"
      ]
     },
     "execution_count": 82,
     "metadata": {},
     "output_type": "execute_result"
    }
   ],
   "source": [
    "# 四舍五入\n",
    "np.round(np.sqrt(arr), 2)"
   ]
  },
  {
   "cell_type": "code",
   "execution_count": 83,
   "id": "12781ef2",
   "metadata": {},
   "outputs": [
    {
     "data": {
      "text/plain": [
       "array([[1., 3., 3., 3.],\n",
       "       [3., 4., 1., 3.],\n",
       "       [2., 1., 3., 4.]])"
      ]
     },
     "execution_count": 83,
     "metadata": {},
     "output_type": "execute_result"
    }
   ],
   "source": [
    "# floor/ceil\n",
    "np.floor(np.sqrt(arr))"
   ]
  },
  {
   "cell_type": "code",
   "execution_count": 84,
   "id": "31fa5235",
   "metadata": {},
   "outputs": [
    {
     "data": {
      "text/plain": [
       "array([[2., 4., 4., 3.],\n",
       "       [3., 5., 2., 4.],\n",
       "       [2., 2., 4., 5.]])"
      ]
     },
     "execution_count": 84,
     "metadata": {},
     "output_type": "execute_result"
    }
   ],
   "source": [
    "np.ceil(np.sqrt(arr))"
   ]
  },
  {
   "cell_type": "code",
   "execution_count": 223,
   "id": "123064eb",
   "metadata": {
    "scrolled": true
   },
   "outputs": [
    {
     "data": {
      "text/plain": [
       "array([[ 2, 15, 13,  9],\n",
       "       [ 9, 17,  2, 14],\n",
       "       [ 4,  2, 11, 19]])"
      ]
     },
     "execution_count": 223,
     "metadata": {},
     "output_type": "execute_result"
    }
   ],
   "source": [
    "arr"
   ]
  },
  {
   "cell_type": "code",
   "execution_count": 221,
   "id": "7b0fc452",
   "metadata": {},
   "outputs": [
    {
     "data": {
      "text/plain": [
       "array([[2, 0, 1, 0],\n",
       "       [0, 2, 2, 2],\n",
       "       [1, 2, 2, 1]])"
      ]
     },
     "execution_count": 221,
     "metadata": {},
     "output_type": "execute_result"
    }
   ],
   "source": [
    "# mod <=> x % 3\n",
    "np.mod(arr, 3)"
   ]
  },
  {
   "cell_type": "code",
   "execution_count": 85,
   "id": "8e1bba5e",
   "metadata": {
    "scrolled": true
   },
   "outputs": [
    {
     "data": {
      "text/plain": [
       "array([[-3, 10,  8,  4],\n",
       "       [ 4, 12, -3,  9],\n",
       "       [-1, -3,  6, 14]])"
      ]
     },
     "execution_count": 85,
     "metadata": {},
     "output_type": "execute_result"
    }
   ],
   "source": [
    "arr-5"
   ]
  },
  {
   "cell_type": "code",
   "execution_count": 222,
   "id": "ae1567af",
   "metadata": {},
   "outputs": [
    {
     "data": {
      "text/plain": [
       "array([[-1,  5,  5,  1],\n",
       "       [ 1,  5, -1,  5],\n",
       "       [ 0, -1,  5,  5]])"
      ]
     },
     "execution_count": 222,
     "metadata": {},
     "output_type": "execute_result"
    }
   ],
   "source": [
    "# 还可以使用多个被除数\n",
    "np.mod(arr, arr-5)"
   ]
  },
  {
   "cell_type": "markdown",
   "id": "33ebf03f",
   "metadata": {},
   "source": [
    ">关于广播\n",
    "\n",
    "`numpy` 处理不同形状的 array 时使用的手段，极大地方便了使用者。在计算过程中，较小的数组会在较大的数组上进行「广播」，以便适配对方的形状。\n",
    "\n",
    "⚠️ 需要注意的是：广播需要满足对应的形状。"
   ]
  },
  {
   "cell_type": "code",
   "execution_count": 86,
   "id": "d719c2b1",
   "metadata": {},
   "outputs": [
    {
     "data": {
      "text/plain": [
       "array([[ 9, 77, 65, 44],\n",
       "       [43, 86,  9, 70],\n",
       "       [20, 10, 53, 97]])"
      ]
     },
     "execution_count": 86,
     "metadata": {},
     "output_type": "execute_result"
    }
   ],
   "source": [
    "rng = np.random.default_rng(42)\n",
    "a = rng.integers(1, 100, (3, 4))\n",
    "a"
   ]
  },
  {
   "cell_type": "code",
   "execution_count": 87,
   "id": "c95fb2da",
   "metadata": {},
   "outputs": [
    {
     "data": {
      "text/plain": [
       "array([[ 10,  79,  68,  48],\n",
       "       [ 44,  88,  12,  74],\n",
       "       [ 21,  12,  56, 101]])"
      ]
     },
     "execution_count": 87,
     "metadata": {},
     "output_type": "execute_result"
    }
   ],
   "source": [
    "# 广播，后面的被当做 1 行 4 列\n",
    "a + [1,2,3,4]"
   ]
  },
  {
   "cell_type": "code",
   "execution_count": 88,
   "id": "63b07c6e",
   "metadata": {},
   "outputs": [
    {
     "data": {
      "text/plain": [
       "array([[ 10,  78,  66,  45],\n",
       "       [ 45,  88,  11,  72],\n",
       "       [ 23,  13,  56, 100]])"
      ]
     },
     "execution_count": 88,
     "metadata": {},
     "output_type": "execute_result"
    }
   ],
   "source": [
    "# 或者这样广播，后面的被当做 3 行 1 列\n",
    "a + [[1], [2], [3]]"
   ]
  },
  {
   "cell_type": "code",
   "execution_count": 90,
   "id": "de2bc357",
   "metadata": {
    "scrolled": true
   },
   "outputs": [
    {
     "data": {
      "text/plain": [
       "array([[0, 1, 2, 0],\n",
       "       [0, 0, 0, 2],\n",
       "       [0, 0, 2, 1]])"
      ]
     },
     "execution_count": 90,
     "metadata": {},
     "output_type": "execute_result"
    }
   ],
   "source": [
    "# 之前的取余也是可以的\n",
    "np.mod(a, [1,2,3,4])"
   ]
  },
  {
   "cell_type": "markdown",
   "id": "f7b8833e",
   "metadata": {},
   "source": [
    "### 矩阵\n",
    "\n",
    "⭐⭐⭐⭐⭐\n",
    "\n",
    "这一小节主要介绍线性代数中矩阵的处理，我们会介绍几个矩阵相关常用的 API。\n",
    "\n",
    "⚠️ 需要注意的是：`dot` 和 `matmul` 在高维度时表现不同。"
   ]
  },
  {
   "cell_type": "code",
   "execution_count": 392,
   "id": "97f6d4da",
   "metadata": {},
   "outputs": [
    {
     "data": {
      "text/plain": [
       "(array([[1, 7],\n",
       "        [6, 4],\n",
       "        [4, 8]]),\n",
       " array([[1, 7, 2, 1],\n",
       "        [5, 9, 7, 7]]),\n",
       " array([[7, 8, 5],\n",
       "        [2, 8, 5],\n",
       "        [5, 4, 2]]))"
      ]
     },
     "execution_count": 392,
     "metadata": {},
     "output_type": "execute_result"
    }
   ],
   "source": [
    "rng = np.random.default_rng(42)\n",
    "a = rng.integers(1, 10, (3, 2))\n",
    "b = rng.integers(1, 10, (2, 4))\n",
    "c = rng.integers(1, 10, (3, 3))\n",
    "a, b, c"
   ]
  },
  {
   "cell_type": "markdown",
   "id": "99542474",
   "metadata": {},
   "source": [
    "#### `arr.dot`"
   ]
  },
  {
   "cell_type": "code",
   "execution_count": 241,
   "id": "9ace36a0",
   "metadata": {
    "scrolled": false
   },
   "outputs": [
    {
     "data": {
      "text/plain": [
       "array([[ 36,  70,  51,  50],\n",
       "       [ 26,  78,  40,  34],\n",
       "       [ 44, 100,  64,  60]])"
      ]
     },
     "execution_count": 241,
     "metadata": {},
     "output_type": "execute_result"
    }
   ],
   "source": [
    "# array 乘法\n",
    "np.dot(a, b)"
   ]
  },
  {
   "cell_type": "code",
   "execution_count": 244,
   "id": "a452bd60",
   "metadata": {},
   "outputs": [
    {
     "data": {
      "text/plain": [
       "array([[ 36,  70,  51,  50],\n",
       "       [ 26,  78,  40,  34],\n",
       "       [ 44, 100,  64,  60]])"
      ]
     },
     "execution_count": 244,
     "metadata": {},
     "output_type": "execute_result"
    }
   ],
   "source": [
    "# 或者这样乘\n",
    "a.dot(b)"
   ]
  },
  {
   "cell_type": "code",
   "execution_count": 94,
   "id": "0109aebc",
   "metadata": {
    "scrolled": true
   },
   "outputs": [
    {
     "data": {
      "text/plain": [
       "(5, 2, 4, 6)"
      ]
     },
     "execution_count": 94,
     "metadata": {},
     "output_type": "execute_result"
    }
   ],
   "source": [
    "# 我们看下高维度下 dot 和 matmul 的区别\n",
    "# ijk, lkm -> ijlm\n",
    "np.dot(np.ones((5, 2, 3)), np.ones((4, 3, 6))).shape"
   ]
  },
  {
   "cell_type": "markdown",
   "id": "b9cf9b90",
   "metadata": {},
   "source": [
    "#### `np.matmul`"
   ]
  },
  {
   "cell_type": "code",
   "execution_count": 394,
   "id": "60eaafef",
   "metadata": {},
   "outputs": [
    {
     "data": {
      "text/plain": [
       "array([[ 36,  70,  51,  50],\n",
       "       [ 26,  78,  40,  34],\n",
       "       [ 44, 100,  64,  60]])"
      ]
     },
     "execution_count": 394,
     "metadata": {},
     "output_type": "execute_result"
    }
   ],
   "source": [
    "# 矩阵乘法\n",
    "# 与 dot 的主要区别是：matmul 矩阵（好像元素一样）堆叠在一起广播\n",
    "np.matmul(a, b)"
   ]
  },
  {
   "cell_type": "code",
   "execution_count": 93,
   "id": "233cb9bc",
   "metadata": {
    "scrolled": true
   },
   "outputs": [
    {
     "data": {
      "text/plain": [
       "array([[ 36,  70,  51,  50],\n",
       "       [ 26,  78,  40,  34],\n",
       "       [ 44, 100,  64,  60]])"
      ]
     },
     "execution_count": 93,
     "metadata": {},
     "output_type": "execute_result"
    }
   ],
   "source": [
    "# 同上，写起来比较好看的方法\n",
    "a @ b"
   ]
  },
  {
   "cell_type": "code",
   "execution_count": 95,
   "id": "78af6411",
   "metadata": {},
   "outputs": [
    {
     "ename": "ValueError",
     "evalue": "operands could not be broadcast together with remapped shapes [original->remapped]: (5,2,3)->(5,newaxis,newaxis) (4,3,6)->(4,newaxis,newaxis) and requested shape (2,6)",
     "output_type": "error",
     "traceback": [
      "\u001b[0;31m---------------------------------------------------------------------------\u001b[0m",
      "\u001b[0;31mValueError\u001b[0m                                Traceback (most recent call last)",
      "\u001b[0;32m<ipython-input-95-a5c509c4e8f1>\u001b[0m in \u001b[0;36m<module>\u001b[0;34m\u001b[0m\n\u001b[1;32m      1\u001b[0m \u001b[0;31m# ijk, ikl -> ijl\u001b[0m\u001b[0;34m\u001b[0m\u001b[0;34m\u001b[0m\u001b[0;34m\u001b[0m\u001b[0m\n\u001b[0;32m----> 2\u001b[0;31m \u001b[0mnp\u001b[0m\u001b[0;34m.\u001b[0m\u001b[0mmatmul\u001b[0m\u001b[0;34m(\u001b[0m\u001b[0mnp\u001b[0m\u001b[0;34m.\u001b[0m\u001b[0mones\u001b[0m\u001b[0;34m(\u001b[0m\u001b[0;34m(\u001b[0m\u001b[0;36m5\u001b[0m\u001b[0;34m,\u001b[0m \u001b[0;36m2\u001b[0m\u001b[0;34m,\u001b[0m \u001b[0;36m3\u001b[0m\u001b[0;34m)\u001b[0m\u001b[0;34m)\u001b[0m\u001b[0;34m,\u001b[0m \u001b[0mnp\u001b[0m\u001b[0;34m.\u001b[0m\u001b[0mones\u001b[0m\u001b[0;34m(\u001b[0m\u001b[0;34m(\u001b[0m\u001b[0;36m4\u001b[0m\u001b[0;34m,\u001b[0m \u001b[0;36m3\u001b[0m\u001b[0;34m,\u001b[0m \u001b[0;36m6\u001b[0m\u001b[0;34m)\u001b[0m\u001b[0;34m)\u001b[0m\u001b[0;34m)\u001b[0m\u001b[0;34m.\u001b[0m\u001b[0mshape\u001b[0m\u001b[0;34m\u001b[0m\u001b[0;34m\u001b[0m\u001b[0m\n\u001b[0m",
      "\u001b[0;31mValueError\u001b[0m: operands could not be broadcast together with remapped shapes [original->remapped]: (5,2,3)->(5,newaxis,newaxis) (4,3,6)->(4,newaxis,newaxis) and requested shape (2,6)"
     ]
    }
   ],
   "source": [
    "# ijk, ikl -> ijl\n",
    "np.matmul(np.ones((5, 2, 3)), np.ones((4, 3, 6))).shape"
   ]
  },
  {
   "cell_type": "code",
   "execution_count": 96,
   "id": "8e013324",
   "metadata": {},
   "outputs": [
    {
     "data": {
      "text/plain": [
       "(4, 2, 6)"
      ]
     },
     "execution_count": 96,
     "metadata": {},
     "output_type": "execute_result"
    }
   ],
   "source": [
    "# ijk, ikl -> ijl\n",
    "np.matmul(np.ones((4, 2, 3)), np.ones((4, 3, 6))).shape"
   ]
  },
  {
   "cell_type": "markdown",
   "id": "f7743a11",
   "metadata": {},
   "source": [
    "---"
   ]
  },
  {
   "cell_type": "code",
   "execution_count": 256,
   "id": "a29d2de9",
   "metadata": {},
   "outputs": [
    {
     "data": {
      "text/plain": [
       "182"
      ]
     },
     "execution_count": 256,
     "metadata": {},
     "output_type": "execute_result"
    }
   ],
   "source": [
    "# 点积\n",
    "np.vdot(a, a)"
   ]
  },
  {
   "cell_type": "code",
   "execution_count": 281,
   "id": "e598425b",
   "metadata": {
    "code_folding": []
   },
   "outputs": [
    {
     "data": {
      "text/plain": [
       "182"
      ]
     },
     "execution_count": 281,
     "metadata": {},
     "output_type": "execute_result"
    }
   ],
   "source": [
    "# 对，就是点积\n",
    "np.sum(a*a)"
   ]
  },
  {
   "cell_type": "code",
   "execution_count": 258,
   "id": "ae6fb841",
   "metadata": {
    "scrolled": true
   },
   "outputs": [
    {
     "data": {
      "text/plain": [
       "array([[50, 34, 60],\n",
       "       [34, 52, 56],\n",
       "       [60, 56, 80]])"
      ]
     },
     "execution_count": 258,
     "metadata": {},
     "output_type": "execute_result"
    }
   ],
   "source": [
    "# 内积\n",
    "np.inner(a, a)"
   ]
  },
  {
   "cell_type": "code",
   "execution_count": 282,
   "id": "9424cd1d",
   "metadata": {},
   "outputs": [
    {
     "data": {
      "text/plain": [
       "array([[50, 34, 60],\n",
       "       [34, 52, 56],\n",
       "       [60, 56, 80]])"
      ]
     },
     "execution_count": 282,
     "metadata": {},
     "output_type": "execute_result"
    }
   ],
   "source": [
    "# 对，就是内积\n",
    "a.dot(a.T)"
   ]
  },
  {
   "cell_type": "code",
   "execution_count": 283,
   "id": "3f88d4c4",
   "metadata": {},
   "outputs": [
    {
     "data": {
      "text/plain": [
       "-19.999999999999996"
      ]
     },
     "execution_count": 283,
     "metadata": {},
     "output_type": "execute_result"
    }
   ],
   "source": [
    "# 行列式\n",
    "np.linalg.det(c)"
   ]
  },
  {
   "cell_type": "code",
   "execution_count": 284,
   "id": "ec8c2ab0",
   "metadata": {
    "scrolled": true
   },
   "outputs": [
    {
     "data": {
      "text/plain": [
       "array([[ 0.2 , -0.2 ,  0.  ],\n",
       "       [-1.05,  0.55,  1.25],\n",
       "       [ 1.6 , -0.6 , -2.  ]])"
      ]
     },
     "execution_count": 284,
     "metadata": {},
     "output_type": "execute_result"
    }
   ],
   "source": [
    "# 逆矩阵（方阵）\n",
    "np.linalg.inv(c)"
   ]
  },
  {
   "cell_type": "markdown",
   "id": "b7c24e84",
   "metadata": {},
   "source": [
    "## 小结和心得\n",
    "\n",
    "恭喜您学完了 Numpy《从小白到入门》的教程，相信有此基础您在日后足以应付绝大部分的使用场景。如果您还想继续深入学习 Numpy，欢迎关注我们后续课程《从入门到精通》，在那里，我们将深入 `numpy` 内部细节，对其原理进行系统、全面的介绍。期待我们后会有期。\n",
    "\n",
    "\n",
    "### 内容小结\n",
    "\n",
    "本教程共六个部分，我们给您把最重要的（3个⭐以上的）一些 API 罗列出来供您回忆，加深印象：\n",
    "\n",
    "- 创建和生成\n",
    "  - `np.linspace(start, end, nums)`\n",
    "  - `rng.integers/uniform(low, high, size)`\n",
    "  - `rng.normal(loc, scale, size)`\n",
    "- 统计和属性\n",
    "  - `arr.shape`\n",
    "  - `arr.sum/max/min(axis, keepdims)`\n",
    "  - `np.average(arr, axis)`\n",
    "- 形状和转换\n",
    "  - `arr.reshpae/np.reshape`\n",
    "  - `np.expand_dims(arr, axis)`\n",
    "  - `np.squeeze(arr axis)`\n",
    "  - `np.transpose(arr, axis)`\n",
    "  - `arr.T`\n",
    "- 分解和组合\n",
    "  - `arr[start:stop:step, ...]`\n",
    "  - `np.concatenate((arr1, arr2), axis)`\n",
    "  - `np.stack((arr1, arr2), axis)`\n",
    "  - `np.repeat(arr, repeat_num, axis)`\n",
    "  - `np.split(arr, part_num, axis)`\n",
    "- 筛选和过滤\n",
    "  - `np.where(condition, arr, replaced_val)`\n",
    "  - `rng.choice(a, size, replace=False, p=probs_size_equals_a)`\n",
    "  - `rng.argmax/argmin/argsort(arr, axis)`\n",
    "- 矩阵和计算\n",
    "  - `+-*/`\n",
    "  - `np.dot(a, b) == a.dot(b)`\n",
    "  - `np.matmul(a, b) == a @ b`\n",
    "\n",
    "\n",
    "### 心得技巧\n",
    "\n",
    "- 生成/查看 array 时，注意具体的数据类型\n",
    "- 很多 API 都有 axis，将它理解为「沿着」或「对」某一维度进行操作就很容易理解了"
   ]
  },
  {
   "cell_type": "markdown",
   "id": "76c482cc",
   "metadata": {},
   "source": [
    "## 巩固和练习\n",
    "\n",
    "接下来，是时候对学到的成果进行一番检验了，为此我们给您准备了两个小菜和一分多餐，请尽情享用。\n",
    "\n",
    "背景描述：使用 iris 数据集，target 选择 0 和 1（setosa, versicolor），丢弃 2（我们只用二分类就可以了）\n",
    "\n",
    "### 基础题目1\n",
    "\n",
    "切分数据，要求如下：\n",
    "\n",
    "- 针对每一 target，分别按 80%/20% 将数据切分为训练数据和测试数据\n",
    "- 切分时要求每 5 个样本，取中间的 1 个为测试数据，其余为训练数据\n",
    "\n",
    "### 基础题目2\n",
    "\n",
    "预测结果，要求如下：\n",
    "\n",
    "- 加载预先在训练数据上训练好的权重参数（存储参数的方法：`np.savez(\"data/weight\", weight=weight)`）\n",
    "- 使用模型 `sigmoid(W·X)` 对测试数据进行预测\n",
    "- 输出预测的准确率\n",
    "\n",
    "\n",
    "### 进阶题目\n",
    "\n",
    "如果您已经对机器学习有了一定基础，不妨试试这个练习，它会使用更多 `numpy` 的 API。\n",
    "\n",
    "使用 Numpy 实现简单神经网络，要求如下：\n",
    "\n",
    "- 特征选择第 2 个和第 4 个（sepal width, petal width）\n",
    "- 使用反向传播和梯度下降进行学习\n",
    "\n",
    "\n",
    "\n",
    "提示：\n",
    "\n",
    "```python\n",
    "# 数据集\n",
    "from sklearn.datasets import load_iris\n",
    "\n",
    "iris = load_iris()\n",
    "data = iris[\"data\"]\n",
    "target = iris[\"target\"]\n",
    "\n",
    "# Sigmoid\n",
    "def sigmoid(x: np.array, derive: bool = False) -> np.array:\n",
    "    if derive:\n",
    "        return x * (1 - x)\n",
    "    return 1 / (1 + np.exp(-x))\n",
    "```"
   ]
  },
  {
   "cell_type": "markdown",
   "id": "21982f33",
   "metadata": {},
   "source": [
    "## 解答和参考\n",
    "\n",
    "以下是练习题的参考解答。既然是参考，那就一定不是标准，您可以使用任意方式实现最终的目的得到答案。如果您愿意，使用 for 循环也是可以的，但如果最终的答案不对，还是需要重新检查一下。我们特别重视和关注过程，但结果更加重要，条条道路通罗马，咱最后得到罗马不是？\n",
    "\n",
    "最后再引用《Unix 编程艺术》中的一个观点：先让程序「正确地」运行起来。完成>完美，健康才能快乐。"
   ]
  },
  {
   "cell_type": "code",
   "execution_count": 21,
   "id": "77c89ca7",
   "metadata": {},
   "outputs": [],
   "source": [
    "def sigmoid(x: np.array, derive: bool = False) -> np.array:\n",
    "    # 求导数（用于反向传播）\n",
    "    if derive:\n",
    "        return x * (1 - x)\n",
    "    return 1 / (1 + np.exp(-x))"
   ]
  },
  {
   "cell_type": "code",
   "execution_count": 23,
   "id": "18fa2c0e",
   "metadata": {},
   "outputs": [],
   "source": [
    "from sklearn.datasets import load_iris\n",
    "\n",
    "# 加载 iris 数据集\n",
    "iris = load_iris()\n",
    "# 提取 target ≤ 1 的 target，并将维度从 (length, ) 拓展为 (length, 1)\n",
    "y = np.expand_dims(np.extract(iris[\"target\"] <= 1, iris[\"target\"]), 1)\n",
    "# 根据 y 的 size 拿到对应的 x\n",
    "x = iris[\"data\"][:y.shape[0]]"
   ]
  },
  {
   "cell_type": "markdown",
   "id": "71ef6e55",
   "metadata": {},
   "source": [
    "### 基础题目1"
   ]
  },
  {
   "cell_type": "code",
   "execution_count": 43,
   "id": "7dc1fbad",
   "metadata": {},
   "outputs": [],
   "source": [
    "# 有多少条数据\n",
    "data_size = x.shape[0]\n",
    "# 20% 作为测试数据\n",
    "test_size = int(data_size * 0.2)\n",
    "# 找到测试数据的 index\n",
    "test_idx = [2 + i*5 for i in range(test_size)]\n",
    "# 过滤掉测试数据的 index，剩下的就是训练数据的 index\n",
    "train_idx = [i for i in range(data_size) if i not in test_idx]"
   ]
  },
  {
   "cell_type": "code",
   "execution_count": 48,
   "id": "31efe769",
   "metadata": {},
   "outputs": [],
   "source": [
    "# 使用训练数据的 index 得到训练数据\n",
    "x_train = x[train_idx]\n",
    "y_train = y[train_idx]\n",
    "# 直接使用索引切片得到测试数据，当然也可以使用测试数据 index\n",
    "x_test = x[2: data_size : 5]\n",
    "y_test = y[2: data_size : 5]"
   ]
  },
  {
   "cell_type": "markdown",
   "id": "c29d4c6d",
   "metadata": {},
   "source": [
    "### 基础题目2"
   ]
  },
  {
   "cell_type": "code",
   "execution_count": 79,
   "id": "e1004315",
   "metadata": {},
   "outputs": [],
   "source": [
    "# 预测函数\n",
    "def predict(x, w):\n",
    "    return sigmoid(x.dot(w))"
   ]
  },
  {
   "cell_type": "code",
   "execution_count": 125,
   "id": "9735579b",
   "metadata": {},
   "outputs": [],
   "source": [
    "# 加载权重，注意 key=\"weight\"\n",
    "w = np.load(\"./data/weight.npz\")[\"weight\"]"
   ]
  },
  {
   "cell_type": "code",
   "execution_count": 126,
   "id": "bd2f3f50",
   "metadata": {},
   "outputs": [],
   "source": [
    "# 拿到 sigmoid 的结果，即 probability\n",
    "prob = predict(x_test, w)"
   ]
  },
  {
   "cell_type": "code",
   "execution_count": 127,
   "id": "ca94ce53",
   "metadata": {},
   "outputs": [
    {
     "data": {
      "text/plain": [
       "array([1.])"
      ]
     },
     "execution_count": 127,
     "metadata": {},
     "output_type": "execute_result"
    }
   ],
   "source": [
    "# >（或 ≥）0.5 作为 1 或 0 的标准\n",
    "sum((prob > 0.5) == y_test) / len(y_test)"
   ]
  },
  {
   "cell_type": "markdown",
   "id": "35942bba",
   "metadata": {},
   "source": [
    "### 进阶题目"
   ]
  },
  {
   "cell_type": "code",
   "execution_count": 130,
   "id": "2658a013",
   "metadata": {
    "scrolled": true
   },
   "outputs": [],
   "source": [
    "# 只取第2和第4个特征\n",
    "x_train_part = x_train[:, [1, 3]]\n",
    "x_test_part = x_test[:, [1, 3]]"
   ]
  },
  {
   "cell_type": "code",
   "execution_count": 131,
   "id": "47e830bb",
   "metadata": {},
   "outputs": [],
   "source": [
    "def test(x, y, wh, wo, use_hidden: bool = False):\n",
    "    \"\"\"\n",
    "    预测函数，如果使用隐层的话，需要增加对应的计算\n",
    "    \"\"\"\n",
    "    if use_hidden:\n",
    "        ypred = sigmoid(sigmoid(x.dot(wh)).dot(wo))\n",
    "    else:\n",
    "        ypred = sigmoid(x.dot(wo))\n",
    "    print(\"Acc: %.2f\" % (sum((ypred >= 0.5 ) == y) / len(y))[0])"
   ]
  },
  {
   "cell_type": "code",
   "execution_count": 132,
   "id": "fac3b69d",
   "metadata": {},
   "outputs": [],
   "source": [
    "def train(x, y, use_hidden: bool = False, lr: float = 0.01):\n",
    "    \"\"\"\n",
    "    训练函数，可以支持单隐层或无隐层\n",
    "    \"\"\"\n",
    "    hidden_size = 8 if use_hidden else x.shape[1]\n",
    "    # 初始化，可以有多种初始化方式，我们这里使用 uniform\n",
    "    wh = np.random.uniform(-np.sqrt(1/hidden_size), np.sqrt(1/hidden_size), (x.shape[1], hidden_size))\n",
    "    wo = np.random.uniform(-1, 1, (hidden_size, 1))\n",
    "    # 1000 个 Epoch\n",
    "    for epoch in range(1, 1001):\n",
    "        # 使用隐层\n",
    "        if use_hidden:\n",
    "            hidden = np.dot(x, wh)\n",
    "            hidden = sigmoid(hidden)\n",
    "        else:\n",
    "            hidden = x\n",
    "        logits = np.dot(hidden, wo)\n",
    "        pred = sigmoid(logits)\n",
    "        \n",
    "        # 输出层的 error\n",
    "        pred_err = y - pred\n",
    "        # 反向传播，输出层的更新权重\n",
    "        pred_delta = pred_err * sigmoid(pred, True)\n",
    "        if use_hidden:\n",
    "            # 隐层的 error 和更新权重\n",
    "            hidd_err = pred_delta.dot(wo.T)\n",
    "            hidd_delta = hidd_err * sigmoid(hidden, True)\n",
    "        \n",
    "        # 更新参数\n",
    "        wo += lr * hidden.T.dot(pred_delta)\n",
    "        if use_hidden:\n",
    "            wh += lr * x.T.dot(hidd_delta)\n",
    "\n",
    "        # 计算损失\n",
    "        loss = np.mean(np.abs(pred_err))\n",
    "        if epoch % 200 == 0:\n",
    "            # 如果有验证集，可以在这里对验证集进行验证，结果有提升（如 loss下降或 acc 提高）时进行存储\n",
    "            # 还可以根据结果提升情况设计自动提前终止的方案（比如连续 3 次不再提升）\n",
    "            print(\"Error:\" + str(loss))\n",
    "    \n",
    "    # 得到训练集的 Acc\n",
    "    test(x, y, wh, wo, use_hidden)\n",
    "    # 返回权重（参数）\n",
    "    return wh, wo"
   ]
  },
  {
   "cell_type": "code",
   "execution_count": 134,
   "id": "b37252bb",
   "metadata": {
    "scrolled": true
   },
   "outputs": [
    {
     "name": "stdout",
     "output_type": "stream",
     "text": [
      "Error:0.12291230663724437\n",
      "Error:0.08282596392702782\n",
      "Error:0.06586770282341464\n",
      "Error:0.056016204876575326\n",
      "Error:0.049407934168643926\n",
      "Acc: 1.00\n"
     ]
    }
   ],
   "source": [
    "wh, wo = train(x_train_part, y_train)"
   ]
  },
  {
   "cell_type": "code",
   "execution_count": 135,
   "id": "04baec94",
   "metadata": {},
   "outputs": [
    {
     "name": "stdout",
     "output_type": "stream",
     "text": [
      "Acc: 1.00\n"
     ]
    }
   ],
   "source": [
    "test(x_test_part, y_test, wh, wo)"
   ]
  },
  {
   "cell_type": "code",
   "execution_count": 136,
   "id": "4aaad64a",
   "metadata": {},
   "outputs": [
    {
     "name": "stdout",
     "output_type": "stream",
     "text": [
      "Error:0.16416415380726673\n",
      "Error:0.08236885703184059\n",
      "Error:0.058163838923958065\n",
      "Error:0.04626498346103437\n",
      "Error:0.03903864391270989\n",
      "Acc: 1.00\n"
     ]
    }
   ],
   "source": [
    "wh, wo = train(x_train_part, y_train, True)"
   ]
  },
  {
   "cell_type": "code",
   "execution_count": 137,
   "id": "ed214908",
   "metadata": {},
   "outputs": [
    {
     "name": "stdout",
     "output_type": "stream",
     "text": [
      "Acc: 1.00\n"
     ]
    }
   ],
   "source": [
    "test(x_test_part, y_test, wh, wo, True)"
   ]
  },
  {
   "cell_type": "markdown",
   "id": "9a1820a1",
   "metadata": {},
   "source": [
    "## 文献和资料\n",
    "\n",
    "- [NumPy 教程 | 菜鸟教程](https://www.runoob.com/numpy/numpy-tutorial.html)\n",
    "- [NumPy 中文](https://www.numpy.org.cn/)"
   ]
  },
  {
   "cell_type": "code",
   "execution_count": null,
   "id": "015368ea",
   "metadata": {},
   "outputs": [],
   "source": []
  }
 ],
 "metadata": {
  "kernelspec": {
   "display_name": "Python 3",
   "language": "python",
   "name": "python3"
  },
  "language_info": {
   "codemirror_mode": {
    "name": "ipython",
    "version": 3
   },
   "file_extension": ".py",
   "mimetype": "text/x-python",
   "name": "python",
   "nbconvert_exporter": "python",
   "pygments_lexer": "ipython3",
   "version": "3.8.13"
  },
  "latex_envs": {
   "LaTeX_envs_menu_present": true,
   "autoclose": false,
   "autocomplete": true,
   "bibliofile": "biblio.bib",
   "cite_by": "apalike",
   "current_citInitial": 1,
   "eqLabelWithNumbers": true,
   "eqNumInitial": 1,
   "hotkeys": {
    "equation": "Ctrl-E",
    "itemize": "Ctrl-I"
   },
   "labels_anchors": false,
   "latex_user_defs": false,
   "report_style_numbering": false,
   "user_envs_cfg": false
  },
  "toc": {
   "base_numbering": 1,
   "nav_menu": {},
   "number_sections": false,
   "sideBar": true,
   "skip_h1_title": false,
   "title_cell": "Table of Contents",
   "title_sidebar": "Contents",
   "toc_cell": true,
   "toc_position": {
    "height": "calc(100% - 180px)",
    "left": "10px",
    "top": "150px",
    "width": "277px"
   },
   "toc_section_display": true,
   "toc_window_display": true
  }
 },
 "nbformat": 4,
 "nbformat_minor": 5
}
