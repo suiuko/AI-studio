{
 "cells": [
  {
   "cell_type": "code",
   "execution_count": null,
   "metadata": {},
   "outputs": [],
   "source": [
    "import numpy as np"
   ]
  },
  {
   "attachments": {},
   "cell_type": "markdown",
   "metadata": {},
   "source": [
    "# 1.数据类型"
   ]
  },
  {
   "cell_type": "code",
   "execution_count": null,
   "metadata": {},
   "outputs": [],
   "source": [
    "# 类型字段名可以用于存取实际的 age 列\n",
    "import numpy as np\n",
    "dt = np.dtype([('age',np.int8)]) \n",
    "a = np.array([(10,),(20,),(30,)], dtype = dt) \n",
    "print(a['age'])"
   ]
  },
  {
   "cell_type": "code",
   "execution_count": null,
   "metadata": {},
   "outputs": [],
   "source": [
    "student = np.dtype([('name','S20'), ('age', 'i1'), ('marks', 'f4')]) \n",
    "a3 = np.array([('abc', 21, 50),('xyz', 18, 75)], dtype = student) \n",
    "print(a)"
   ]
  },
  {
   "attachments": {},
   "cell_type": "markdown",
   "metadata": {},
   "source": [
    "# 2.array 创建数组"
   ]
  },
  {
   "attachments": {},
   "cell_type": "markdown",
   "metadata": {},
   "source": [
    "array()函数，括号内可以是列表、元祖、数组、生成器\n",
    "\n",
    "arange()，类似range()，在给定的间隔内返回均匀间隔的值\n",
    "\n",
    "linespace()，返回在间隔上（前闭后闭）计算的num个均匀间隔的样本\n",
    "\n",
    "zeros()/zeros_like()/ones()/ones_like()\n",
    "\n",
    "eye(n)，创建一个正方的N*N矩阵，对角线值为1，其余为0"
   ]
  },
  {
   "cell_type": "code",
   "execution_count": null,
   "metadata": {},
   "outputs": [],
   "source": [
    "np.array([1,2,3,4,5])\n",
    "type(np.array([1,2,3,4,5]))"
   ]
  },
  {
   "cell_type": "code",
   "execution_count": null,
   "metadata": {},
   "outputs": [],
   "source": [
    "#元组\n",
    "a = np.array([1,2,3,4,5])\n",
    "\n",
    "b = np.array(a)\n",
    "\n",
    "b"
   ]
  },
  {
   "cell_type": "code",
   "execution_count": null,
   "metadata": {},
   "outputs": [],
   "source": [
    "# 迭代对象\n",
    "np.array(range(10))"
   ]
  },
  {
   "cell_type": "code",
   "execution_count": null,
   "metadata": {},
   "outputs": [],
   "source": [
    "#生成器\n",
    "np.array([i**2 for i in range(10)]) # i**2 是取平方"
   ]
  },
  {
   "attachments": {},
   "cell_type": "markdown",
   "metadata": {},
   "source": [
    "练习1 ： 创建 10 以内的偶数的数组"
   ]
  },
  {
   "cell_type": "code",
   "execution_count": null,
   "metadata": {},
   "outputs": [],
   "source": [
    "np.array(range(2,11,2))\n",
    "#np.array([i for i in range(10) if i%2 == 0])"
   ]
  },
  {
   "cell_type": "code",
   "execution_count": null,
   "metadata": {},
   "outputs": [],
   "source": [
    "# 列表中元素类型不相同\n",
    "ar3 = np.array([[1,2,3],\n",
    "                ('a','b','c')\n",
    "                ]) # 二维数组，嵌套序列（列表、元组均可）\n",
    "\n",
    "ar3\n",
    "\n",
    "ar4 = np.array([[1,2,3],('a','b','c','d')])\n",
    "ar4"
   ]
  },
  {
   "cell_type": "code",
   "execution_count": null,
   "metadata": {},
   "outputs": [],
   "source": [
    "a = np.array([1,2,3,4,5,6])\n",
    "print(a)\n",
    "print(a.shape)  # 看维度\n",
    "a.shape=(2,3)  # 维度改为二行三列\n",
    "print(a)\n",
    "\n",
    "print(a * 3 )  # 数组运算\n",
    "\n",
    "print(a > 3)  # 将数组中的元素 都与 3 进行比较"
   ]
  },
  {
   "cell_type": "code",
   "execution_count": null,
   "metadata": {},
   "outputs": [],
   "source": [
    "import numpy as np\n",
    "c = np.arange(1,19)\n",
    "c.shape = (3,2,3) #(页，行，列)\n",
    "print(c)"
   ]
  },
  {
   "attachments": {},
   "cell_type": "markdown",
   "metadata": {},
   "source": [
    "### zeros(数组元素个数)"
   ]
  },
  {
   "cell_type": "code",
   "execution_count": null,
   "metadata": {},
   "outputs": [],
   "source": [
    "import numpy as np \n",
    "a = np.zeros(10)\n",
    "print(a)\n",
    "\n",
    "b = np.zeros((2,2), dtype = [('x', 'i4'), ('y', 'i4')])  \n",
    "print(b)"
   ]
  },
  {
   "attachments": {},
   "cell_type": "markdown",
   "metadata": {},
   "source": [
    "## np.zeros(数组元素个数，dtype='类型')"
   ]
  },
  {
   "cell_type": "code",
   "execution_count": null,
   "metadata": {},
   "outputs": [],
   "source": [
    "import numpy as np\n",
    "a = np.zeros(10)\n",
    "print(a)"
   ]
  },
  {
   "attachments": {},
   "cell_type": "markdown",
   "metadata": {},
   "source": [
    "## np.ones(数组元素个数，dtype='类型')"
   ]
  },
  {
   "cell_type": "code",
   "execution_count": null,
   "metadata": {},
   "outputs": [],
   "source": [
    "import numpy as np\n",
    "a = np.ones(10)\n",
    "print(a)"
   ]
  },
  {
   "attachments": {},
   "cell_type": "markdown",
   "metadata": {},
   "source": [
    "## arange"
   ]
  },
  {
   "cell_type": "code",
   "execution_count": null,
   "metadata": {},
   "outputs": [],
   "source": [
    "import numpy as np\n",
    "print(np.arange(10))    # 返回0-9，整型\n",
    "print(np.arange(10.0))  # 返回0.0-9.0，浮点型\n",
    "print(np.arange(5,12))  # 返回5-11\n",
    "print(np.arange(5.0,12,2))  # 返回5.0-12.0，步长为2"
   ]
  },
  {
   "attachments": {},
   "cell_type": "markdown",
   "metadata": {},
   "source": [
    "## linspace()\n",
    "返回在间隔(开始，停止)上计算的num个均匀间隔的样本\n",
    "\n",
    "numpy.linspace(start,stop,num=50,endpoint=True,retstep=False,dtype=None) "
   ]
  },
  {
   "cell_type": "code",
   "execution_count": null,
   "metadata": {},
   "outputs": [],
   "source": [
    "\n",
    "import numpy as np\n",
    "ar1 = np.linspace(2.0, 3.0, num=5)\n",
    "ar2 = np.linspace(2.0, 3.0, num=5, endpoint=False)\n",
    "ar3 = np.linspace(2.0, 3.0, num=5, retstep=True)\n",
    "print(ar1,type(ar1))\n",
    "print(ar2)\n",
    "print(ar3,type(ar3))"
   ]
  },
  {
   "attachments": {},
   "cell_type": "markdown",
   "metadata": {},
   "source": [
    "## ndarray 对象属性的基本操作"
   ]
  },
  {
   "attachments": {},
   "cell_type": "markdown",
   "metadata": {},
   "source": [
    "### 1. 数组的维度 ： np.ndarray.shape"
   ]
  },
  {
   "cell_type": "code",
   "execution_count": null,
   "metadata": {},
   "outputs": [],
   "source": [
    "import numpy as np\n",
    "ary = np.array([1,2,3,4,5,6])\n",
    "print(type(ary),ary,ary.shape)\n",
    "\n",
    "# 二维数组\n",
    "\n",
    "ary1 = np.array([\n",
    "    [1,2,3,4],\n",
    "    [5,6,7,8]\n",
    "])\n",
    "print(type(ary1),ary1,ary1.shape)"
   ]
  },
  {
   "attachments": {},
   "cell_type": "markdown",
   "metadata": {},
   "source": [
    "### 2. 元素的类型 np.ndarray.dtype"
   ]
  },
  {
   "cell_type": "code",
   "execution_count": null,
   "metadata": {},
   "outputs": [],
   "source": [
    "import numpy as np\n",
    "ary3 = np.array([1,2,3,4,5,6])\n",
    "print(type(ary),ary,ary.dtype)\n",
    "\n",
    "# 转换ary 元素的类型\n",
    "\n",
    "ary4 = ary.astype(float)\n",
    "print(type(ary4),ary4,ary4.dtype)\n",
    "\n",
    "ary5 = ary.astype(str)\n",
    "print(type(ary5),ary5,ary5.dtype)"
   ]
  },
  {
   "attachments": {},
   "cell_type": "markdown",
   "metadata": {},
   "source": [
    "### 数组元素的个数：np.ndarray.size"
   ]
  },
  {
   "cell_type": "code",
   "execution_count": null,
   "metadata": {},
   "outputs": [],
   "source": [
    "import numpy as np\n",
    "ary2 = np.array([\n",
    "    [1,2,3,4],\n",
    "    [5,6,7,8]\n",
    "])\n",
    "# 观察维度，size, len 的区别\n",
    "print(ary2.shape,ary2.size,len(ary2))"
   ]
  },
  {
   "attachments": {},
   "cell_type": "markdown",
   "metadata": {},
   "source": [
    "### 数组元素索引（下标）\n",
    "数组对象[..., 页号,行号,列号]\n",
    "\n",
    "下标从 0 开始，到数组len-1结束"
   ]
  },
  {
   "attachments": {},
   "cell_type": "markdown",
   "metadata": {},
   "source": [
    "## 维度基础操作"
   ]
  },
  {
   "cell_type": "code",
   "execution_count": null,
   "metadata": {},
   "outputs": [],
   "source": [
    "import numpy as np\n",
    "a = np.arange(1,9)"
   ]
  },
  {
   "attachments": {},
   "cell_type": "markdown",
   "metadata": {},
   "source": [
    "## 自定义复合类型"
   ]
  },
  {
   "cell_type": "code",
   "execution_count": null,
   "metadata": {},
   "outputs": [],
   "source": [
    "import numpy as np \n",
    "data=[\n",
    "    ('zs',[90,80,85],15),\n",
    "    ('ls',[92,81,83],16),\n",
    "    ('ww',[95,85,85],15)\n",
    "]\n",
    "# 第一种设置dtype的方式\n",
    "a = np.array(data, dtype='U3,3int32,int32')\n",
    "# print(a)\n",
    "# print(a[0]['f0'],\":\",a[1]['f1'])\n",
    "# print(\"==========\")\n",
    "\n",
    "# 第二种\n",
    "b = np.array(data,dtype=[('name','str',2),\n",
    "                         ('scores','int32',3),\n",
    "                         ('age','int32',1)\n",
    "                         ])\n",
    "\n",
    "# print(b)\n",
    "# print(b[2]['age'])\n",
    "\n",
    "\n",
    "# 第三种\n",
    "c = np.array(data,dtype={\n",
    "    'names':['name','scores','age'],\n",
    "    'formats':['U2','3int32','int32']\n",
    "})\n",
    "\n",
    "print(c)\n",
    "print(c[1]['name'])"
   ]
  },
  {
   "cell_type": "code",
   "execution_count": null,
   "metadata": {},
   "outputs": [],
   "source": [
    "import numpy as np\n",
    "a = np.array([10,20,30],dtype=[('age',np.int8)])\n",
    "b = np.array([(10),(20),(30)],dtype=[('age',np.int8)])\n",
    "print(a)\n",
    "print(a['age'])\n",
    "print(a['age'][1])\n",
    "print(b)\n",
    "print(b['age'])\n",
    "print(b['age'][0])"
   ]
  },
  {
   "attachments": {},
   "cell_type": "markdown",
   "metadata": {},
   "source": [
    "# 2.维度操作\n",
    "## （1）视图变维 （数据共享）\n",
    "## reshape() 和 ravel()"
   ]
  },
  {
   "cell_type": "code",
   "execution_count": null,
   "metadata": {},
   "outputs": [],
   "source": [
    "import numpy as np\n",
    "\n",
    "a = np.arange(1,9)\n",
    "print(a) # p[1,2,3,4,5,6,7,8]\n",
    "b = a.reshape(2,4) # 视图变维，变为2 行 4 列的二维数组\n",
    "print(b)\n",
    "c = b.reshape(2,2,2)  # 视图变维，变为2 页 2 行 2 列的三维数组\n",
    "print(\"====\")\n",
    "print(c)\n",
    "print(\"====\")\n",
    "d = c.ravel()  # 变为 1 维数组\n",
    "print(d)"
   ]
  },
  {
   "cell_type": "code",
   "execution_count": null,
   "metadata": {},
   "outputs": [],
   "source": [
    "import numpy as np\n",
    "a = np.arange(1,10)\n",
    "print(a, a.shape)\n",
    "\n",
    "# 复制变维\n",
    "b = a. flatten()\n",
    "print(b,'->b')\n",
    "print(\"=====数据独立后原修改不影响新的=====\")\n",
    "a[0]= 88\n",
    "print(a)\n",
    "print(b)"
   ]
  },
  {
   "attachments": {},
   "cell_type": "markdown",
   "metadata": {},
   "source": [
    "### numpy.ndarray.flat \n",
    "\n",
    "是一个数组元素迭代器\n"
   ]
  },
  {
   "cell_type": "code",
   "execution_count": 93,
   "metadata": {},
   "outputs": [
    {
     "name": "stdout",
     "output_type": "stream",
     "text": [
      "原始数组：\n",
      "[0 1 2]\n",
      "[3 4 5]\n",
      "[6 7 8]\n",
      "迭代后的数组：\n",
      "0\n",
      "1\n",
      "2\n",
      "3\n",
      "4\n",
      "5\n",
      "6\n",
      "7\n",
      "8\n"
     ]
    }
   ],
   "source": [
    "import numpy as np\n",
    " \n",
    "a = np.arange(9).reshape(3,3) \n",
    "print ('原始数组：')\n",
    "for row in a:\n",
    "    print (row)\n",
    " \n",
    "#对数组中每个元素都进行处理，可以使用flat属性，该属性是一个数组元素迭代器：\n",
    "print ('迭代后的数组：')\n",
    "for element in a.flat:\n",
    "    print (element)"
   ]
  },
  {
   "attachments": {},
   "cell_type": "markdown",
   "metadata": {},
   "source": [
    "## 2. 翻转数组\n"
   ]
  },
  {
   "cell_type": "code",
   "execution_count": 94,
   "metadata": {},
   "outputs": [
    {
     "name": "stdout",
     "output_type": "stream",
     "text": [
      "原数组：\n",
      "[[ 0  1  2  3]\n",
      " [ 4  5  6  7]\n",
      " [ 8  9 10 11]]\n",
      "\n",
      "\n",
      "对换数组：\n",
      "[[ 0  4  8]\n",
      " [ 1  5  9]\n",
      " [ 2  6 10]\n",
      " [ 3  7 11]]\n"
     ]
    }
   ],
   "source": [
    "# transpose(arr,axes)\n",
    "\n",
    "import numpy as np\n",
    " \n",
    "a = np.arange(12).reshape(3,4)\n",
    " \n",
    "print ('原数组：')\n",
    "print (a )\n",
    "print ('\\n')\n",
    " \n",
    "print ('对换数组：')\n",
    "print (np.transpose(a))"
   ]
  },
  {
   "cell_type": "code",
   "execution_count": 95,
   "metadata": {},
   "outputs": [
    {
     "name": "stdout",
     "output_type": "stream",
     "text": [
      "原数组：\n",
      "[[[0 1]\n",
      "  [2 3]]\n",
      "\n",
      " [[4 5]\n",
      "  [6 7]]]\n",
      "获取数组中一个值：\n",
      "(array([1]), array([1]), array([0]))\n",
      "6\n",
      "\n",
      "\n",
      "调用 rollaxis 函数：\n",
      "[[[0 2]\n",
      "  [4 6]]\n",
      "\n",
      " [[1 3]\n",
      "  [5 7]]]\n",
      "(array([0]), array([1]), array([1]))\n",
      "\n",
      "\n",
      "调用 rollaxis 函数：\n",
      "[[[0 2]\n",
      "  [1 3]]\n",
      "\n",
      " [[4 6]\n",
      "  [5 7]]]\n",
      "(array([1]), array([0]), array([1]))\n",
      "\n",
      "\n"
     ]
    }
   ],
   "source": [
    "# numpy.rollaxis\n",
    "\n",
    "import numpy as np\n",
    " \n",
    "# 创建了三维的 ndarray\n",
    "a = np.arange(8).reshape(2,2,2)\n",
    " \n",
    "print ('原数组：')\n",
    "print (a)\n",
    "print ('获取数组中一个值：')\n",
    "print(np.where(a==6))   \n",
    "print(a[1,1,0])  # 为 6\n",
    "print ('\\n')\n",
    " \n",
    " \n",
    "# 将轴 2 滚动到轴 0（宽度到深度）\n",
    " \n",
    "print ('调用 rollaxis 函数：')\n",
    "b = np.rollaxis(a,2,0)\n",
    "print (b)\n",
    "# 查看元素 a[1,1,0]，即 6 的坐标，变成 [0, 1, 1]\n",
    "# 最后一个 0 移动到最前面\n",
    "print(np.where(b==6))   \n",
    "print ('\\n')\n",
    " \n",
    "# 将轴 2 滚动到轴 1：（宽度到高度）\n",
    " \n",
    "print ('调用 rollaxis 函数：')\n",
    "c = np.rollaxis(a,2,1)\n",
    "print (c)\n",
    "# 查看元素 a[1,1,0]，即 6 的坐标，变成 [1, 0, 1]\n",
    "# 最后的 0 和 它前面的 1 对换位置\n",
    "print(np.where(c==6))   \n",
    "print ('\\n')"
   ]
  },
  {
   "cell_type": "code",
   "execution_count": 97,
   "metadata": {},
   "outputs": [
    {
     "name": "stdout",
     "output_type": "stream",
     "text": [
      "原数组：\n",
      "[[[0 1]\n",
      "  [2 3]]\n",
      "\n",
      " [[4 5]\n",
      "  [6 7]]]\n",
      "\n",
      "\n",
      "调用 swapaxes 函数后的数组：\n",
      "[[[0 4]\n",
      "  [2 6]]\n",
      "\n",
      " [[1 5]\n",
      "  [3 7]]]\n"
     ]
    }
   ],
   "source": [
    "import numpy as np\n",
    " \n",
    "# 创建了三维的 ndarray\n",
    "a = np.arange(8).reshape(2,2,2)\n",
    " \n",
    "print ('原数组：')\n",
    "print (a)\n",
    "print ('\\n')\n",
    "# 现在交换轴 0（深度方向）到轴 2（宽度方向）\n",
    " \n",
    "print ('调用 swapaxes 函数后的数组：')\n",
    "print (np.swapaxes(a, 2, 0))"
   ]
  },
  {
   "attachments": {},
   "cell_type": "markdown",
   "metadata": {},
   "source": [
    "## 切片操作"
   ]
  },
  {
   "attachments": {},
   "cell_type": "markdown",
   "metadata": {},
   "source": [
    "### 1. 一维数组"
   ]
  },
  {
   "cell_type": "code",
   "execution_count": null,
   "metadata": {},
   "outputs": [],
   "source": [
    "import numpy as np\n",
    "a = np.arange(1,10)\n",
    "print(a) # 123456789\n",
    "print(a[:3]) # 123\n",
    "print(a[3:6]) # 456\n",
    "print(a[6:]) # 789\n",
    "print(a[::-1]) #987654321\n",
    "print(a[:-4:-1]) #987\n",
    "print(a[-4:-7:-1]) #654\n",
    "print(a[-7::-1]) # 321"
   ]
  },
  {
   "attachments": {},
   "cell_type": "markdown",
   "metadata": {},
   "source": [
    "### 2. 多维数组"
   ]
  },
  {
   "attachments": {},
   "cell_type": "markdown",
   "metadata": {},
   "source": [
    "二维数组切片： 数组对象[行操作,列操作]\n",
    "\n",
    "多维：数组对象[1维度,2维度,3维度]"
   ]
  },
  {
   "cell_type": "code",
   "execution_count": null,
   "metadata": {},
   "outputs": [],
   "source": [
    "import numpy as np\n",
    "a = np.arange(1,10)\n",
    "a.resize(3,3) # 更改数组的维度\n",
    "print(a)\n",
    "print(a[:2,:2]) # 拿到 12 行，12 列\n",
    "print(a[::2,::2]) # 拿到 13 行，13 列"
   ]
  },
  {
   "cell_type": "code",
   "execution_count": null,
   "metadata": {},
   "outputs": [],
   "source": [
    "import numpy as np\n",
    "a = np.arange(1,28)\n",
    "a.resize(3,3,3)\n",
    "print(a)\n",
    "\n",
    "print(\"======\")\n",
    "# 切出 1 页\n",
    "print(\"切出 1 页\")\n",
    "print(a[0,:,:])\n",
    "\n",
    "# 切出 所有页的第一行\n",
    "print(\"所有页的第一行\")\n",
    "print(a[:,1,:])\n",
    "\n",
    "# 切出 0 页的 1 行 1 列\n",
    "print(\"切出 0 页的 1 行 1 列\")\n",
    "print(a[0,:,1])"
   ]
  },
  {
   "attachments": {},
   "cell_type": "markdown",
   "metadata": {},
   "source": [
    "### 布尔索引"
   ]
  },
  {
   "cell_type": "code",
   "execution_count": null,
   "metadata": {},
   "outputs": [],
   "source": [
    "# 获取大于 5 的元素\n",
    "\n",
    "import numpy as np\n",
    "x = np.array([[0,1,2],[3,4,5],[6,7,8],[9,10,11]])\n",
    "print ('我们的数组是：')\n",
    "print (x)\n",
    "print ('\\n')\n",
    "# 打印出大于 5 的元素  \n",
    "print  ('大于 5 的元素是：')\n",
    "print (x[x >  5])"
   ]
  },
  {
   "attachments": {},
   "cell_type": "markdown",
   "metadata": {},
   "source": [
    "### 花式索引（利用整数数组）"
   ]
  },
  {
   "attachments": {},
   "cell_type": "markdown",
   "metadata": {},
   "source": [
    "#### 1. 一维数组"
   ]
  },
  {
   "cell_type": "code",
   "execution_count": null,
   "metadata": {},
   "outputs": [],
   "source": [
    "import numpy as np\n",
    "\n",
    "x = np.arange(9)\n",
    "print(x)\n",
    "# 一维数组读取指定下标对应的元素\n",
    "print(\"-------读取下标对应的元素-------\")\n",
    "x2 = x[[0, 6]] # 使用花式索引\n",
    "print(x2)\n",
    "\n",
    "print(x2[0])\n",
    "print(x2[1])"
   ]
  },
  {
   "attachments": {},
   "cell_type": "markdown",
   "metadata": {},
   "source": [
    "#### 2. 二维数组"
   ]
  },
  {
   "attachments": {},
   "cell_type": "markdown",
   "metadata": {},
   "source": [
    "`print(x[[数字]])` 输出对应下标所在的行「下标从 0 开始」"
   ]
  },
  {
   "cell_type": "code",
   "execution_count": null,
   "metadata": {},
   "outputs": [],
   "source": [
    "# 顺序存储\n",
    "import numpy as np \n",
    " \n",
    "x=np.arange(32).reshape((8,4))\n",
    "print(x)\n",
    "# 二维数组读取指定下标对应的行\n",
    "print(\"-------读取下标对应的行-------\")\n",
    "print (x[[4,2,1,7]])"
   ]
  },
  {
   "cell_type": "code",
   "execution_count": null,
   "metadata": {},
   "outputs": [],
   "source": [
    "# 倒序索引\n",
    "import numpy as np \n",
    " \n",
    "x=np.arange(32).reshape((8,4))\n",
    "print (x[[-4,-2,-1,-7]])"
   ]
  },
  {
   "cell_type": "code",
   "execution_count": null,
   "metadata": {},
   "outputs": [],
   "source": [
    "# 传入多个索引数组 要使用np.ix_\n",
    "\n",
    "import numpy as np \n",
    " \n",
    "x=np.arange(32).reshape((8,4))\n",
    "print(x)\n",
    "print(\"======\")\n",
    "print(x[np.ix_([1,5,7,2],[0,3,1,2])])"
   ]
  },
  {
   "attachments": {},
   "cell_type": "markdown",
   "metadata": {},
   "source": [
    "### 掩码操作"
   ]
  },
  {
   "cell_type": "code",
   "execution_count": null,
   "metadata": {},
   "outputs": [],
   "source": [
    "import numpy as np\n",
    "a = np.arange(1,10)\n",
    "mask =[True,False,True,False,True,False,True,False,True]\n",
    "print(a[mask])"
   ]
  },
  {
   "cell_type": "code",
   "execution_count": null,
   "metadata": {},
   "outputs": [],
   "source": [
    "\"\"\"mask掩码 100 的三倍数\"\"\"\n",
    "import numpy as np\n",
    "a = np.arange(1,100)\n",
    "# print(a[a%3 == 0])\n",
    "mask = a%3 == 0 # mask 为 True 和 False 的数组\n",
    "print(a[mask])"
   ]
  },
  {
   "cell_type": "code",
   "execution_count": null,
   "metadata": {},
   "outputs": [],
   "source": [
    "import numpy as np\n",
    "names = np.array(['apple','Mate30','mi','oppo','vivo'])\n",
    "rank = [1,0,3,4,2]\n",
    "print(names[rank])"
   ]
  },
  {
   "attachments": {},
   "cell_type": "markdown",
   "metadata": {},
   "source": [
    "## 数组操作"
   ]
  },
  {
   "attachments": {},
   "cell_type": "markdown",
   "metadata": {},
   "source": [
    "### 1. 垂直方向"
   ]
  },
  {
   "cell_type": "code",
   "execution_count": null,
   "metadata": {},
   "outputs": [],
   "source": [
    "import numpy as np \n",
    "a = np.arange(1,7).reshape(2,3)\n",
    "b = np.arange(7,13).reshape(2,3)\n",
    "print(a)\n",
    "print(b)\n",
    "# 垂直方向完成组合操作，生成新数组\n",
    "c = np.vstack((a,b))\n",
    "print(c)\n",
    "# 垂直方向完成拆分操作，生成两个数组\n",
    "d,e=np.vsplit(c,2)  # 拆几个 就需要用几个变量来进行接受"
   ]
  },
  {
   "attachments": {},
   "cell_type": "markdown",
   "metadata": {},
   "source": [
    "### 2. 水平方向"
   ]
  },
  {
   "cell_type": "code",
   "execution_count": null,
   "metadata": {},
   "outputs": [],
   "source": [
    "import numpy as np \n",
    "a = np.arange(1,7).reshape(2,3)\n",
    "b = np.arange(7,13).reshape(2,3)\n",
    "\n",
    "#水平方向\n",
    "c = np.hstack((a,b))\n",
    "print(c)\n",
    "d,e = np.hsplit(c,2)"
   ]
  },
  {
   "attachments": {},
   "cell_type": "markdown",
   "metadata": {},
   "source": [
    "### 3. 深度方向操作"
   ]
  },
  {
   "cell_type": "code",
   "execution_count": null,
   "metadata": {},
   "outputs": [],
   "source": [
    "import numpy as np \n",
    "a = np.arange(1,7).reshape(2,3)\n",
    "b = np.arange(7,13).reshape(2,3)\n",
    "#深度方向\n",
    "i = np.dstack((a,b))\n",
    "print(i)\n",
    "d,e = np.dsplit(c,2)"
   ]
  },
  {
   "attachments": {},
   "cell_type": "markdown",
   "metadata": {},
   "source": [
    "### hstack 水平堆叠"
   ]
  },
  {
   "cell_type": "code",
   "execution_count": 119,
   "metadata": {},
   "outputs": [
    {
     "name": "stdout",
     "output_type": "stream",
     "text": [
      "第一个数组：\n",
      "[[1 2]\n",
      " [3 4]]\n",
      "\n",
      "\n",
      "第二个数组：\n",
      "[[5 6]\n",
      " [7 8]]\n",
      "\n",
      "\n",
      "水平堆叠：\n",
      "[[1 2 5 6]\n",
      " [3 4 7 8]]\n",
      "\n",
      "\n"
     ]
    }
   ],
   "source": [
    "import numpy as np\n",
    " \n",
    "a = np.array([[1,2],[3,4]])\n",
    " \n",
    "print ('第一个数组：')\n",
    "print (a)\n",
    "print ('\\n')\n",
    "b = np.array([[5,6],[7,8]])\n",
    " \n",
    "print ('第二个数组：')\n",
    "print (b)\n",
    "print ('\\n')\n",
    " \n",
    "print ('水平堆叠：')\n",
    "c = np.hstack((a,b))\n",
    "print (c)\n",
    "print ('\\n')"
   ]
  },
  {
   "attachments": {},
   "cell_type": "markdown",
   "metadata": {},
   "source": [
    "###  vstack垂直堆叠"
   ]
  },
  {
   "cell_type": "code",
   "execution_count": 120,
   "metadata": {},
   "outputs": [
    {
     "name": "stdout",
     "output_type": "stream",
     "text": [
      "第一个数组：\n",
      "[[1 2]\n",
      " [3 4]]\n",
      "\n",
      "\n",
      "第二个数组：\n",
      "[[5 6]\n",
      " [7 8]]\n",
      "\n",
      "\n",
      "竖直堆叠：\n",
      "[[1 2]\n",
      " [3 4]\n",
      " [5 6]\n",
      " [7 8]]\n"
     ]
    }
   ],
   "source": [
    "import numpy as np\n",
    " \n",
    "a = np.array([[1,2],[3,4]])\n",
    " \n",
    "print ('第一个数组：')\n",
    "print (a)\n",
    "print ('\\n')\n",
    "b = np.array([[5,6],[7,8]])\n",
    " \n",
    "print ('第二个数组：')\n",
    "print (b)\n",
    "print ('\\n')\n",
    " \n",
    "print ('竖直堆叠：')\n",
    "c = np.vstack((a,b))\n",
    "print (c)"
   ]
  },
  {
   "attachments": {},
   "cell_type": "markdown",
   "metadata": {},
   "source": [
    "## 二维位置"
   ]
  },
  {
   "attachments": {},
   "cell_type": "markdown",
   "metadata": {},
   "source": [
    "### AXIS = 0 列方向"
   ]
  },
  {
   "cell_type": "code",
   "execution_count": 115,
   "metadata": {},
   "outputs": [
    {
     "name": "stdout",
     "output_type": "stream",
     "text": [
      "[2 2 1 2]\n"
     ]
    }
   ],
   "source": [
    "import numpy as np\n",
    "arr = np.array([[3, 6, 6, 2], [4, 7, 11, 2], [5, 9, 1, 3]])\n",
    "\n",
    "np.argmax(arr, axis=0)\n",
    "\n",
    "print(np.argmax(arr, axis=0))"
   ]
  },
  {
   "attachments": {},
   "cell_type": "markdown",
   "metadata": {},
   "source": [
    "第一步：axis=0对应最外层[]，其内最大单位块为：[ 3, 6, 6, 2]、 [ 4, 7, 11, 2]和[ 5, 9, 1, 3]\n",
    "第二步：单位块是数组，两者对应下标元素进行计算，即：argmax([3，4，5])、argmax([6，7，9])、argmax([6，11，1])、argmax([2，2，3])，得到4个最大值索引值：2、2、1、2，得到索引值数组：[2 2 1 2]"
   ]
  },
  {
   "attachments": {},
   "cell_type": "markdown",
   "metadata": {},
   "source": [
    "### AXIS = 1 行方向"
   ]
  },
  {
   "cell_type": "code",
   "execution_count": 116,
   "metadata": {},
   "outputs": [
    {
     "name": "stdout",
     "output_type": "stream",
     "text": [
      "[1 2 1]\n"
     ]
    }
   ],
   "source": [
    "import numpy as np\n",
    "arr = np.array([[3, 6, 6, 2], [4, 7, 11, 2], [5, 9, 1, 3]])\n",
    "print(np.argmax(arr, axis=1))"
   ]
  },
  {
   "attachments": {},
   "cell_type": "markdown",
   "metadata": {},
   "source": [
    "第一步：axis=1对应第二层[]，其内最大单位块为：3, 6, 6, 2 和 4, 7, 11, 2 和 5, 9, 1, 3\n",
    "第二步：单位块是数值，直接进行计算，即：argmax([3，6，6，2])、argmax([4，7，11，2])、argmax([5，9，1，3])，得到3个最大值索引值：1、2、1，得到索引数组：[1 2 1]"
   ]
  },
  {
   "attachments": {},
   "cell_type": "markdown",
   "metadata": {},
   "source": [
    "## 三维位置"
   ]
  },
  {
   "cell_type": "code",
   "execution_count": 114,
   "metadata": {},
   "outputs": [
    {
     "name": "stdout",
     "output_type": "stream",
     "text": [
      "[[[ 0  1  2  3]\n",
      "  [ 4  5  6  7]\n",
      "  [ 8  9 10 11]]\n",
      "\n",
      " [[12 13 14 15]\n",
      "  [16 17 18 19]\n",
      "  [20 21 22 23]]]\n",
      "=======\n",
      "[[[ 0  1  2  3]\n",
      "  [12 13 14 15]]\n",
      "\n",
      " [[ 4  5  6  7]\n",
      "  [16 17 18 19]]\n",
      "\n",
      " [[ 8  9 10 11]\n",
      "  [20 21 22 23]]]\n",
      "+++++++\n",
      "[[[ 0  4  8]\n",
      "  [ 1  5  9]\n",
      "  [ 2  6 10]\n",
      "  [ 3  7 11]]\n",
      "\n",
      " [[12 16 20]\n",
      "  [13 17 21]\n",
      "  [14 18 22]\n",
      "  [15 19 23]]]\n"
     ]
    }
   ],
   "source": [
    "import numpy as np\n",
    "data_array = np.arange(24).reshape(2,3,4)\n",
    "# 生成一个 2 页，3 行，4 列的数组\n",
    "print(data_array)\n",
    "print(\"=======\")\n",
    "data2 = data_array.transpose(1,0,2) # 将轴 0 和轴 1 互换\n",
    "print(data2)\n",
    "print(\"+++++++\")\n",
    "data3 = data_array.swapaxes(1,2) # 轴 1 和轴 2 互换\n",
    "print(data3)"
   ]
  },
  {
   "cell_type": "code",
   "execution_count": 118,
   "metadata": {},
   "outputs": [
    {
     "name": "stdout",
     "output_type": "stream",
     "text": [
      "[[2 1 0 0]\n",
      " [0 2 0 0]\n",
      " [1 0 2 0]]\n",
      "[[1 2 0 1]\n",
      " [1 0 2 1]\n",
      " [0 1 2 1]]\n",
      "[[1 0 1]\n",
      " [1 0 2]\n",
      " [0 1 2]]\n"
     ]
    }
   ],
   "source": [
    "import numpy as np\n",
    "arr = np.array([[[1, 5, 5, 2], \n",
    "                 [9, -6, 2, 8], \n",
    "                 [-3, 7, -9, 1]], \n",
    "                \n",
    "                [[-1, 7, -5, 2], \n",
    "                 [9, 6, 2, 8], \n",
    "                 [3, 7, 9, 1]], \n",
    "                \n",
    "                [[21, 6, -5, 2], \n",
    "                 [9, 36, 2, 8], \n",
    "                 [2, 7, 66, 1]]])\n",
    "\n",
    "print(np.argmax(arr, axis=0))\n",
    "print(np.argmax(arr, axis=1))\n",
    "print(np.argmax(arr, axis=2))"
   ]
  },
  {
   "attachments": {},
   "cell_type": "markdown",
   "metadata": {},
   "source": [
    "### 迭代数组"
   ]
  },
  {
   "attachments": {},
   "cell_type": "markdown",
   "metadata": {},
   "source": [
    "NumPy 迭代器对象 numpy.nditer 提供了一种灵活访问一个或者多个数组元素的方式。\n",
    "\n",
    "迭代器最基本的任务的可以完成对数组元素的访问。\n",
    "\n",
    "接下来我们使用 arange() 函数创建一个 2X3 数组，并使用 nditer 对它进行迭代。"
   ]
  },
  {
   "cell_type": "code",
   "execution_count": 91,
   "metadata": {},
   "outputs": [
    {
     "name": "stdout",
     "output_type": "stream",
     "text": [
      "原始数组是：\n",
      "[[0 1 2]\n",
      " [3 4 5]]\n",
      "\n",
      "\n",
      "迭代输出元素：\n",
      "0, 1, 2, 3, 4, 5, \n",
      "\n"
     ]
    }
   ],
   "source": [
    "import numpy as np\n",
    " \n",
    "a = np.arange(6).reshape(2,3)\n",
    "print ('原始数组是：')\n",
    "print (a)\n",
    "print ('\\n')\n",
    "print ('迭代输出元素：')\n",
    "for x in np.nditer(a):\n",
    "    print (x, end=\", \" )\n",
    "print ('\\n')\n"
   ]
  },
  {
   "cell_type": "code",
   "execution_count": 88,
   "metadata": {},
   "outputs": [
    {
     "name": "stdout",
     "output_type": "stream",
     "text": [
      "原始数组是：\n",
      "[[ 0  5 10 15]\n",
      " [20 25 30 35]\n",
      " [40 45 50 55]]\n",
      "\n",
      "\n",
      "原始数组的转置是：\n",
      "[[ 0 20 40]\n",
      " [ 5 25 45]\n",
      " [10 30 50]\n",
      " [15 35 55]]\n",
      "\n",
      "\n",
      "以 C 风格顺序排序：\n",
      "[[ 0 20 40]\n",
      " [ 5 25 45]\n",
      " [10 30 50]\n",
      " [15 35 55]]\n",
      "0, 20, 40, 5, 25, 45, 10, 30, 50, 15, 35, 55, \n",
      "\n",
      "以 F 风格顺序排序：\n",
      "[[ 0 20 40]\n",
      " [ 5 25 45]\n",
      " [10 30 50]\n",
      " [15 35 55]]\n",
      "0, 5, 10, 15, 20, 25, 30, 35, 40, 45, 50, 55, "
     ]
    }
   ],
   "source": [
    "# for x in np.nditer(a, order='F'):Fortran order，即是列序优先\n",
    "# for x in np.nditer(a.T, order='C'):C order，即是行序优先 \n",
    "\n",
    "import numpy as np\n",
    " \n",
    "a = np.arange(0,60,5) \n",
    "a = a.reshape(3,4)  \n",
    "print ('原始数组是：') \n",
    "print (a) \n",
    "print ('\\n') \n",
    "print ('原始数组的转置是：') \n",
    "b = a.T \n",
    "print (b) \n",
    "print ('\\n') \n",
    "print ('以 C 风格顺序排序：') \n",
    "c = b.copy(order='C')  \n",
    "print (c)\n",
    "for x in np.nditer(c):  \n",
    "    print (x, end=\", \" )\n",
    "print  ('\\n') \n",
    "print  ('以 F 风格顺序排序：')\n",
    "c = b.copy(order='F')  \n",
    "print (c)\n",
    "for x in np.nditer(c):  \n",
    "    print (x, end=\", \" )"
   ]
  },
  {
   "cell_type": "code",
   "execution_count": 90,
   "metadata": {},
   "outputs": [
    {
     "name": "stdout",
     "output_type": "stream",
     "text": [
      "原始数组是：\n",
      "[[ 0  5 10 15]\n",
      " [20 25 30 35]\n",
      " [40 45 50 55]]\n",
      "\n",
      "\n",
      "修改后的数组是：\n",
      "[[  0  10  20  30]\n",
      " [ 40  50  60  70]\n",
      " [ 80  90 100 110]]\n"
     ]
    }
   ],
   "source": [
    "import numpy as np\n",
    " \n",
    "a = np.arange(0,60,5) \n",
    "a = a.reshape(3,4)  \n",
    "print ('原始数组是：')\n",
    "print (a)\n",
    "print ('\\n')\n",
    "for x in np.nditer(a, op_flags=['readwrite']): \n",
    "    x[...]=2*x \n",
    "print ('修改后的数组是：')\n",
    "print (a)"
   ]
  },
  {
   "attachments": {},
   "cell_type": "markdown",
   "metadata": {},
   "source": [
    "### 使用外部循环\n",
    "nditer 类的构造器拥有 flags 参数，它可以接受下列值：\n",
    "\n",
    "参数\t             描述\n",
    "c_index\t            可以跟踪 C 顺序的索引\n",
    "f_index\t            可以跟踪 Fortran 顺序的索引\n",
    "multi_index\t        每次迭代可以跟踪一种索引类型\n",
    "external_loop\t    给出的值是具有多个值的一维数组，而不是零维数组"
   ]
  },
  {
   "cell_type": "code",
   "execution_count": 89,
   "metadata": {},
   "outputs": [
    {
     "name": "stdout",
     "output_type": "stream",
     "text": [
      "原始数组是：\n",
      "[[ 0  5 10 15]\n",
      " [20 25 30 35]\n",
      " [40 45 50 55]]\n",
      "\n",
      "\n",
      "修改后的数组是：\n",
      "[ 0 20 40], [ 5 25 45], [10 30 50], [15 35 55], "
     ]
    }
   ],
   "source": [
    "import numpy as np \n",
    "a = np.arange(0,60,5) \n",
    "a = a.reshape(3,4)  \n",
    "print ('原始数组是：')\n",
    "print (a)\n",
    "print ('\\n')\n",
    "print ('修改后的数组是：')\n",
    "for x in np.nditer(a, flags =  ['external_loop'], order =  'F'):  \n",
    "   print (x, end=\", \" )"
   ]
  },
  {
   "attachments": {},
   "cell_type": "markdown",
   "metadata": {},
   "source": [
    "### 广播迭代"
   ]
  },
  {
   "cell_type": "code",
   "execution_count": 92,
   "metadata": {},
   "outputs": [
    {
     "name": "stdout",
     "output_type": "stream",
     "text": [
      "第一个数组为：\n",
      "[[ 0  5 10 15]\n",
      " [20 25 30 35]\n",
      " [40 45 50 55]]\n",
      "\n",
      "\n",
      "第二个数组为：\n",
      "[1 2 3 4]\n",
      "\n",
      "\n",
      "修改后的数组为：\n",
      "0:1, 5:2, 10:3, 15:4, 20:1, 25:2, 30:3, 35:4, 40:1, 45:2, 50:3, 55:4, "
     ]
    }
   ],
   "source": [
    "import numpy as np \n",
    " \n",
    "a = np.arange(0,60,5) \n",
    "a = a.reshape(3,4)  \n",
    "print  ('第一个数组为：')\n",
    "print (a)\n",
    "print  ('\\n')\n",
    "print ('第二个数组为：')\n",
    "b = np.array([1,  2,  3,  4], dtype =  int)  \n",
    "print (b)\n",
    "print ('\\n')\n",
    "print ('修改后的数组为：')\n",
    "for x,y in np.nditer([a,b]):  \n",
    "    print (\"%d:%d\"  %  (x,y), end=\", \" )"
   ]
  },
  {
   "attachments": {},
   "cell_type": "markdown",
   "metadata": {},
   "source": [
    "## 数组计算\n",
    "\n",
    "### 1. 广播 broadcast"
   ]
  },
  {
   "cell_type": "code",
   "execution_count": null,
   "metadata": {},
   "outputs": [],
   "source": [
    "import numpy as np \n",
    " \n",
    "a = np.array([1,2,3,4]) \n",
    "b = np.array([10,20,30,40]) \n",
    "c = a * b \n",
    "print (c)"
   ]
  },
  {
   "cell_type": "code",
   "execution_count": null,
   "metadata": {},
   "outputs": [],
   "source": [
    "# 当运算中的 2 个数组的形状不同时，numpy 将自动触发广播机制\n",
    "import numpy as np \n",
    " \n",
    "a = np.array([[ 0, 0, 0],\n",
    "           [10,10,10],\n",
    "           [20,20,20],\n",
    "           [30,30,30]])\n",
    "b = np.array([0,1,2])\n",
    "print(a + b)"
   ]
  },
  {
   "cell_type": "code",
   "execution_count": 107,
   "metadata": {},
   "outputs": [
    {
     "name": "stdout",
     "output_type": "stream",
     "text": [
      "对 y 广播 x：\n",
      "1 4\n",
      "1 5\n",
      "\n",
      "\n",
      "广播对象的形状：\n",
      "(3, 3)\n",
      "\n",
      "\n",
      "手动使用 broadcast 将 x 与 y 相加：\n",
      "(3, 3)\n",
      "\n",
      "\n",
      "调用 flat 函数：\n",
      "[[5. 6. 7.]\n",
      " [6. 7. 8.]\n",
      " [7. 8. 9.]]\n",
      "\n",
      "\n",
      "x 与 y 的和：\n",
      "[[5 6 7]\n",
      " [6 7 8]\n",
      " [7 8 9]]\n"
     ]
    }
   ],
   "source": [
    "import numpy as np\n",
    " \n",
    "x = np.array([[1], [2], [3]])\n",
    "y = np.array([4, 5, 6])  \n",
    " \n",
    "# 对 y 广播 x\n",
    "b = np.broadcast(x,y)  \n",
    "# 它拥有 iterator 属性，基于自身组件的迭代器元组\n",
    " \n",
    "print ('对 y 广播 x：')\n",
    "r,c = b.iters\n",
    " \n",
    "# Python3.x 为 next(context) ，Python2.x 为 context.next()\n",
    "print (next(r), next(c))\n",
    "print (next(r), next(c))\n",
    "print ('\\n')\n",
    "# shape 属性返回广播对象的形状\n",
    " \n",
    "print ('广播对象的形状：')\n",
    "print (b.shape)\n",
    "print ('\\n')\n",
    "# 手动使用 broadcast 将 x 与 y 相加\n",
    "b = np.broadcast(x,y)\n",
    "c = np.empty(b.shape)\n",
    " \n",
    "print ('手动使用 broadcast 将 x 与 y 相加：')\n",
    "print (c.shape)\n",
    "print ('\\n')\n",
    "c.flat = [u + v for (u,v) in b]\n",
    " \n",
    "print ('调用 flat 函数：')\n",
    "print (c)\n",
    "print ('\\n')\n",
    "# 获得了和 NumPy 内建的广播支持相同的结果\n",
    " \n",
    "print ('x 与 y 的和：')\n",
    "print (x + y)"
   ]
  },
  {
   "attachments": {},
   "cell_type": "markdown",
   "metadata": {},
   "source": [
    "# 连接数组\n"
   ]
  },
  {
   "cell_type": "code",
   "execution_count": 108,
   "metadata": {},
   "outputs": [
    {
     "name": "stdout",
     "output_type": "stream",
     "text": [
      "第一个数组：\n",
      "[[1 2]\n",
      " [3 4]]\n",
      "\n",
      "\n",
      "第二个数组：\n",
      "[[5 6]\n",
      " [7 8]]\n",
      "\n",
      "\n",
      "沿轴 0 连接两个数组：\n",
      "[[1 2]\n",
      " [3 4]\n",
      " [5 6]\n",
      " [7 8]]\n",
      "\n",
      "\n",
      "沿轴 1 连接两个数组：\n",
      "[[1 2 5 6]\n",
      " [3 4 7 8]]\n"
     ]
    }
   ],
   "source": [
    "# numpy.concatenate\n",
    "import numpy as np\n",
    " \n",
    "a = np.array([[1,2],[3,4]])\n",
    " \n",
    "print ('第一个数组：')\n",
    "print (a)\n",
    "print ('\\n')\n",
    "b = np.array([[5,6],[7,8]])\n",
    " \n",
    "print ('第二个数组：')\n",
    "print (b)\n",
    "print ('\\n')\n",
    "# 两个数组的维度相同\n",
    " \n",
    "print ('沿轴 0 连接两个数组：')\n",
    "print (np.concatenate((a,b)))\n",
    "print ('\\n')\n",
    " \n",
    "print ('沿轴 1 连接两个数组：')\n",
    "print (np.concatenate((a,b),axis = 1))"
   ]
  },
  {
   "cell_type": "code",
   "execution_count": 109,
   "metadata": {},
   "outputs": [
    {
     "name": "stdout",
     "output_type": "stream",
     "text": [
      "第一个数组：\n",
      "[[1 2]\n",
      " [3 4]]\n",
      "\n",
      "\n",
      "第二个数组：\n",
      "[[5 6]\n",
      " [7 8]]\n",
      "\n",
      "\n",
      "沿轴 0 堆叠两个数组：\n",
      "[[[1 2]\n",
      "  [3 4]]\n",
      "\n",
      " [[5 6]\n",
      "  [7 8]]]\n",
      "\n",
      "\n",
      "沿轴 1 堆叠两个数组：\n",
      "[[[1 2]\n",
      "  [5 6]]\n",
      "\n",
      " [[3 4]\n",
      "  [7 8]]]\n"
     ]
    }
   ],
   "source": [
    "# stack\n",
    "import numpy as np\n",
    " \n",
    "a = np.array([[1,2],[3,4]])\n",
    " \n",
    "print ('第一个数组：')\n",
    "print (a)\n",
    "print ('\\n')\n",
    "b = np.array([[5,6],[7,8]])\n",
    " \n",
    "print ('第二个数组：')\n",
    "print (b)\n",
    "print ('\\n')\n",
    " \n",
    "print ('沿轴 0 堆叠两个数组：')\n",
    "print (np.stack((a,b),0))\n",
    "print ('\\n')\n",
    " \n",
    "print ('沿轴 1 堆叠两个数组：')\n",
    "print (np.stack((a,b),1))"
   ]
  },
  {
   "attachments": {},
   "cell_type": "markdown",
   "metadata": {},
   "source": [
    "## 分割数组"
   ]
  },
  {
   "cell_type": "code",
   "execution_count": 121,
   "metadata": {},
   "outputs": [
    {
     "name": "stdout",
     "output_type": "stream",
     "text": [
      "第一个数组：\n",
      "[[ 0  1  2  3]\n",
      " [ 4  5  6  7]\n",
      " [ 8  9 10 11]\n",
      " [12 13 14 15]]\n",
      "\n",
      "\n",
      "默认分割（0轴）：\n",
      "[array([[0, 1, 2, 3],\n",
      "       [4, 5, 6, 7]]), array([[ 8,  9, 10, 11],\n",
      "       [12, 13, 14, 15]])]\n",
      "\n",
      "\n",
      "沿水平方向分割：\n",
      "[array([[ 0,  1],\n",
      "       [ 4,  5],\n",
      "       [ 8,  9],\n",
      "       [12, 13]]), array([[ 2,  3],\n",
      "       [ 6,  7],\n",
      "       [10, 11],\n",
      "       [14, 15]])]\n",
      "\n",
      "\n",
      "沿水平方向分割：\n",
      "[array([[ 0,  1],\n",
      "       [ 4,  5],\n",
      "       [ 8,  9],\n",
      "       [12, 13]]), array([[ 2,  3],\n",
      "       [ 6,  7],\n",
      "       [10, 11],\n",
      "       [14, 15]])]\n"
     ]
    }
   ],
   "source": [
    "import numpy as np\n",
    "\n",
    "a = np.arange(16).reshape(4, 4)\n",
    "print('第一个数组：')\n",
    "print(a)\n",
    "print('\\n')\n",
    "print('默认分割（0轴）：')\n",
    "b = np.split(a,2)\n",
    "print(b)\n",
    "print('\\n')\n",
    "\n",
    "print('沿水平方向分割：')\n",
    "c = np.split(a,2,1)\n",
    "print(c)\n",
    "print('\\n')\n",
    "\n",
    "print('沿水平方向分割：')\n",
    "d= np.hsplit(a,2)\n",
    "print(d)"
   ]
  },
  {
   "cell_type": "code",
   "execution_count": 122,
   "metadata": {},
   "outputs": [
    {
     "name": "stdout",
     "output_type": "stream",
     "text": [
      "原array：\n",
      "[[3. 8. 6. 7. 6. 6.]\n",
      " [2. 6. 4. 0. 7. 5.]]\n",
      "拆分后：\n",
      "[array([[3., 8.],\n",
      "       [2., 6.]]), array([[6., 7.],\n",
      "       [4., 0.]]), array([[6., 6.],\n",
      "       [7., 5.]])]\n"
     ]
    }
   ],
   "source": [
    "# hsplit 沿着水平分割数组\n",
    "import numpy as np\n",
    " \n",
    "harr = np.floor(10 * np.random.random((2, 6)))\n",
    "print ('原array：')\n",
    "print(harr)\n",
    " \n",
    "print ('拆分后：')\n",
    "print(np.hsplit(harr, 3))"
   ]
  },
  {
   "cell_type": "code",
   "execution_count": 123,
   "metadata": {},
   "outputs": [
    {
     "name": "stdout",
     "output_type": "stream",
     "text": [
      "第一个数组：\n",
      "[[ 0  1  2  3]\n",
      " [ 4  5  6  7]\n",
      " [ 8  9 10 11]\n",
      " [12 13 14 15]]\n",
      "\n",
      "\n",
      "竖直分割：\n",
      "[array([[0, 1, 2, 3],\n",
      "       [4, 5, 6, 7]]), array([[ 8,  9, 10, 11],\n",
      "       [12, 13, 14, 15]])]\n"
     ]
    }
   ],
   "source": [
    "# vsplit 沿着垂直分割数组\n",
    "import numpy as np\n",
    " \n",
    "a = np.arange(16).reshape(4,4)\n",
    " \n",
    "print ('第一个数组：')\n",
    "print (a)\n",
    "print ('\\n')\n",
    " \n",
    "print ('竖直分割：')\n",
    "b = np.vsplit(a,2)\n",
    "print (b)"
   ]
  },
  {
   "cell_type": "code",
   "execution_count": 126,
   "metadata": {},
   "outputs": [
    {
     "name": "stdout",
     "output_type": "stream",
     "text": [
      "第一个数组：\n",
      "[[1 2]\n",
      " [3 4]\n",
      " [5 6]]\n",
      "\n",
      "\n",
      "未传递 Axis 参数。 在删除之前输入数组会被展开。\n",
      "[ 1  2  3 11 12  4  5  6]\n",
      "\n",
      "\n",
      "传递 axis 参数\n",
      "[[ 1  2]\n",
      " [11 12]\n",
      " [ 3  4]\n",
      " [ 5  6]]\n",
      "\n",
      "\n",
      "传递了 Axis 参数。 会广播值数组来配输入数组。\n",
      "沿轴 0 广播：\n",
      "[[ 1  2]\n",
      " [11 11]\n",
      " [ 3  4]\n",
      " [ 5  6]]\n",
      "\n",
      "\n",
      "沿轴 1 广播：\n",
      "[[ 1 11  2]\n",
      " [ 3 11  4]\n",
      " [ 5 11  6]]\n"
     ]
    }
   ],
   "source": [
    "import numpy as np\n",
    " \n",
    "a = np.array([[1,2],[3,4],[5,6]])\n",
    " \n",
    "print ('第一个数组：')\n",
    "print (a)\n",
    "print ('\\n')\n",
    " \n",
    "print ('未传递 Axis 参数。 在删除之前输入数组会被展开。')\n",
    "print (np.insert(a,3,[11,12]))\n",
    "print ('\\n')\n",
    "\n",
    "print('传递 axis 参数')\n",
    "print (np.insert(a,1,[11,12],axis = 0))\n",
    "print ('\\n')\n",
    "print ('传递了 Axis 参数。 会广播值数组来配输入数组。')\n",
    " \n",
    "print ('沿轴 0 广播：')\n",
    "print (np.insert(a,1,[11],axis = 0))\n",
    "print ('\\n')\n",
    " \n",
    "print ('沿轴 1 广播：')\n",
    "print (np.insert(a,1,11,axis = 1))"
   ]
  },
  {
   "cell_type": "code",
   "execution_count": 127,
   "metadata": {},
   "outputs": [
    {
     "name": "stdout",
     "output_type": "stream",
     "text": [
      "第一个数组：\n",
      "[5 2 6 2 7 5 6 8 2 9]\n",
      "\n",
      "\n",
      "第一个数组的去重值：\n",
      "[2 5 6 7 8 9]\n",
      "\n",
      "\n",
      "去重数组的索引数组：\n",
      "[1 0 2 4 7 9]\n",
      "\n",
      "\n",
      "我们可以看到每个和原数组下标对应的数值：\n",
      "[5 2 6 2 7 5 6 8 2 9]\n",
      "\n",
      "\n",
      "去重数组的下标：\n",
      "[2 5 6 7 8 9]\n",
      "\n",
      "\n",
      "下标为：\n",
      "[1 0 2 0 3 1 2 4 0 5]\n",
      "\n",
      "\n",
      "使用下标重构原数组：\n",
      "[5 2 6 2 7 5 6 8 2 9]\n",
      "\n",
      "\n",
      "返回去重元素的重复数量：\n",
      "[2 5 6 7 8 9]\n",
      "[3 2 2 1 1 1]\n"
     ]
    }
   ],
   "source": [
    "import numpy as np\n",
    " \n",
    "a = np.array([5,2,6,2,7,5,6,8,2,9])\n",
    " \n",
    "print ('第一个数组：')\n",
    "print (a)\n",
    "print ('\\n')\n",
    " \n",
    "print ('第一个数组的去重值：')\n",
    "u = np.unique(a)\n",
    "print (u)\n",
    "print ('\\n')\n",
    " \n",
    "print ('去重数组的索引数组：')\n",
    "u,indices = np.unique(a, return_index = True)\n",
    "print (indices)\n",
    "print ('\\n')\n",
    " \n",
    "print ('我们可以看到每个和原数组下标对应的数值：')\n",
    "print (a)\n",
    "print ('\\n')\n",
    " \n",
    "print ('去重数组的下标：')\n",
    "u,indices = np.unique(a,return_inverse = True)\n",
    "print (u)\n",
    "print ('\\n')\n",
    " \n",
    "print ('下标为：')\n",
    "print (indices)\n",
    "print ('\\n')\n",
    " \n",
    "print ('使用下标重构原数组：')\n",
    "print (u[indices])\n",
    "print ('\\n')\n",
    " \n",
    "print ('返回去重元素的重复数量：')\n",
    "u,indices = np.unique(a,return_counts = True)\n",
    "print (u)\n",
    "print (indices)"
   ]
  },
  {
   "attachments": {},
   "cell_type": "markdown",
   "metadata": {},
   "source": [
    "### 算术函数"
   ]
  },
  {
   "cell_type": "code",
   "execution_count": 1,
   "metadata": {},
   "outputs": [
    {
     "name": "stdout",
     "output_type": "stream",
     "text": [
      "第一个数组：\n",
      "[[0. 1. 2.]\n",
      " [3. 4. 5.]\n",
      " [6. 7. 8.]]\n",
      "\n",
      "\n",
      "第二个数组：\n",
      "[10 10 10]\n",
      "\n",
      "\n",
      "两个数组相加：\n",
      "[[10. 11. 12.]\n",
      " [13. 14. 15.]\n",
      " [16. 17. 18.]]\n",
      "\n",
      "\n",
      "两个数组相减：\n",
      "[[-10.  -9.  -8.]\n",
      " [ -7.  -6.  -5.]\n",
      " [ -4.  -3.  -2.]]\n",
      "\n",
      "\n",
      "两个数组相乘：\n",
      "[[ 0. 10. 20.]\n",
      " [30. 40. 50.]\n",
      " [60. 70. 80.]]\n",
      "\n",
      "\n",
      "两个数组相除：\n",
      "[[0.  0.1 0.2]\n",
      " [0.3 0.4 0.5]\n",
      " [0.6 0.7 0.8]]\n"
     ]
    }
   ],
   "source": [
    "import numpy as np\n",
    "a = np.arange(9,dtype = np.float_).reshape(3,3)\n",
    "print ('第一个数组：')\n",
    "print (a)\n",
    "print ('\\n')\n",
    "print ('第二个数组：')\n",
    "b = np.array([10,10,10])  \n",
    "print (b)\n",
    "print ('\\n')\n",
    "print ('两个数组相加：')\n",
    "print (np.add(a,b))\n",
    "print ('\\n')\n",
    "print ('两个数组相减：')\n",
    "print (np.subtract(a,b))\n",
    "print ('\\n')\n",
    "print ('两个数组相乘：')\n",
    "print (np.multiply(a,b))\n",
    "print ('\\n')\n",
    "print ('两个数组相除：')\n",
    "print (np.divide(a,b))"
   ]
  },
  {
   "attachments": {},
   "cell_type": "markdown",
   "metadata": {},
   "source": [
    "numpy.amin() 用于计算数组中的元素沿指定轴的最小值。\n",
    "\n",
    "numpy.amax() 用于计算数组中的元素沿指定轴的最大值"
   ]
  },
  {
   "cell_type": "code",
   "execution_count": 2,
   "metadata": {},
   "outputs": [
    {
     "name": "stdout",
     "output_type": "stream",
     "text": [
      "我们的数组是：\n",
      "[[3 7 5]\n",
      " [8 4 3]\n",
      " [2 4 9]]\n",
      "\n",
      "\n",
      "调用 amin() 函数：\n",
      "[3 3 2]\n",
      "\n",
      "\n",
      "再次调用 amin() 函数：\n",
      "[2 4 3]\n",
      "\n",
      "\n",
      "调用 amax() 函数：\n",
      "9\n",
      "\n",
      "\n",
      "再次调用 amax() 函数：\n",
      "[8 7 9]\n"
     ]
    }
   ],
   "source": [
    "import numpy as np \n",
    " \n",
    "a = np.array([[3,7,5],[8,4,3],[2,4,9]])  \n",
    "print ('我们的数组是：')\n",
    "print (a)\n",
    "print ('\\n')\n",
    "print ('调用 amin() 函数：')\n",
    "print (np.amin(a,1))\n",
    "print ('\\n')\n",
    "print ('再次调用 amin() 函数：')\n",
    "print (np.amin(a,0))\n",
    "print ('\\n')\n",
    "print ('调用 amax() 函数：')\n",
    "print (np.amax(a))\n",
    "print ('\\n')\n",
    "print ('再次调用 amax() 函数：')\n",
    "print (np.amax(a, axis =  0))"
   ]
  }
 ],
 "metadata": {
  "kernelspec": {
   "display_name": "base",
   "language": "python",
   "name": "python3"
  },
  "language_info": {
   "codemirror_mode": {
    "name": "ipython",
    "version": 3
   },
   "file_extension": ".py",
   "mimetype": "text/x-python",
   "name": "python",
   "nbconvert_exporter": "python",
   "pygments_lexer": "ipython3",
   "version": "3.10.11"
  },
  "orig_nbformat": 4
 },
 "nbformat": 4,
 "nbformat_minor": 2
}
